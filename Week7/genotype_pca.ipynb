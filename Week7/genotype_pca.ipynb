{
 "cells": [
  {
   "cell_type": "code",
   "execution_count": 3,
   "metadata": {},
   "outputs": [],
   "source": [
    "import numpy as np\n",
    "import pandas as pd\n",
    "import matplotlib.pyplot as plt\n",
    "from sklearn import decomposition\n",
    "import altair as alt"
   ]
  },
  {
   "cell_type": "markdown",
   "metadata": {},
   "source": [
    "Read in copy number variant (CNV) and population information data"
   ]
  },
  {
   "cell_type": "code",
   "execution_count": 6,
   "metadata": {},
   "outputs": [
    {
     "data": {
      "text/html": [
       "<div>\n",
       "<style scoped>\n",
       "    .dataframe tbody tr th:only-of-type {\n",
       "        vertical-align: middle;\n",
       "    }\n",
       "\n",
       "    .dataframe tbody tr th {\n",
       "        vertical-align: top;\n",
       "    }\n",
       "\n",
       "    .dataframe thead th {\n",
       "        text-align: right;\n",
       "    }\n",
       "</style>\n",
       "<table border=\"1\" class=\"dataframe\">\n",
       "  <thead>\n",
       "    <tr style=\"text-align: right;\">\n",
       "      <th></th>\n",
       "      <th>cnp_id</th>\n",
       "      <th>chr</th>\n",
       "      <th>start</th>\n",
       "      <th>end</th>\n",
       "      <th>NA06984</th>\n",
       "      <th>NA06985</th>\n",
       "      <th>NA06986</th>\n",
       "      <th>NA06989</th>\n",
       "      <th>NA06991</th>\n",
       "      <th>NA06993</th>\n",
       "      <th>...</th>\n",
       "      <th>NA21733</th>\n",
       "      <th>NA21738</th>\n",
       "      <th>NA21739</th>\n",
       "      <th>NA21740</th>\n",
       "      <th>NA21741</th>\n",
       "      <th>NA21768</th>\n",
       "      <th>NA21776</th>\n",
       "      <th>NA21784</th>\n",
       "      <th>NA21825</th>\n",
       "      <th>NA21826</th>\n",
       "    </tr>\n",
       "  </thead>\n",
       "  <tbody>\n",
       "    <tr>\n",
       "      <th>0</th>\n",
       "      <td>HM3_CNP_1</td>\n",
       "      <td>1</td>\n",
       "      <td>8105049</td>\n",
       "      <td>8112441</td>\n",
       "      <td>2.0</td>\n",
       "      <td>2.0</td>\n",
       "      <td>2.0</td>\n",
       "      <td>2.0</td>\n",
       "      <td>2.0</td>\n",
       "      <td>2.0</td>\n",
       "      <td>...</td>\n",
       "      <td>2.0</td>\n",
       "      <td>2.0</td>\n",
       "      <td>2.0</td>\n",
       "      <td>2.0</td>\n",
       "      <td>2.0</td>\n",
       "      <td>2.0</td>\n",
       "      <td>2.0</td>\n",
       "      <td>2.0</td>\n",
       "      <td>2.0</td>\n",
       "      <td>2.0</td>\n",
       "    </tr>\n",
       "    <tr>\n",
       "      <th>1</th>\n",
       "      <td>HM3_CNP_2</td>\n",
       "      <td>1</td>\n",
       "      <td>10292133</td>\n",
       "      <td>10300570</td>\n",
       "      <td>2.0</td>\n",
       "      <td>2.0</td>\n",
       "      <td>2.0</td>\n",
       "      <td>2.0</td>\n",
       "      <td>2.0</td>\n",
       "      <td>2.0</td>\n",
       "      <td>...</td>\n",
       "      <td>2.0</td>\n",
       "      <td>2.0</td>\n",
       "      <td>2.0</td>\n",
       "      <td>2.0</td>\n",
       "      <td>2.0</td>\n",
       "      <td>2.0</td>\n",
       "      <td>2.0</td>\n",
       "      <td>2.0</td>\n",
       "      <td>2.0</td>\n",
       "      <td>2.0</td>\n",
       "    </tr>\n",
       "    <tr>\n",
       "      <th>2</th>\n",
       "      <td>HM3_CNP_3</td>\n",
       "      <td>1</td>\n",
       "      <td>10466423</td>\n",
       "      <td>10467633</td>\n",
       "      <td>2.0</td>\n",
       "      <td>2.0</td>\n",
       "      <td>2.0</td>\n",
       "      <td>2.0</td>\n",
       "      <td>2.0</td>\n",
       "      <td>2.0</td>\n",
       "      <td>...</td>\n",
       "      <td>2.0</td>\n",
       "      <td>2.0</td>\n",
       "      <td>2.0</td>\n",
       "      <td>2.0</td>\n",
       "      <td>2.0</td>\n",
       "      <td>2.0</td>\n",
       "      <td>2.0</td>\n",
       "      <td>2.0</td>\n",
       "      <td>2.0</td>\n",
       "      <td>2.0</td>\n",
       "    </tr>\n",
       "    <tr>\n",
       "      <th>3</th>\n",
       "      <td>HM3_CNP_4</td>\n",
       "      <td>1</td>\n",
       "      <td>12764515</td>\n",
       "      <td>12894420</td>\n",
       "      <td>2.0</td>\n",
       "      <td>2.0</td>\n",
       "      <td>2.0</td>\n",
       "      <td>2.0</td>\n",
       "      <td>2.0</td>\n",
       "      <td>2.0</td>\n",
       "      <td>...</td>\n",
       "      <td>2.0</td>\n",
       "      <td>2.0</td>\n",
       "      <td>2.0</td>\n",
       "      <td>1.0</td>\n",
       "      <td>2.0</td>\n",
       "      <td>2.0</td>\n",
       "      <td>2.0</td>\n",
       "      <td>1.0</td>\n",
       "      <td>2.0</td>\n",
       "      <td>2.0</td>\n",
       "    </tr>\n",
       "    <tr>\n",
       "      <th>4</th>\n",
       "      <td>HM3_CNP_5</td>\n",
       "      <td>1</td>\n",
       "      <td>13647613</td>\n",
       "      <td>13649415</td>\n",
       "      <td>2.0</td>\n",
       "      <td>2.0</td>\n",
       "      <td>2.0</td>\n",
       "      <td>2.0</td>\n",
       "      <td>2.0</td>\n",
       "      <td>2.0</td>\n",
       "      <td>...</td>\n",
       "      <td>2.0</td>\n",
       "      <td>2.0</td>\n",
       "      <td>2.0</td>\n",
       "      <td>1.0</td>\n",
       "      <td>2.0</td>\n",
       "      <td>2.0</td>\n",
       "      <td>2.0</td>\n",
       "      <td>2.0</td>\n",
       "      <td>2.0</td>\n",
       "      <td>2.0</td>\n",
       "    </tr>\n",
       "  </tbody>\n",
       "</table>\n",
       "<p>5 rows × 1188 columns</p>\n",
       "</div>"
      ],
      "text/plain": [
       "      cnp_id  chr     start       end  NA06984  NA06985  NA06986  NA06989  \\\n",
       "0  HM3_CNP_1    1   8105049   8112441      2.0      2.0      2.0      2.0   \n",
       "1  HM3_CNP_2    1  10292133  10300570      2.0      2.0      2.0      2.0   \n",
       "2  HM3_CNP_3    1  10466423  10467633      2.0      2.0      2.0      2.0   \n",
       "3  HM3_CNP_4    1  12764515  12894420      2.0      2.0      2.0      2.0   \n",
       "4  HM3_CNP_5    1  13647613  13649415      2.0      2.0      2.0      2.0   \n",
       "\n",
       "   NA06991  NA06993  ...  NA21733  NA21738  NA21739  NA21740  NA21741  \\\n",
       "0      2.0      2.0  ...      2.0      2.0      2.0      2.0      2.0   \n",
       "1      2.0      2.0  ...      2.0      2.0      2.0      2.0      2.0   \n",
       "2      2.0      2.0  ...      2.0      2.0      2.0      2.0      2.0   \n",
       "3      2.0      2.0  ...      2.0      2.0      2.0      1.0      2.0   \n",
       "4      2.0      2.0  ...      2.0      2.0      2.0      1.0      2.0   \n",
       "\n",
       "   NA21768  NA21776  NA21784  NA21825  NA21826  \n",
       "0      2.0      2.0      2.0      2.0      2.0  \n",
       "1      2.0      2.0      2.0      2.0      2.0  \n",
       "2      2.0      2.0      2.0      2.0      2.0  \n",
       "3      2.0      2.0      1.0      2.0      2.0  \n",
       "4      2.0      2.0      2.0      2.0      2.0  \n",
       "\n",
       "[5 rows x 1188 columns]"
      ]
     },
     "execution_count": 6,
     "metadata": {},
     "output_type": "execute_result"
    }
   ],
   "source": [
    "# read in cnv data\n",
    "df = pd.read_csv('hm3_cnv_submission.txt', sep = '\\t')\n",
    "\n",
    "df.head()"
   ]
  },
  {
   "cell_type": "code",
   "execution_count": 7,
   "metadata": {},
   "outputs": [],
   "source": [
    "# read in sample information into lists\n",
    "\n",
    "YRI_file = open('YRI_samples.txt', 'r')\n",
    "JPT_file = open('JPT_samples.txt', 'r')\n",
    "CEU_file = open('CEU_samples.txt', 'r')\n",
    "CHB_file = open('CHB_samples.txt', 'r')\n",
    "\n",
    "YRI_data = YRI_file.read()\n",
    "YRI = YRI_data.split('\\n')\n",
    "\n",
    "JPT_data = JPT_file.read()\n",
    "JPT = JPT_data.split('\\n')\n",
    "\n",
    "CEU_data = CEU_file.read()\n",
    "CEU = CEU_data.split('\\n')\n",
    "\n",
    "CHB_data = CHB_file.read()\n",
    "CHB = CHB_data.split('\\n')\n",
    "\n",
    "YRI_file.close()\n",
    "JPT_file.close()\n",
    "CEU_file.close()\n",
    "CHB_file.close()"
   ]
  },
  {
   "cell_type": "code",
   "execution_count": 12,
   "metadata": {},
   "outputs": [],
   "source": [
    "# remove empty string at end of line\n",
    "YRI.remove('')\n",
    "JPT.remove('')\n",
    "CEU.remove('')\n",
    "CHB.remove('')"
   ]
  },
  {
   "cell_type": "markdown",
   "metadata": {},
   "source": [
    "Prepare data for PCA"
   ]
  },
  {
   "cell_type": "code",
   "execution_count": 24,
   "metadata": {},
   "outputs": [],
   "source": [
    "# set CNVs as index\n",
    "df = df.set_index('cnp_id')\n",
    "\n",
    "# remove unnecessary columns\n",
    "df = df.iloc[:, 4:]\n",
    "\n",
    "# impute NA\n",
    "## will just fill the NA with 2.0, which is assuming uncalled CNVs have the normal 2 copies\n",
    "df = df.fillna(2.0)\n"
   ]
  },
  {
   "cell_type": "code",
   "execution_count": 29,
   "metadata": {},
   "outputs": [],
   "source": [
    "# transpose the matrix, because the population code for a given sample will be a column, so the samples will need to be the indexes\n",
    "df = df.T"
   ]
  },
  {
   "cell_type": "code",
   "execution_count": 31,
   "metadata": {},
   "outputs": [],
   "source": [
    "# write function to add correct population code for each sample\n",
    "def assign_population(x):\n",
    "    if x in CHB:\n",
    "        return 'Chinese (CHB)'\n",
    "    elif x in CEU:\n",
    "        return 'European (CEU)'\n",
    "    elif x in YRI:\n",
    "        return 'African (YRI)'\n",
    "    elif x in JPT:\n",
    "        return 'Japanese (JPT)'\n",
    "    else:\n",
    "        return 'Unknown'\n",
    "\n",
    "df['population_group'] = df.index.map(assign_population)"
   ]
  },
  {
   "cell_type": "code",
   "execution_count": 35,
   "metadata": {},
   "outputs": [
    {
     "data": {
      "text/plain": [
       "NA06985    European (CEU)\n",
       "NA06986           Unknown\n",
       "NA06989           Unknown\n",
       "NA06991    European (CEU)\n",
       "NA06993    European (CEU)\n",
       "Name: population_group, dtype: object"
      ]
     },
     "execution_count": 35,
     "metadata": {},
     "output_type": "execute_result"
    }
   ],
   "source": [
    "df.iloc[:,-1].head() #success!"
   ]
  },
  {
   "cell_type": "markdown",
   "metadata": {},
   "source": [
    "PCA"
   ]
  },
  {
   "cell_type": "code",
   "execution_count": 38,
   "metadata": {},
   "outputs": [
    {
     "data": {
      "text/plain": [
       "PCA(n_components=2)"
      ]
     },
     "execution_count": 38,
     "metadata": {},
     "output_type": "execute_result"
    }
   ],
   "source": [
    "# create matrix for PCA\n",
    "matrix = df.iloc[:, :-1]\n",
    "\n",
    "# fit matrix\n",
    "pca = decomposition.PCA(n_components = 2)\n",
    "pca.fit(matrix)"
   ]
  },
  {
   "cell_type": "code",
   "execution_count": 40,
   "metadata": {},
   "outputs": [
    {
     "name": "stdout",
     "output_type": "stream",
     "text": [
      "[108.03806355  75.84612476]\n"
     ]
    }
   ],
   "source": [
    "print(pca.singular_values_)"
   ]
  },
  {
   "cell_type": "code",
   "execution_count": 41,
   "metadata": {},
   "outputs": [
    {
     "name": "stdout",
     "output_type": "stream",
     "text": [
      "(1183, 2)\n"
     ]
    }
   ],
   "source": [
    "to_plot = pca.transform(matrix)\n",
    "print(to_plot.shape)"
   ]
  },
  {
   "cell_type": "markdown",
   "metadata": {},
   "source": [
    "Plot PCA"
   ]
  },
  {
   "cell_type": "code",
   "execution_count": 43,
   "metadata": {},
   "outputs": [
    {
     "data": {
      "text/plain": [
       "<matplotlib.collections.PathCollection at 0x7fc8fe72c610>"
      ]
     },
     "execution_count": 43,
     "metadata": {},
     "output_type": "execute_result"
    },
    {
     "data": {
      "image/png": "[encoded data removed]",
      "text/plain": [
       "<Figure size 432x288 with 1 Axes>"
      ]
     },
     "metadata": {
      "needs_background": "light"
     },
     "output_type": "display_data"
    }
   ],
   "source": [
    "# make scatterplot\n",
    "plt.scatter(x = to_plot[:,0], y = to_plot[:,1])"
   ]
  },
  {
   "cell_type": "markdown",
   "metadata": {},
   "source": [
    "Above, we can see the CNV data clustered into 3 groups based on the first two principal components!\n",
    "\n",
    "Will now add labeling to the data to see if clustering was indeed based on CNV differences between populations."
   ]
  },
  {
   "cell_type": "code",
   "execution_count": 48,
   "metadata": {},
   "outputs": [],
   "source": [
    "# create new data frame with population code, sample, PC1, and PC2\n",
    "label_plot_df = pd.DataFrame({\n",
    "    'Population_code' : df.population_group,\n",
    "    'Sample' : df.index,\n",
    "    'PC1' : to_plot[:,0],\n",
    "    'PC2' : to_plot[:,1]\n",
    "})"
   ]
  },
  {
   "cell_type": "code",
   "execution_count": 50,
   "metadata": {},
   "outputs": [
    {
     "data": {
      "text/html": [
       "<div>\n",
       "<style scoped>\n",
       "    .dataframe tbody tr th:only-of-type {\n",
       "        vertical-align: middle;\n",
       "    }\n",
       "\n",
       "    .dataframe tbody tr th {\n",
       "        vertical-align: top;\n",
       "    }\n",
       "\n",
       "    .dataframe thead th {\n",
       "        text-align: right;\n",
       "    }\n",
       "</style>\n",
       "<table border=\"1\" class=\"dataframe\">\n",
       "  <thead>\n",
       "    <tr style=\"text-align: right;\">\n",
       "      <th></th>\n",
       "      <th>Population_code</th>\n",
       "      <th>Sample</th>\n",
       "      <th>PC1</th>\n",
       "      <th>PC2</th>\n",
       "    </tr>\n",
       "  </thead>\n",
       "  <tbody>\n",
       "    <tr>\n",
       "      <th>NA06985</th>\n",
       "      <td>European (CEU)</td>\n",
       "      <td>NA06985</td>\n",
       "      <td>-1.592362</td>\n",
       "      <td>-2.465588</td>\n",
       "    </tr>\n",
       "    <tr>\n",
       "      <th>NA06986</th>\n",
       "      <td>Unknown</td>\n",
       "      <td>NA06986</td>\n",
       "      <td>-2.406781</td>\n",
       "      <td>-2.861567</td>\n",
       "    </tr>\n",
       "    <tr>\n",
       "      <th>NA06989</th>\n",
       "      <td>Unknown</td>\n",
       "      <td>NA06989</td>\n",
       "      <td>-2.498762</td>\n",
       "      <td>-2.810847</td>\n",
       "    </tr>\n",
       "    <tr>\n",
       "      <th>NA06991</th>\n",
       "      <td>European (CEU)</td>\n",
       "      <td>NA06991</td>\n",
       "      <td>-2.321385</td>\n",
       "      <td>-2.724837</td>\n",
       "    </tr>\n",
       "    <tr>\n",
       "      <th>NA06993</th>\n",
       "      <td>European (CEU)</td>\n",
       "      <td>NA06993</td>\n",
       "      <td>-2.796366</td>\n",
       "      <td>-3.857091</td>\n",
       "    </tr>\n",
       "  </tbody>\n",
       "</table>\n",
       "</div>"
      ],
      "text/plain": [
       "        Population_code   Sample       PC1       PC2\n",
       "NA06985  European (CEU)  NA06985 -1.592362 -2.465588\n",
       "NA06986         Unknown  NA06986 -2.406781 -2.861567\n",
       "NA06989         Unknown  NA06989 -2.498762 -2.810847\n",
       "NA06991  European (CEU)  NA06991 -2.321385 -2.724837\n",
       "NA06993  European (CEU)  NA06993 -2.796366 -3.857091"
      ]
     },
     "execution_count": 50,
     "metadata": {},
     "output_type": "execute_result"
    }
   ],
   "source": [
    "label_plot_df.head() # looks correct"
   ]
  },
  {
   "cell_type": "code",
   "execution_count": 55,
   "metadata": {},
   "outputs": [
    {
     "data": {
      "application/vnd.vegalite.v4+json": {
       "$schema": "https://vega.github.io/schema/vega-lite/v4.17.0.json",
       "config": {
        "view": {
         "continuousHeight": 300,
         "continuousWidth": 400
        }
       },
       "data": {
        "name": "data-0c1d94f8463c6b747d2c7b2200dac6e7"
       },
       "datasets": {
        "data-0c1d94f8463c6b747d2c7b2200dac6e7": [
         {
          "PC1": -1.5923622390361207,
          "PC2": -2.465588401929987,
          "Population_code": "European (CEU)",
          "Sample": "NA06985"
         },
         {
          "PC1": -2.4067814790353816,
          "PC2": -2.861567492038209,
          "Population_code": "Unknown",
          "Sample": "NA06986"
         },
         {
          "PC1": -2.4987622286364197,
          "PC2": -2.8108467653520695,
          "Population_code": "Unknown",
          "Sample": "NA06989"
         },
         {
          "PC1": -2.3213854574018615,
          "PC2": -2.7248371617764,
          "Population_code": "European (CEU)",
          "Sample": "NA06991"
         },
         {
          "PC1": -2.7963657691578097,
          "PC2": -3.857090603152206,
          "Population_code": "European (CEU)",
          "Sample": "NA06993"
         },
         {
          "PC1": -2.9300666236169124,
          "PC2": -4.114104431067263,
          "Population_code": "European (CEU)",
          "Sample": "NA06994"
         },
         {
          "PC1": -1.089411839699903,
          "PC2": -3.0718655461389988,
          "Population_code": "Unknown",
          "Sample": "NA06995"
         },
         {
          "PC1": -2.5809112162114065,
          "PC2": -4.144348783621364,
          "Population_code": "Unknown",
          "Sample": "NA06997"
         },
         {
          "PC1": -1.4382495947575913,
          "PC2": -3.086684571289969,
          "Population_code": "European (CEU)",
          "Sample": "NA07000"
         },
         {
          "PC1": -1.1490241129365406,
          "PC2": -2.3457864243823963,
          "Population_code": "Unknown",
          "Sample": "NA07014"
         },
         {
          "PC1": -2.5631062544432446,
          "PC2": -3.6182878833227368,
          "Population_code": "European (CEU)",
          "Sample": "NA07022"
         },
         {
          "PC1": -2.723921814706496,
          "PC2": -3.1803402217909875,
          "Population_code": "European (CEU)",
          "Sample": "NA07029"
         },
         {
          "PC1": -1.3896759626807225,
          "PC2": -3.943238984083643,
          "Population_code": "Unknown",
          "Sample": "NA07031"
         },
         {
          "PC1": -1.4679197476247907,
          "PC2": -3.8761112455479196,
          "Population_code": "Unknown",
          "Sample": "NA07037"
         },
         {
          "PC1": -1.9816446685362767,
          "PC2": -4.105824488780172,
          "Population_code": "Unknown",
          "Sample": "NA07045"
         },
         {
          "PC1": -1.0465924241250297,
          "PC2": -1.9948413165952388,
          "Population_code": "Unknown",
          "Sample": "NA07051"
         },
         {
          "PC1": -1.8923449981782414,
          "PC2": -3.1056934086610903,
          "Population_code": "European (CEU)",
          "Sample": "NA07055"
         },
         {
          "PC1": -1.4711688195849242,
          "PC2": -3.1764597176255926,
          "Population_code": "European (CEU)",
          "Sample": "NA07056"
         },
         {
          "PC1": -2.69035649114028,
          "PC2": -2.033471510403171,
          "Population_code": "European (CEU)",
          "Sample": "NA07345"
         },
         {
          "PC1": -2.637374102818105,
          "PC2": -4.235805269759626,
          "Population_code": "Unknown",
          "Sample": "NA07346"
         },
         {
          "PC1": -2.2482985208396693,
          "PC2": -2.6514935196949283,
          "Population_code": "Unknown",
          "Sample": "NA07347"
         },
         {
          "PC1": -2.6970768234235356,
          "PC2": -4.3650343220196905,
          "Population_code": "European (CEU)",
          "Sample": "NA07348"
         },
         {
          "PC1": -2.2561833326920775,
          "PC2": -3.3841959819610428,
          "Population_code": "Unknown",
          "Sample": "NA07349"
         },
         {
          "PC1": -1.9184982757194886,
          "PC2": -3.8780811988110817,
          "Population_code": "European (CEU)",
          "Sample": "NA07357"
         },
         {
          "PC1": -1.5802589999476613,
          "PC2": -2.9913895240776514,
          "Population_code": "Unknown",
          "Sample": "NA07435"
         },
         {
          "PC1": -1.067412164163763,
          "PC2": -3.8607665736938412,
          "Population_code": "European (CEU)",
          "Sample": "NA10830"
         },
         {
          "PC1": -2.0203908063182467,
          "PC2": -3.903989040011217,
          "Population_code": "European (CEU)",
          "Sample": "NA10831"
         },
         {
          "PC1": -2.04787736896146,
          "PC2": -3.2535951632262146,
          "Population_code": "European (CEU)",
          "Sample": "NA10835"
         },
         {
          "PC1": -2.212051880015982,
          "PC2": -3.6801125872079816,
          "Population_code": "Unknown",
          "Sample": "NA10836"
         },
         {
          "PC1": -2.7829080496900005,
          "PC2": -4.201582722066753,
          "Population_code": "Unknown",
          "Sample": "NA10837"
         },
         {
          "PC1": -1.3556111842502645,
          "PC2": -2.6139603356680023,
          "Population_code": "European (CEU)",
          "Sample": "NA10838"
         },
         {
          "PC1": -3.487263355183949,
          "PC2": -3.826529567707134,
          "Population_code": "European (CEU)",
          "Sample": "NA10839"
         },
         {
          "PC1": -2.4261797979476034,
          "PC2": -2.3086096598909833,
          "Population_code": "Unknown",
          "Sample": "NA10840"
         },
         {
          "PC1": -1.903787996346377,
          "PC2": -2.82616566122631,
          "Population_code": "Unknown",
          "Sample": "NA10843"
         },
         {
          "PC1": -2.1701848160448503,
          "PC2": -2.703310043903281,
          "Population_code": "Unknown",
          "Sample": "NA10845"
         },
         {
          "PC1": -2.395326705907613,
          "PC2": -3.9366986887507243,
          "Population_code": "European (CEU)",
          "Sample": "NA10846"
         },
         {
          "PC1": -1.971708449558242,
          "PC2": -2.3468060006250133,
          "Population_code": "European (CEU)",
          "Sample": "NA10847"
         },
         {
          "PC1": -1.369286755043635,
          "PC2": -2.3500689406402335,
          "Population_code": "Unknown",
          "Sample": "NA10850"
         },
         {
          "PC1": -1.1561843871754287,
          "PC2": -3.4147100294044153,
          "Population_code": "Unknown",
          "Sample": "NA10852"
         },
         {
          "PC1": -2.072997400606096,
          "PC2": -3.308966333636771,
          "Population_code": "Unknown",
          "Sample": "NA10853"
         },
         {
          "PC1": -1.2495040517475697,
          "PC2": -3.827566024932455,
          "Population_code": "European (CEU)",
          "Sample": "NA10854"
         },
         {
          "PC1": -1.4672087287987399,
          "PC2": -3.860942391160286,
          "Population_code": "European (CEU)",
          "Sample": "NA10855"
         },
         {
          "PC1": -1.8947104683566627,
          "PC2": -2.82817928782289,
          "Population_code": "European (CEU)",
          "Sample": "NA10856"
         },
         {
          "PC1": -2.2750623228454634,
          "PC2": -3.5689629621148558,
          "Population_code": "European (CEU)",
          "Sample": "NA10859"
         },
         {
          "PC1": -1.5542227003128197,
          "PC2": -1.826922672602637,
          "Population_code": "European (CEU)",
          "Sample": "NA10861"
         },
         {
          "PC1": -2.6035961799854954,
          "PC2": -3.696135731166123,
          "Population_code": "European (CEU)",
          "Sample": "NA10863"
         },
         {
          "PC1": -1.203407248800256,
          "PC2": -3.8644862098792885,
          "Population_code": "Unknown",
          "Sample": "NA10864"
         },
         {
          "PC1": -1.1432702113783675,
          "PC2": -3.1000782698602447,
          "Population_code": "Unknown",
          "Sample": "NA10865"
         },
         {
          "PC1": -0.7798645389371709,
          "PC2": -3.336122751303675,
          "Population_code": "European (CEU)",
          "Sample": "NA11829"
         },
         {
          "PC1": -2.1453080898566097,
          "PC2": -3.464306037695018,
          "Population_code": "European (CEU)",
          "Sample": "NA11830"
         },
         {
          "PC1": -1.635087567342679,
          "PC2": -4.3318567601711315,
          "Population_code": "European (CEU)",
          "Sample": "NA11831"
         },
         {
          "PC1": -1.9861811996235716,
          "PC2": -3.060136625345319,
          "Population_code": "European (CEU)",
          "Sample": "NA11832"
         },
         {
          "PC1": -0.4284936482734333,
          "PC2": -3.4948325801304723,
          "Population_code": "European (CEU)",
          "Sample": "NA11839"
         },
         {
          "PC1": -1.5240700221968793,
          "PC2": -2.814004290974498,
          "Population_code": "European (CEU)",
          "Sample": "NA11840"
         },
         {
          "PC1": -2.3550398654171585,
          "PC2": -3.02143529431316,
          "Population_code": "Unknown",
          "Sample": "NA11843"
         },
         {
          "PC1": -1.8024922365330343,
          "PC2": -3.723897682057341,
          "Population_code": "European (CEU)",
          "Sample": "NA11881"
         },
         {
          "PC1": -1.9813668337113843,
          "PC2": -2.990456595922742,
          "Population_code": "European (CEU)",
          "Sample": "NA11882"
         },
         {
          "PC1": -2.547116313035445,
          "PC2": -3.358420211853011,
          "Population_code": "Unknown",
          "Sample": "NA11891"
         },
         {
          "PC1": -1.059335346433141,
          "PC2": -3.225104502266937,
          "Population_code": "Unknown",
          "Sample": "NA11892"
         },
         {
          "PC1": -1.9773462592606708,
          "PC2": -3.9879971722090346,
          "Population_code": "Unknown",
          "Sample": "NA11893"
         },
         {
          "PC1": -1.4464441261414318,
          "PC2": -2.802429916869743,
          "Population_code": "Unknown",
          "Sample": "NA11894"
         },
         {
          "PC1": -3.571729612467923,
          "PC2": -3.5430592810935475,
          "Population_code": "Unknown",
          "Sample": "NA11917"
         },
         {
          "PC1": -2.1778661036789213,
          "PC2": -3.6768763171018026,
          "Population_code": "Unknown",
          "Sample": "NA11918"
         },
         {
          "PC1": -2.064187567937377,
          "PC2": -3.2768258735661964,
          "Population_code": "Unknown",
          "Sample": "NA11919"
         },
         {
          "PC1": -1.6533263937753033,
          "PC2": -3.0507460999312017,
          "Population_code": "Unknown",
          "Sample": "NA11920"
         },
         {
          "PC1": -2.15839614187922,
          "PC2": -3.537412380714448,
          "Population_code": "Unknown",
          "Sample": "NA11930"
         },
         {
          "PC1": -1.9808677786852855,
          "PC2": -3.3141618929274275,
          "Population_code": "Unknown",
          "Sample": "NA11931"
         },
         {
          "PC1": -1.6511645316961274,
          "PC2": -2.700246533827278,
          "Population_code": "European (CEU)",
          "Sample": "NA11992"
         },
         {
          "PC1": -0.7428986252183427,
          "PC2": -4.186345127494862,
          "Population_code": "European (CEU)",
          "Sample": "NA11993"
         },
         {
          "PC1": -2.1050958670369107,
          "PC2": -3.250841886519547,
          "Population_code": "European (CEU)",
          "Sample": "NA11994"
         },
         {
          "PC1": -0.10315040608913038,
          "PC2": -1.863906619218166,
          "Population_code": "European (CEU)",
          "Sample": "NA11995"
         },
         {
          "PC1": -1.3041547145983894,
          "PC2": -2.9478473488255723,
          "Population_code": "European (CEU)",
          "Sample": "NA12003"
         },
         {
          "PC1": -3.0005685692816106,
          "PC2": -3.234754175339465,
          "Population_code": "European (CEU)",
          "Sample": "NA12005"
         },
         {
          "PC1": -2.8444297091488497,
          "PC2": -4.1243879248613835,
          "Population_code": "European (CEU)",
          "Sample": "NA12006"
         },
         {
          "PC1": -2.141116319301364,
          "PC2": -2.7704795076868187,
          "Population_code": "European (CEU)",
          "Sample": "NA12043"
         },
         {
          "PC1": -1.878676843695405,
          "PC2": -3.307734802854122,
          "Population_code": "European (CEU)",
          "Sample": "NA12044"
         },
         {
          "PC1": -1.4348791739703681,
          "PC2": -3.4846165644922205,
          "Population_code": "Unknown",
          "Sample": "NA12045"
         },
         {
          "PC1": -1.7219852726582718,
          "PC2": -2.3627503710488034,
          "Population_code": "European (CEU)",
          "Sample": "NA12056"
         },
         {
          "PC1": -1.9384890267801707,
          "PC2": -2.7592092558124555,
          "Population_code": "European (CEU)",
          "Sample": "NA12057"
         },
         {
          "PC1": -2.1260281278529107,
          "PC2": -3.9455090450563772,
          "Population_code": "European (CEU)",
          "Sample": "NA12144"
         },
         {
          "PC1": -1.5927807041018154,
          "PC2": -3.2642623107374846,
          "Population_code": "European (CEU)",
          "Sample": "NA12145"
         },
         {
          "PC1": -2.2879741764483628,
          "PC2": -3.5665158657419758,
          "Population_code": "European (CEU)",
          "Sample": "NA12146"
         },
         {
          "PC1": -1.8827177144513247,
          "PC2": -3.1739692095591328,
          "Population_code": "European (CEU)",
          "Sample": "NA12154"
         },
         {
          "PC1": -2.438399801391144,
          "PC2": -2.8814746027305445,
          "Population_code": "European (CEU)",
          "Sample": "NA12155"
         },
         {
          "PC1": -0.7961525372038889,
          "PC2": -3.8360455862197127,
          "Population_code": "European (CEU)",
          "Sample": "NA12156"
         },
         {
          "PC1": -2.220283162196063,
          "PC2": -3.5732679725095338,
          "Population_code": "European (CEU)",
          "Sample": "NA12234"
         },
         {
          "PC1": -1.7271221143280568,
          "PC2": -1.9104213875727662,
          "Population_code": "European (CEU)",
          "Sample": "NA12239"
         },
         {
          "PC1": -2.53854185856159,
          "PC2": -3.45242796240088,
          "Population_code": "European (CEU)",
          "Sample": "NA12248"
         },
         {
          "PC1": -1.561132186693766,
          "PC2": -2.251303511353317,
          "Population_code": "European (CEU)",
          "Sample": "NA12249"
         },
         {
          "PC1": -2.0555088373045596,
          "PC2": -2.6177773595082385,
          "Population_code": "European (CEU)",
          "Sample": "NA12264"
         },
         {
          "PC1": -1.8700944720153605,
          "PC2": -2.9686010469870032,
          "Population_code": "Unknown",
          "Sample": "NA12272"
         },
         {
          "PC1": -3.397604060080738,
          "PC2": -4.161728664724222,
          "Population_code": "Unknown",
          "Sample": "NA12273"
         },
         {
          "PC1": -3.0667045823793946,
          "PC2": -3.1954246008553797,
          "Population_code": "Unknown",
          "Sample": "NA12275"
         },
         {
          "PC1": -2.419490933113864,
          "PC2": -4.251658908153799,
          "Population_code": "Unknown",
          "Sample": "NA12282"
         },
         {
          "PC1": -1.2050336076794732,
          "PC2": -2.1792100976875837,
          "Population_code": "Unknown",
          "Sample": "NA12283"
         },
         {
          "PC1": -2.7651074581075266,
          "PC2": -2.0309959081210742,
          "Population_code": "Unknown",
          "Sample": "NA12286"
         },
         {
          "PC1": -1.920017377663633,
          "PC2": -4.2442976069426,
          "Population_code": "Unknown",
          "Sample": "NA12287"
         },
         {
          "PC1": -2.636331684727076,
          "PC2": -2.645952681935828,
          "Population_code": "Unknown",
          "Sample": "NA12335"
         },
         {
          "PC1": -1.8732479828454407,
          "PC2": -3.5456816210665116,
          "Population_code": "Unknown",
          "Sample": "NA12336"
         },
         {
          "PC1": -1.958713121992775,
          "PC2": -3.0165071110955,
          "Population_code": "Unknown",
          "Sample": "NA12340"
         },
         {
          "PC1": -2.501701570529048,
          "PC2": -2.0426070342010667,
          "Population_code": "Unknown",
          "Sample": "NA12341"
         },
         {
          "PC1": -0.919068254153094,
          "PC2": -3.292411507524018,
          "Population_code": "Unknown",
          "Sample": "NA12342"
         },
         {
          "PC1": -2.033785671028945,
          "PC2": -2.675778081354508,
          "Population_code": "Unknown",
          "Sample": "NA12343"
         },
         {
          "PC1": -3.2372376748184046,
          "PC2": -3.2569176444970487,
          "Population_code": "Unknown",
          "Sample": "NA12344"
         },
         {
          "PC1": -1.981619784831785,
          "PC2": -2.910563823196836,
          "Population_code": "Unknown",
          "Sample": "NA12347"
         },
         {
          "PC1": -2.7795691607637947,
          "PC2": -3.7825361447210524,
          "Population_code": "Unknown",
          "Sample": "NA12348"
         },
         {
          "PC1": -2.48685209336448,
          "PC2": -2.873768855196637,
          "Population_code": "Unknown",
          "Sample": "NA12375"
         },
         {
          "PC1": -1.9306359241337996,
          "PC2": -2.428359608170731,
          "Population_code": "Unknown",
          "Sample": "NA12376"
         },
         {
          "PC1": -2.1608773181177057,
          "PC2": -1.7831005894611387,
          "Population_code": "Unknown",
          "Sample": "NA12383"
         },
         {
          "PC1": -0.8519962436248925,
          "PC2": -2.812858561988147,
          "Population_code": "Unknown",
          "Sample": "NA12386"
         },
         {
          "PC1": -1.5846938193080484,
          "PC2": -3.400343332264582,
          "Population_code": "Unknown",
          "Sample": "NA12399"
         },
         {
          "PC1": -1.3661419821024894,
          "PC2": -2.110544453905566,
          "Population_code": "Unknown",
          "Sample": "NA12400"
         },
         {
          "PC1": -1.8876810907943495,
          "PC2": -2.610885669341988,
          "Population_code": "Unknown",
          "Sample": "NA12413"
         },
         {
          "PC1": -2.010496048749937,
          "PC2": -2.4669888703655873,
          "Population_code": "Unknown",
          "Sample": "NA12489"
         },
         {
          "PC1": -1.8109316666144657,
          "PC2": -2.199991943558053,
          "Population_code": "Unknown",
          "Sample": "NA12546"
         },
         {
          "PC1": -1.863130552196548,
          "PC2": -4.50693660267163,
          "Population_code": "European (CEU)",
          "Sample": "NA12707"
         },
         {
          "PC1": -1.1030950974330818,
          "PC2": -3.162540380369615,
          "Population_code": "Unknown",
          "Sample": "NA12708"
         },
         {
          "PC1": -2.548288127369659,
          "PC2": -3.253890129530049,
          "Population_code": "European (CEU)",
          "Sample": "NA12716"
         },
         {
          "PC1": -2.217460297419891,
          "PC2": -3.533370982053436,
          "Population_code": "Unknown",
          "Sample": "NA12718"
         },
         {
          "PC1": 0.020380719050949236,
          "PC2": -2.5013803589931416,
          "Population_code": "Unknown",
          "Sample": "NA12739"
         },
         {
          "PC1": -2.415477536235374,
          "PC2": -2.572737998155166,
          "Population_code": "European (CEU)",
          "Sample": "NA12740"
         },
         {
          "PC1": -0.7675091674160551,
          "PC2": -2.5905406525869847,
          "Population_code": "Unknown",
          "Sample": "NA12748"
         },
         {
          "PC1": -1.4390923027138605,
          "PC2": -3.049281683755591,
          "Population_code": "Unknown",
          "Sample": "NA12749"
         },
         {
          "PC1": -2.653235369919229,
          "PC2": -2.7721420644624377,
          "Population_code": "European (CEU)",
          "Sample": "NA12750"
         },
         {
          "PC1": -1.735794417445795,
          "PC2": -2.888701955646664,
          "Population_code": "European (CEU)",
          "Sample": "NA12751"
         },
         {
          "PC1": -2.115732622621502,
          "PC2": -2.5968994784679458,
          "Population_code": "European (CEU)",
          "Sample": "NA12752"
         },
         {
          "PC1": -1.3302288509287705,
          "PC2": -1.7009737572057706,
          "Population_code": "European (CEU)",
          "Sample": "NA12753"
         },
         {
          "PC1": -1.8493073805032523,
          "PC2": -3.0681648841459093,
          "Population_code": "European (CEU)",
          "Sample": "NA12760"
         },
         {
          "PC1": -1.9534284046332928,
          "PC2": -3.0066139324124563,
          "Population_code": "European (CEU)",
          "Sample": "NA12761"
         },
         {
          "PC1": -1.3031347361714354,
          "PC2": -1.9362384070596947,
          "Population_code": "European (CEU)",
          "Sample": "NA12762"
         },
         {
          "PC1": -2.139208602532006,
          "PC2": -1.899048715844985,
          "Population_code": "European (CEU)",
          "Sample": "NA12763"
         },
         {
          "PC1": -2.181203530916009,
          "PC2": -3.7989521991672617,
          "Population_code": "Unknown",
          "Sample": "NA12766"
         },
         {
          "PC1": -2.4731184337785117,
          "PC2": -2.6385523724611786,
          "Population_code": "Unknown",
          "Sample": "NA12767"
         },
         {
          "PC1": -0.2713847230114036,
          "PC2": -3.7465756570929805,
          "Population_code": "Unknown",
          "Sample": "NA12775"
         },
         {
          "PC1": -2.180829647004008,
          "PC2": -3.6338602438753083,
          "Population_code": "Unknown",
          "Sample": "NA12776"
         },
         {
          "PC1": -2.659321808822448,
          "PC2": -2.4032010707417633,
          "Population_code": "Unknown",
          "Sample": "NA12777"
         },
         {
          "PC1": -2.7454530898496454,
          "PC2": -3.1170403689431394,
          "Population_code": "Unknown",
          "Sample": "NA12778"
         },
         {
          "PC1": -2.8260702516502643,
          "PC2": -3.0614799538935844,
          "Population_code": "European (CEU)",
          "Sample": "NA12801"
         },
         {
          "PC1": -2.210272779143896,
          "PC2": -3.3220916153095215,
          "Population_code": "European (CEU)",
          "Sample": "NA12802"
         },
         {
          "PC1": -2.2585487064449286,
          "PC2": -2.239280615719911,
          "Population_code": "European (CEU)",
          "Sample": "NA12812"
         },
         {
          "PC1": -2.7729807609341353,
          "PC2": -3.057329767933884,
          "Population_code": "European (CEU)",
          "Sample": "NA12813"
         },
         {
          "PC1": -2.861248687400448,
          "PC2": -3.444195103203125,
          "Population_code": "European (CEU)",
          "Sample": "NA12814"
         },
         {
          "PC1": -2.117705422218127,
          "PC2": -2.0598015844429334,
          "Population_code": "European (CEU)",
          "Sample": "NA12815"
         },
         {
          "PC1": -1.7156062182741532,
          "PC2": -3.6813584236672634,
          "Population_code": "Unknown",
          "Sample": "NA12817"
         },
         {
          "PC1": -1.8516681582839394,
          "PC2": -2.9714783646124006,
          "Population_code": "Unknown",
          "Sample": "NA12818"
         },
         {
          "PC1": -0.9347326468020545,
          "PC2": -3.5952743453888987,
          "Population_code": "Unknown",
          "Sample": "NA12827"
         },
         {
          "PC1": -1.946900427210485,
          "PC2": -3.6830386704631293,
          "Population_code": "Unknown",
          "Sample": "NA12828"
         },
         {
          "PC1": -2.356551078521155,
          "PC2": -3.4527390968918032,
          "Population_code": "Unknown",
          "Sample": "NA12829"
         },
         {
          "PC1": -2.001907432551716,
          "PC2": -2.7734847718936355,
          "Population_code": "Unknown",
          "Sample": "NA12830"
         },
         {
          "PC1": -1.5871942973818598,
          "PC2": -4.066713103272795,
          "Population_code": "Unknown",
          "Sample": "NA12832"
         },
         {
          "PC1": -1.970308764122585,
          "PC2": -2.5236947887440535,
          "Population_code": "Unknown",
          "Sample": "NA12842"
         },
         {
          "PC1": -2.437002473555285,
          "PC2": -4.182575472256948,
          "Population_code": "Unknown",
          "Sample": "NA12843"
         },
         {
          "PC1": -2.727632389932892,
          "PC2": -3.4380063175748172,
          "Population_code": "European (CEU)",
          "Sample": "NA12864"
         },
         {
          "PC1": -2.8558178710090143,
          "PC2": -2.3361958237766784,
          "Population_code": "European (CEU)",
          "Sample": "NA12865"
         },
         {
          "PC1": -2.0579723121685656,
          "PC2": -2.871358807515807,
          "Population_code": "European (CEU)",
          "Sample": "NA12872"
         },
         {
          "PC1": -2.012331401423529,
          "PC2": -3.2505649567888577,
          "Population_code": "European (CEU)",
          "Sample": "NA12873"
         },
         {
          "PC1": -2.5859033130554914,
          "PC2": -2.7751638832969365,
          "Population_code": "European (CEU)",
          "Sample": "NA12874"
         },
         {
          "PC1": -1.1574812899390075,
          "PC2": -2.7256339758211636,
          "Population_code": "European (CEU)",
          "Sample": "NA12875"
         },
         {
          "PC1": -2.0007717152246127,
          "PC2": -1.9810193311790625,
          "Population_code": "Unknown",
          "Sample": "NA12877"
         },
         {
          "PC1": -1.828054990375807,
          "PC2": -3.8054336709885845,
          "Population_code": "European (CEU)",
          "Sample": "NA12878"
         },
         {
          "PC1": -1.8314887247374039,
          "PC2": -2.3910035230370887,
          "Population_code": "Unknown",
          "Sample": "NA12889"
         },
         {
          "PC1": -1.230203959505066,
          "PC2": -2.859096107603201,
          "Population_code": "Unknown",
          "Sample": "NA12890"
         },
         {
          "PC1": -2.497229625173553,
          "PC2": -3.4647868239050297,
          "Population_code": "European (CEU)",
          "Sample": "NA12891"
         },
         {
          "PC1": -1.2645033406067814,
          "PC2": -1.8376665521865874,
          "Population_code": "European (CEU)",
          "Sample": "NA12892"
         },
         {
          "PC1": -3.1059950917361525,
          "PC2": 3.1122373068328764,
          "Population_code": "Unknown",
          "Sample": "NA17962"
         },
         {
          "PC1": -3.860360564305323,
          "PC2": 3.118973209932379,
          "Population_code": "Unknown",
          "Sample": "NA17965"
         },
         {
          "PC1": -3.779955044186144,
          "PC2": 3.706521326877927,
          "Population_code": "Unknown",
          "Sample": "NA17966"
         },
         {
          "PC1": -2.4306995761547134,
          "PC2": 2.9962597820655232,
          "Population_code": "Unknown",
          "Sample": "NA17967"
         },
         {
          "PC1": -3.0529804977129955,
          "PC2": 3.3854961535003274,
          "Population_code": "Unknown",
          "Sample": "NA17968"
         },
         {
          "PC1": -3.8325487610134283,
          "PC2": 1.9761055551281816,
          "Population_code": "Unknown",
          "Sample": "NA17969"
         },
         {
          "PC1": -3.3848636195830584,
          "PC2": 2.619263832230525,
          "Population_code": "Unknown",
          "Sample": "NA17970"
         },
         {
          "PC1": -3.7060692936227912,
          "PC2": 2.8146902235804685,
          "Population_code": "Unknown",
          "Sample": "NA17972"
         },
         {
          "PC1": -2.6291300778389908,
          "PC2": 1.9611809703340821,
          "Population_code": "Unknown",
          "Sample": "NA17974"
         },
         {
          "PC1": -3.970416941349398,
          "PC2": 3.9507326942004823,
          "Population_code": "Unknown",
          "Sample": "NA17975"
         },
         {
          "PC1": -2.2789418496639815,
          "PC2": 1.1918353790278562,
          "Population_code": "Unknown",
          "Sample": "NA17976"
         },
         {
          "PC1": -3.3151894985106645,
          "PC2": 2.439859319816729,
          "Population_code": "Unknown",
          "Sample": "NA17977"
         },
         {
          "PC1": -2.10725124085382,
          "PC2": 2.9333533173499085,
          "Population_code": "Unknown",
          "Sample": "NA17979"
         },
         {
          "PC1": -3.322692244164778,
          "PC2": 3.1234948073303284,
          "Population_code": "Unknown",
          "Sample": "NA17980"
         },
         {
          "PC1": -3.9077097527900424,
          "PC2": 3.2283534655261263,
          "Population_code": "Unknown",
          "Sample": "NA17981"
         },
         {
          "PC1": -3.841226186449525,
          "PC2": 3.587400905887534,
          "Population_code": "Unknown",
          "Sample": "NA17982"
         },
         {
          "PC1": -2.903852916820821,
          "PC2": 3.2235454040927918,
          "Population_code": "Unknown",
          "Sample": "NA17983"
         },
         {
          "PC1": -3.818393084550324,
          "PC2": 2.210320080525322,
          "Population_code": "Unknown",
          "Sample": "NA17986"
         },
         {
          "PC1": -3.6422442418136334,
          "PC2": 4.45296483321576,
          "Population_code": "Unknown",
          "Sample": "NA17987"
         },
         {
          "PC1": -3.6036326616882377,
          "PC2": 2.3126537189257106,
          "Population_code": "Unknown",
          "Sample": "NA17988"
         },
         {
          "PC1": -2.5701623416774977,
          "PC2": 3.532205493483095,
          "Population_code": "Unknown",
          "Sample": "NA17989"
         },
         {
          "PC1": -4.5466789123465015,
          "PC2": 2.9421474228057694,
          "Population_code": "Unknown",
          "Sample": "NA17990"
         },
         {
          "PC1": -3.66503371360971,
          "PC2": 2.8374766758215273,
          "Population_code": "Unknown",
          "Sample": "NA17993"
         },
         {
          "PC1": -3.8340135988742765,
          "PC2": 2.8956687175047024,
          "Population_code": "Unknown",
          "Sample": "NA17995"
         },
         {
          "PC1": -4.432034492275513,
          "PC2": 3.0702600489071434,
          "Population_code": "Unknown",
          "Sample": "NA17996"
         },
         {
          "PC1": -3.585165923991358,
          "PC2": 3.3005603208481773,
          "Population_code": "Unknown",
          "Sample": "NA17997"
         },
         {
          "PC1": -3.4519090128631063,
          "PC2": 2.469094685670989,
          "Population_code": "Unknown",
          "Sample": "NA17998"
         },
         {
          "PC1": -4.321271244615402,
          "PC2": 1.6933419014248312,
          "Population_code": "Unknown",
          "Sample": "NA17999"
         },
         {
          "PC1": -4.300646916482667,
          "PC2": 3.395853383402313,
          "Population_code": "Unknown",
          "Sample": "NA18101"
         },
         {
          "PC1": -3.5734154377774825,
          "PC2": 3.353902110297651,
          "Population_code": "Unknown",
          "Sample": "NA18102"
         },
         {
          "PC1": -3.4562722932647487,
          "PC2": 2.6676553456083045,
          "Population_code": "Unknown",
          "Sample": "NA18105"
         },
         {
          "PC1": -3.7775969800831684,
          "PC2": 2.8632535551385625,
          "Population_code": "Unknown",
          "Sample": "NA18106"
         },
         {
          "PC1": -4.098263780589663,
          "PC2": 2.05096266134798,
          "Population_code": "Unknown",
          "Sample": "NA18107"
         },
         {
          "PC1": -3.8237870761731236,
          "PC2": 3.632620823294062,
          "Population_code": "Unknown",
          "Sample": "NA18108"
         },
         {
          "PC1": -3.8228033132277854,
          "PC2": 2.802966639127522,
          "Population_code": "Unknown",
          "Sample": "NA18109"
         },
         {
          "PC1": -3.4033970075554763,
          "PC2": 3.768618360819656,
          "Population_code": "Unknown",
          "Sample": "NA18112"
         },
         {
          "PC1": -4.22271348003413,
          "PC2": 1.783170393504153,
          "Population_code": "Unknown",
          "Sample": "NA18114"
         },
         {
          "PC1": -2.9213692109603446,
          "PC2": 3.158011536381718,
          "Population_code": "Unknown",
          "Sample": "NA18117"
         },
         {
          "PC1": -4.360730833454808,
          "PC2": 3.561778450090583,
          "Population_code": "Unknown",
          "Sample": "NA18118"
         },
         {
          "PC1": -4.2992777571707474,
          "PC2": 4.151119204523408,
          "Population_code": "Unknown",
          "Sample": "NA18120"
         },
         {
          "PC1": -2.1610368695512197,
          "PC2": 2.504647789908113,
          "Population_code": "Unknown",
          "Sample": "NA18122"
         },
         {
          "PC1": -2.899920375974669,
          "PC2": 3.391856959004828,
          "Population_code": "Unknown",
          "Sample": "NA18124"
         },
         {
          "PC1": -4.1910078949986955,
          "PC2": 2.909251101980161,
          "Population_code": "Unknown",
          "Sample": "NA18125"
         },
         {
          "PC1": -4.728937564335235,
          "PC2": 4.536899281845004,
          "Population_code": "Unknown",
          "Sample": "NA18127"
         },
         {
          "PC1": -3.563100889682961,
          "PC2": 2.3170753899578793,
          "Population_code": "Unknown",
          "Sample": "NA18128"
         },
         {
          "PC1": -2.752648924839432,
          "PC2": 2.7640171846482504,
          "Population_code": "Unknown",
          "Sample": "NA18129"
         },
         {
          "PC1": -3.6726049684234754,
          "PC2": 2.5697419742803094,
          "Population_code": "Unknown",
          "Sample": "NA18131"
         },
         {
          "PC1": -3.6318517092065563,
          "PC2": 4.418852119577231,
          "Population_code": "Unknown",
          "Sample": "NA18132"
         },
         {
          "PC1": -3.5258082799421073,
          "PC2": 3.105156845162978,
          "Population_code": "Unknown",
          "Sample": "NA18133"
         },
         {
          "PC1": -4.142744308612941,
          "PC2": 3.034296913679473,
          "Population_code": "Unknown",
          "Sample": "NA18134"
         },
         {
          "PC1": -4.925309608354512,
          "PC2": 3.0230555687439096,
          "Population_code": "Unknown",
          "Sample": "NA18135"
         },
         {
          "PC1": -3.8899633319452915,
          "PC2": 3.7498885909905395,
          "Population_code": "Unknown",
          "Sample": "NA18136"
         },
         {
          "PC1": -3.3037988716674813,
          "PC2": 2.1708171007282653,
          "Population_code": "Unknown",
          "Sample": "NA18138"
         },
         {
          "PC1": -3.814301906427157,
          "PC2": 3.2214648839232645,
          "Population_code": "Unknown",
          "Sample": "NA18139"
         },
         {
          "PC1": -4.35956148366416,
          "PC2": 3.146077624131612,
          "Population_code": "Unknown",
          "Sample": "NA18140"
         },
         {
          "PC1": -4.246657094508936,
          "PC2": 3.2326850363067807,
          "Population_code": "Unknown",
          "Sample": "NA18141"
         },
         {
          "PC1": -2.9182202735774636,
          "PC2": 2.9637828451095407,
          "Population_code": "Unknown",
          "Sample": "NA18143"
         },
         {
          "PC1": -3.642237486464489,
          "PC2": 3.660871535163223,
          "Population_code": "Unknown",
          "Sample": "NA18144"
         },
         {
          "PC1": -4.280673726807769,
          "PC2": 4.019770378390005,
          "Population_code": "Unknown",
          "Sample": "NA18146"
         },
         {
          "PC1": -2.7024247211673402,
          "PC2": 1.6307404261128136,
          "Population_code": "Unknown",
          "Sample": "NA18147"
         },
         {
          "PC1": -3.146210285093301,
          "PC2": 1.7631745038205024,
          "Population_code": "Unknown",
          "Sample": "NA18148"
         },
         {
          "PC1": -4.219101040324494,
          "PC2": 3.6123818782345545,
          "Population_code": "Unknown",
          "Sample": "NA18149"
         },
         {
          "PC1": -4.148803251554155,
          "PC2": 3.2734776509466004,
          "Population_code": "Unknown",
          "Sample": "NA18150"
         },
         {
          "PC1": -4.277993815554923,
          "PC2": 2.78574404037868,
          "Population_code": "Unknown",
          "Sample": "NA18151"
         },
         {
          "PC1": -4.273144043127482,
          "PC2": 3.02914155444374,
          "Population_code": "Unknown",
          "Sample": "NA18152"
         },
         {
          "PC1": -4.195703329122891,
          "PC2": 2.925136131680063,
          "Population_code": "Unknown",
          "Sample": "NA18153"
         },
         {
          "PC1": -2.607249025105611,
          "PC2": 2.352098103567155,
          "Population_code": "Unknown",
          "Sample": "NA18154"
         },
         {
          "PC1": -3.011335634935137,
          "PC2": 2.9174057719181956,
          "Population_code": "Unknown",
          "Sample": "NA18155"
         },
         {
          "PC1": -3.628583239821422,
          "PC2": 2.45132760660619,
          "Population_code": "Unknown",
          "Sample": "NA18156"
         },
         {
          "PC1": -3.7548893604278755,
          "PC2": 3.046203961503324,
          "Population_code": "Unknown",
          "Sample": "NA18157"
         },
         {
          "PC1": -3.1997989343187125,
          "PC2": 2.6802011229087475,
          "Population_code": "Unknown",
          "Sample": "NA18158"
         },
         {
          "PC1": -3.3216084800393535,
          "PC2": 3.411640995280422,
          "Population_code": "Unknown",
          "Sample": "NA18159"
         },
         {
          "PC1": -4.242943030878117,
          "PC2": 2.5900154786547662,
          "Population_code": "Unknown",
          "Sample": "NA18160"
         },
         {
          "PC1": -2.962438241816488,
          "PC2": 4.045348316731754,
          "Population_code": "Unknown",
          "Sample": "NA18161"
         },
         {
          "PC1": -4.1682358073659165,
          "PC2": 2.2396389961002985,
          "Population_code": "Unknown",
          "Sample": "NA18162"
         },
         {
          "PC1": -4.457503795197147,
          "PC2": 3.21817157149582,
          "Population_code": "Unknown",
          "Sample": "NA18166"
         },
         {
          "PC1": 4.080437987008255,
          "PC2": 0.5881762371079273,
          "Population_code": "Unknown",
          "Sample": "NA18484"
         },
         {
          "PC1": 4.307110379541418,
          "PC2": 1.0331553600328445,
          "Population_code": "Unknown",
          "Sample": "NA18485"
         },
         {
          "PC1": 4.458101704546851,
          "PC2": 0.8213337887327372,
          "Population_code": "Unknown",
          "Sample": "NA18486"
         },
         {
          "PC1": 3.530338951455667,
          "PC2": 1.6929811957282224,
          "Population_code": "Unknown",
          "Sample": "NA18487"
         },
         {
          "PC1": 4.443254376535877,
          "PC2": -0.4568077229485005,
          "Population_code": "Unknown",
          "Sample": "NA18488"
         },
         {
          "PC1": 4.032179275452483,
          "PC2": 1.340815367869561,
          "Population_code": "Unknown",
          "Sample": "NA18489"
         },
         {
          "PC1": 4.950990655476173,
          "PC2": 1.262219729859949,
          "Population_code": "Unknown",
          "Sample": "NA18497"
         },
         {
          "PC1": 4.414567807806039,
          "PC2": 1.454058826902523,
          "Population_code": "Unknown",
          "Sample": "NA18498"
         },
         {
          "PC1": 3.652298865584877,
          "PC2": 1.046679228289826,
          "Population_code": "Unknown",
          "Sample": "NA18499"
         },
         {
          "PC1": 4.937450003777213,
          "PC2": 0.987433392114003,
          "Population_code": "African (YRI)",
          "Sample": "NA18500"
         },
         {
          "PC1": 4.66853167629063,
          "PC2": 0.7235480509557581,
          "Population_code": "African (YRI)",
          "Sample": "NA18501"
         },
         {
          "PC1": 4.929117693555074,
          "PC2": 1.5673492484179572,
          "Population_code": "African (YRI)",
          "Sample": "NA18503"
         },
         {
          "PC1": 4.811777027619943,
          "PC2": 0.8080486589350444,
          "Population_code": "African (YRI)",
          "Sample": "NA18504"
         },
         {
          "PC1": 4.168029693396353,
          "PC2": 1.2735067089282432,
          "Population_code": "African (YRI)",
          "Sample": "NA18505"
         },
         {
          "PC1": 4.581599079618166,
          "PC2": 1.481190169721729,
          "Population_code": "African (YRI)",
          "Sample": "NA18506"
         },
         {
          "PC1": 4.455005751072401,
          "PC2": 0.7401631236541315,
          "Population_code": "African (YRI)",
          "Sample": "NA18507"
         },
         {
          "PC1": 4.279496833984861,
          "PC2": 1.125074502386143,
          "Population_code": "African (YRI)",
          "Sample": "NA18508"
         },
         {
          "PC1": 6.00268781285968,
          "PC2": 0.9546344571109331,
          "Population_code": "Unknown",
          "Sample": "NA18509"
         },
         {
          "PC1": 4.599720253425257,
          "PC2": 0.8108666594880295,
          "Population_code": "Unknown",
          "Sample": "NA18510"
         },
         {
          "PC1": 4.333707676321255,
          "PC2": 0.9609299832205331,
          "Population_code": "Unknown",
          "Sample": "NA18511"
         },
         {
          "PC1": 4.609864676002639,
          "PC2": 0.9747270726685046,
          "Population_code": "African (YRI)",
          "Sample": "NA18515"
         },
         {
          "PC1": 5.198543506001217,
          "PC2": 0.5820013675872285,
          "Population_code": "African (YRI)",
          "Sample": "NA18516"
         },
         {
          "PC1": 5.078732766773069,
          "PC2": 1.6830153271332056,
          "Population_code": "African (YRI)",
          "Sample": "NA18517"
         },
         {
          "PC1": 5.330891486061295,
          "PC2": 1.731142707931725,
          "Population_code": "Unknown",
          "Sample": "NA18518"
         },
         {
          "PC1": 4.099717363266532,
          "PC2": 1.2621229072269409,
          "Population_code": "Unknown",
          "Sample": "NA18519"
         },
         {
          "PC1": 4.357043290766991,
          "PC2": 1.09356361818536,
          "Population_code": "Unknown",
          "Sample": "NA18520"
         },
         {
          "PC1": -3.3037044273729963,
          "PC2": 2.7180222472069744,
          "Population_code": "Chinese (CHB)",
          "Sample": "NA18524"
         },
         {
          "PC1": -4.452207013613581,
          "PC2": 3.5016712418724865,
          "Population_code": "Chinese (CHB)",
          "Sample": "NA18526"
         },
         {
          "PC1": -3.003624628149232,
          "PC2": 2.8124687134657425,
          "Population_code": "Chinese (CHB)",
          "Sample": "NA18529"
         },
         {
          "PC1": -4.106010987935999,
          "PC2": 3.260516293096136,
          "Population_code": "Chinese (CHB)",
          "Sample": "NA18532"
         },
         {
          "PC1": -3.8019968096119765,
          "PC2": 3.120272234671339,
          "Population_code": "Unknown",
          "Sample": "NA18534"
         },
         {
          "PC1": -3.7055717333245446,
          "PC2": 2.640227597129981,
          "Population_code": "Unknown",
          "Sample": "NA18536"
         },
         {
          "PC1": -3.279210818915951,
          "PC2": 3.1504552836519903,
          "Population_code": "Chinese (CHB)",
          "Sample": "NA18537"
         },
         {
          "PC1": -3.867050930734391,
          "PC2": 3.2834521903746627,
          "Population_code": "Chinese (CHB)",
          "Sample": "NA18542"
         },
         {
          "PC1": -3.623594061195372,
          "PC2": 2.873549182095319,
          "Population_code": "Unknown",
          "Sample": "NA18543"
         },
         {
          "PC1": -4.333253419550072,
          "PC2": 3.5583549964505017,
          "Population_code": "Unknown",
          "Sample": "NA18544"
         },
         {
          "PC1": -3.0813262593510604,
          "PC2": 3.4400011402723036,
          "Population_code": "Chinese (CHB)",
          "Sample": "NA18545"
         },
         {
          "PC1": -3.978173948718789,
          "PC2": 2.471903983855329,
          "Population_code": "Unknown",
          "Sample": "NA18546"
         },
         {
          "PC1": -4.342344423395285,
          "PC2": 3.1588493690544004,
          "Population_code": "Unknown",
          "Sample": "NA18548"
         },
         {
          "PC1": -3.2106296554022813,
          "PC2": 1.8986113014934867,
          "Population_code": "Chinese (CHB)",
          "Sample": "NA18550"
         },
         {
          "PC1": -4.21232470536318,
          "PC2": 3.4718705987412335,
          "Population_code": "Chinese (CHB)",
          "Sample": "NA18552"
         },
         {
          "PC1": -3.6682679622524406,
          "PC2": 3.2822528861077727,
          "Population_code": "Chinese (CHB)",
          "Sample": "NA18555"
         },
         {
          "PC1": -3.785334734907263,
          "PC2": 3.2195381662583102,
          "Population_code": "Unknown",
          "Sample": "NA18557"
         },
         {
          "PC1": -3.970941939604204,
          "PC2": 2.6764952199869563,
          "Population_code": "Chinese (CHB)",
          "Sample": "NA18558"
         },
         {
          "PC1": -3.2861432002558626,
          "PC2": 1.969389107972392,
          "Population_code": "Unknown",
          "Sample": "NA18559"
         },
         {
          "PC1": -3.950928388867915,
          "PC2": 3.312775513613646,
          "Population_code": "Chinese (CHB)",
          "Sample": "NA18561"
         },
         {
          "PC1": -2.9010353115232643,
          "PC2": 3.3163325129953094,
          "Population_code": "Chinese (CHB)",
          "Sample": "NA18562"
         },
         {
          "PC1": -3.093343439366407,
          "PC2": 3.3751983633335425,
          "Population_code": "Chinese (CHB)",
          "Sample": "NA18563"
         },
         {
          "PC1": -4.062272738091517,
          "PC2": 2.0027359573784853,
          "Population_code": "Chinese (CHB)",
          "Sample": "NA18564"
         },
         {
          "PC1": -4.376692309005723,
          "PC2": 4.240145521339648,
          "Population_code": "Chinese (CHB)",
          "Sample": "NA18566"
         },
         {
          "PC1": -3.2519137255534676,
          "PC2": 3.59509217003673,
          "Population_code": "Chinese (CHB)",
          "Sample": "NA18570"
         },
         {
          "PC1": -3.777456000932658,
          "PC2": 2.5321238006539124,
          "Population_code": "Chinese (CHB)",
          "Sample": "NA18571"
         },
         {
          "PC1": -3.194078486986284,
          "PC2": 4.657298222947262,
          "Population_code": "Chinese (CHB)",
          "Sample": "NA18572"
         },
         {
          "PC1": -3.3258953439558234,
          "PC2": 2.474939193604201,
          "Population_code": "Chinese (CHB)",
          "Sample": "NA18573"
         },
         {
          "PC1": -3.1961082979199826,
          "PC2": 2.08670877723226,
          "Population_code": "Chinese (CHB)",
          "Sample": "NA18576"
         },
         {
          "PC1": -3.1905723912206563,
          "PC2": 2.068454999940734,
          "Population_code": "Chinese (CHB)",
          "Sample": "NA18577"
         },
         {
          "PC1": -4.224859011054852,
          "PC2": 2.750053991500214,
          "Population_code": "Chinese (CHB)",
          "Sample": "NA18579"
         },
         {
          "PC1": -3.3905934055814035,
          "PC2": 2.4720480577449377,
          "Population_code": "Chinese (CHB)",
          "Sample": "NA18582"
         },
         {
          "PC1": -2.6882145644153255,
          "PC2": 3.2227019778845665,
          "Population_code": "Chinese (CHB)",
          "Sample": "NA18592"
         },
         {
          "PC1": -3.8720094503383677,
          "PC2": 2.8929641985350023,
          "Population_code": "Chinese (CHB)",
          "Sample": "NA18593"
         },
         {
          "PC1": -3.6009780512034277,
          "PC2": 2.6638247300330105,
          "Population_code": "Chinese (CHB)",
          "Sample": "NA18594"
         },
         {
          "PC1": -3.799828113652066,
          "PC2": 3.515439184929689,
          "Population_code": "Unknown",
          "Sample": "NA18595"
         },
         {
          "PC1": -3.841806275057026,
          "PC2": 3.27608497582855,
          "Population_code": "Unknown",
          "Sample": "NA18596"
         },
         {
          "PC1": -3.0051825795332703,
          "PC2": 3.614129895486636,
          "Population_code": "Unknown",
          "Sample": "NA18597"
         },
         {
          "PC1": -4.446418868459884,
          "PC2": 3.509373199799799,
          "Population_code": "Unknown",
          "Sample": "NA18599"
         },
         {
          "PC1": -4.434275343161755,
          "PC2": 3.9329863973577623,
          "Population_code": "Unknown",
          "Sample": "NA18602"
         },
         {
          "PC1": -3.8323242438723346,
          "PC2": 4.101108533598736,
          "Population_code": "Chinese (CHB)",
          "Sample": "NA18603"
         },
         {
          "PC1": -2.660384605135491,
          "PC2": 2.2273620962848453,
          "Population_code": "Chinese (CHB)",
          "Sample": "NA18605"
         },
         {
          "PC1": -4.265882518051179,
          "PC2": 2.787027633363506,
          "Population_code": "Chinese (CHB)",
          "Sample": "NA18608"
         },
         {
          "PC1": -4.701287188451567,
          "PC2": 1.3122576489961582,
          "Population_code": "Chinese (CHB)",
          "Sample": "NA18609"
         },
         {
          "PC1": -2.437396195998362,
          "PC2": 2.6279339505318937,
          "Population_code": "Unknown",
          "Sample": "NA18610"
         },
         {
          "PC1": -2.365920383694329,
          "PC2": 1.769443270136208,
          "Population_code": "Chinese (CHB)",
          "Sample": "NA18611"
         },
         {
          "PC1": -3.0887223599276075,
          "PC2": 2.678382781110134,
          "Population_code": "Chinese (CHB)",
          "Sample": "NA18612"
         },
         {
          "PC1": -3.945679759326771,
          "PC2": 3.2658951777649237,
          "Population_code": "Unknown",
          "Sample": "NA18613"
         },
         {
          "PC1": -2.947354458530813,
          "PC2": 3.3663353370397786,
          "Population_code": "Unknown",
          "Sample": "NA18614"
         },
         {
          "PC1": -3.3093115068598165,
          "PC2": 3.061495734329657,
          "Population_code": "Unknown",
          "Sample": "NA18615"
         },
         {
          "PC1": -3.6880788399031714,
          "PC2": 2.812644379233221,
          "Population_code": "Unknown",
          "Sample": "NA18616"
         },
         {
          "PC1": -3.417362682401933,
          "PC2": 2.9824107948201743,
          "Population_code": "Unknown",
          "Sample": "NA18617"
         },
         {
          "PC1": -3.5112085368410613,
          "PC2": 2.4934333224912333,
          "Population_code": "Unknown",
          "Sample": "NA18618"
         },
         {
          "PC1": -3.5100152840323138,
          "PC2": 2.1270927885148336,
          "Population_code": "Unknown",
          "Sample": "NA18619"
         },
         {
          "PC1": -4.211362405498298,
          "PC2": 3.461716016443148,
          "Population_code": "Chinese (CHB)",
          "Sample": "NA18620"
         },
         {
          "PC1": -3.7503047693351803,
          "PC2": 2.8619106958386005,
          "Population_code": "Chinese (CHB)",
          "Sample": "NA18621"
         },
         {
          "PC1": -3.830953564978763,
          "PC2": 2.2631801301298435,
          "Population_code": "Chinese (CHB)",
          "Sample": "NA18622"
         },
         {
          "PC1": -4.891061429715378,
          "PC2": 4.031645493769295,
          "Population_code": "Chinese (CHB)",
          "Sample": "NA18623"
         },
         {
          "PC1": -3.9665232833016786,
          "PC2": 2.7583048107363126,
          "Population_code": "Chinese (CHB)",
          "Sample": "NA18624"
         },
         {
          "PC1": -3.125837546117414,
          "PC2": 2.7863753628493235,
          "Population_code": "Unknown",
          "Sample": "NA18626"
         },
         {
          "PC1": -4.488850905337871,
          "PC2": 2.6415906975272594,
          "Population_code": "Unknown",
          "Sample": "NA18627"
         },
         {
          "PC1": -3.922105957409952,
          "PC2": 3.4107045700682863,
          "Population_code": "Unknown",
          "Sample": "NA18628"
         },
         {
          "PC1": -3.8654476434922738,
          "PC2": 2.6221392837795894,
          "Population_code": "Unknown",
          "Sample": "NA18630"
         },
         {
          "PC1": -4.039566046472693,
          "PC2": 3.6974363463548254,
          "Population_code": "Unknown",
          "Sample": "NA18631"
         },
         {
          "PC1": -2.9650659394874275,
          "PC2": 4.0967567972241,
          "Population_code": "Chinese (CHB)",
          "Sample": "NA18632"
         },
         {
          "PC1": -3.970968870482719,
          "PC2": 3.773877719148743,
          "Population_code": "Chinese (CHB)",
          "Sample": "NA18633"
         },
         {
          "PC1": -4.070775244472031,
          "PC2": 3.061752971821779,
          "Population_code": "Unknown",
          "Sample": "NA18634"
         },
         {
          "PC1": -3.4992565770458284,
          "PC2": 2.8318930875835275,
          "Population_code": "Chinese (CHB)",
          "Sample": "NA18635"
         },
         {
          "PC1": -4.0375332105375445,
          "PC2": 3.6193755137659904,
          "Population_code": "Chinese (CHB)",
          "Sample": "NA18636"
         },
         {
          "PC1": -3.1458523719193745,
          "PC2": 2.60754365253385,
          "Population_code": "Chinese (CHB)",
          "Sample": "NA18637"
         },
         {
          "PC1": -3.6698442385208576,
          "PC2": 3.4246738787948288,
          "Population_code": "Unknown",
          "Sample": "NA18638"
         },
         {
          "PC1": -2.960482900367959,
          "PC2": 3.2024420041448605,
          "Population_code": "Unknown",
          "Sample": "NA18639"
         },
         {
          "PC1": -3.74802680035178,
          "PC2": 3.3154213601414604,
          "Population_code": "Unknown",
          "Sample": "NA18640"
         },
         {
          "PC1": -3.225785147276951,
          "PC2": 3.5169490119414,
          "Population_code": "Unknown",
          "Sample": "NA18641"
         },
         {
          "PC1": -4.235062980635099,
          "PC2": 2.743167371544547,
          "Population_code": "Unknown",
          "Sample": "NA18642"
         },
         {
          "PC1": -4.272809523370217,
          "PC2": 2.9853272846246064,
          "Population_code": "Unknown",
          "Sample": "NA18643"
         },
         {
          "PC1": -3.320473170480723,
          "PC2": 2.875663338743654,
          "Population_code": "Unknown",
          "Sample": "NA18645"
         },
         {
          "PC1": -2.4304178288722147,
          "PC2": 3.2581678016401474,
          "Population_code": "Unknown",
          "Sample": "NA18647"
         },
         {
          "PC1": -3.8546896373197583,
          "PC2": 2.4175611259522976,
          "Population_code": "Unknown",
          "Sample": "NA18670"
         },
         {
          "PC1": -3.4469247713328346,
          "PC2": 3.689807603307351,
          "Population_code": "Unknown",
          "Sample": "NA18674"
         },
         {
          "PC1": -3.785141612857217,
          "PC2": 3.5793596615424073,
          "Population_code": "Unknown",
          "Sample": "NA18682"
         },
         {
          "PC1": -4.714793999876484,
          "PC2": 3.2531701104407884,
          "Population_code": "Unknown",
          "Sample": "NA18685"
         },
         {
          "PC1": -2.608401660659485,
          "PC2": 2.3153925769101678,
          "Population_code": "Unknown",
          "Sample": "NA18689"
         },
         {
          "PC1": -5.104345401182927,
          "PC2": 3.6332335147385972,
          "Population_code": "Unknown",
          "Sample": "NA18694"
         },
         {
          "PC1": -2.6493425579845513,
          "PC2": 3.57867722098139,
          "Population_code": "Unknown",
          "Sample": "NA18696"
         },
         {
          "PC1": -4.013736732127231,
          "PC2": 3.2885925518301318,
          "Population_code": "Unknown",
          "Sample": "NA18702"
         },
         {
          "PC1": -3.395011744972791,
          "PC2": 1.1143953477248592,
          "Population_code": "Unknown",
          "Sample": "NA18704"
         },
         {
          "PC1": -3.230662667721617,
          "PC2": 2.8728931842273018,
          "Population_code": "Unknown",
          "Sample": "NA18740"
         },
         {
          "PC1": -3.5064459015606038,
          "PC2": 3.026151360004728,
          "Population_code": "Unknown",
          "Sample": "NA18745"
         },
         {
          "PC1": -4.32724686169296,
          "PC2": 2.8011245932826796,
          "Population_code": "Unknown",
          "Sample": "NA18747"
         },
         {
          "PC1": -3.8865201930615,
          "PC2": 2.7001414306241234,
          "Population_code": "Unknown",
          "Sample": "NA18748"
         },
         {
          "PC1": -3.4355538749462555,
          "PC2": 1.9959133389459223,
          "Population_code": "Unknown",
          "Sample": "NA18749"
         },
         {
          "PC1": -4.447883907710223,
          "PC2": 3.54507969328593,
          "Population_code": "Unknown",
          "Sample": "NA18757"
         },
         {
          "PC1": 5.200726504166303,
          "PC2": 0.4455806177367313,
          "Population_code": "African (YRI)",
          "Sample": "NA18852"
         },
         {
          "PC1": 4.397869967183331,
          "PC2": 1.081125224311115,
          "Population_code": "African (YRI)",
          "Sample": "NA18853"
         },
         {
          "PC1": 5.730984528289105,
          "PC2": 1.5979888106506648,
          "Population_code": "African (YRI)",
          "Sample": "NA18854"
         },
         {
          "PC1": 3.351909205085044,
          "PC2": 1.1558333739607392,
          "Population_code": "African (YRI)",
          "Sample": "NA18855"
         },
         {
          "PC1": 3.281352545215281,
          "PC2": 1.6342319438120294,
          "Population_code": "African (YRI)",
          "Sample": "NA18857"
         },
         {
          "PC1": 4.794624604093617,
          "PC2": 0.6481931848343512,
          "Population_code": "African (YRI)",
          "Sample": "NA18858"
         },
         {
          "PC1": 5.230727444849319,
          "PC2": 1.9726105790711046,
          "Population_code": "African (YRI)",
          "Sample": "NA18859"
         },
         {
          "PC1": 4.625443315467418,
          "PC2": 1.6985896352138017,
          "Population_code": "African (YRI)",
          "Sample": "NA18860"
         },
         {
          "PC1": 3.8516458086443714,
          "PC2": -0.5895077522613519,
          "Population_code": "African (YRI)",
          "Sample": "NA18861"
         },
         {
          "PC1": 4.2039198340350135,
          "PC2": 0.9187802077943042,
          "Population_code": "African (YRI)",
          "Sample": "NA18862"
         },
         {
          "PC1": 4.414337067069391,
          "PC2": 0.1351508285557043,
          "Population_code": "African (YRI)",
          "Sample": "NA18863"
         },
         {
          "PC1": 4.385356299771288,
          "PC2": 0.8442183777939472,
          "Population_code": "Unknown",
          "Sample": "NA18867"
         },
         {
          "PC1": 4.511035926894945,
          "PC2": 0.17461030601868532,
          "Population_code": "Unknown",
          "Sample": "NA18868"
         },
         {
          "PC1": 3.6115554042148283,
          "PC2": -0.05150519117783453,
          "Population_code": "Unknown",
          "Sample": "NA18869"
         },
         {
          "PC1": 3.848683449550123,
          "PC2": 0.2801672472457425,
          "Population_code": "African (YRI)",
          "Sample": "NA18870"
         },
         {
          "PC1": 5.086796103610283,
          "PC2": 0.7757167482347571,
          "Population_code": "African (YRI)",
          "Sample": "NA18871"
         },
         {
          "PC1": 4.71483694793929,
          "PC2": 1.462500754428764,
          "Population_code": "African (YRI)",
          "Sample": "NA18872"
         },
         {
          "PC1": 4.176546111287292,
          "PC2": 1.1858827537636758,
          "Population_code": "Unknown",
          "Sample": "NA18873"
         },
         {
          "PC1": 3.974693527312475,
          "PC2": 1.1694888582786165,
          "Population_code": "Unknown",
          "Sample": "NA18874"
         },
         {
          "PC1": 3.72298721844407,
          "PC2": 1.1074334756715678,
          "Population_code": "Unknown",
          "Sample": "NA18875"
         },
         {
          "PC1": 4.618403317791334,
          "PC2": 1.198341009043999,
          "Population_code": "Unknown",
          "Sample": "NA18909"
         },
         {
          "PC1": 4.480024891045552,
          "PC2": 1.1657326811428352,
          "Population_code": "Unknown",
          "Sample": "NA18910"
         },
         {
          "PC1": 4.845537122562208,
          "PC2": 1.5426881112937934,
          "Population_code": "Unknown",
          "Sample": "NA18911"
         },
         {
          "PC1": 3.877480008328172,
          "PC2": -0.6651544024144113,
          "Population_code": "African (YRI)",
          "Sample": "NA18912"
         },
         {
          "PC1": 3.467180219260784,
          "PC2": 1.2054148206166275,
          "Population_code": "African (YRI)",
          "Sample": "NA18913"
         },
         {
          "PC1": 3.571924121972565,
          "PC2": 0.770903050383257,
          "Population_code": "African (YRI)",
          "Sample": "NA18914"
         },
         {
          "PC1": 4.554093870985296,
          "PC2": -0.8447457101394248,
          "Population_code": "Unknown",
          "Sample": "NA18916"
         },
         {
          "PC1": 4.53480421730363,
          "PC2": 0.4778221020836489,
          "Population_code": "Unknown",
          "Sample": "NA18917"
         },
         {
          "PC1": 3.940593865960504,
          "PC2": 1.1163114999858605,
          "Population_code": "Unknown",
          "Sample": "NA18923"
         },
         {
          "PC1": 3.4845885299866506,
          "PC2": 0.6450034632990048,
          "Population_code": "Unknown",
          "Sample": "NA18924"
         },
         {
          "PC1": 3.7242063376750916,
          "PC2": 1.0350737578026203,
          "Population_code": "Unknown",
          "Sample": "NA18925"
         },
         {
          "PC1": 4.7463888433900285,
          "PC2": -0.217282138075929,
          "Population_code": "Unknown",
          "Sample": "NA18930"
         },
         {
          "PC1": 4.686494594432067,
          "PC2": 0.6413957295947523,
          "Population_code": "Unknown",
          "Sample": "NA18933"
         },
         {
          "PC1": 4.236153988610693,
          "PC2": 0.788093962043166,
          "Population_code": "Unknown",
          "Sample": "NA18934"
         },
         {
          "PC1": 4.720350533801504,
          "PC2": 1.707208147106022,
          "Population_code": "Unknown",
          "Sample": "NA18935"
         },
         {
          "PC1": -4.045769529446338,
          "PC2": 3.6758710311163756,
          "Population_code": "Unknown",
          "Sample": "NA18939"
         },
         {
          "PC1": -2.9653059387664373,
          "PC2": 3.2743529456395355,
          "Population_code": "Japanese (JPT)",
          "Sample": "NA18940"
         },
         {
          "PC1": -3.462283693691664,
          "PC2": 3.5405037011915623,
          "Population_code": "Japanese (JPT)",
          "Sample": "NA18942"
         },
         {
          "PC1": -2.9508899568509834,
          "PC2": 2.834850106866922,
          "Population_code": "Japanese (JPT)",
          "Sample": "NA18943"
         },
         {
          "PC1": -2.9884662963602846,
          "PC2": 3.211227460096559,
          "Population_code": "Japanese (JPT)",
          "Sample": "NA18944"
         },
         {
          "PC1": -3.1975553983366316,
          "PC2": 3.7320703407331766,
          "Population_code": "Japanese (JPT)",
          "Sample": "NA18945"
         },
         {
          "PC1": -4.44599745103905,
          "PC2": 3.1307953102591295,
          "Population_code": "Unknown",
          "Sample": "NA18946"
         },
         {
          "PC1": -2.9872151365098976,
          "PC2": 3.103211031748662,
          "Population_code": "Japanese (JPT)",
          "Sample": "NA18947"
         },
         {
          "PC1": -2.7771949985064746,
          "PC2": 2.9219225939980626,
          "Population_code": "Japanese (JPT)",
          "Sample": "NA18948"
         },
         {
          "PC1": -3.698462842590306,
          "PC2": 2.981946510383115,
          "Population_code": "Japanese (JPT)",
          "Sample": "NA18949"
         },
         {
          "PC1": -3.0294525193157016,
          "PC2": 2.204762519952841,
          "Population_code": "Japanese (JPT)",
          "Sample": "NA18951"
         },
         {
          "PC1": -4.112270156400346,
          "PC2": 3.8459371276379652,
          "Population_code": "Japanese (JPT)",
          "Sample": "NA18952"
         },
         {
          "PC1": -4.520058748857801,
          "PC2": 4.891355537610572,
          "Population_code": "Japanese (JPT)",
          "Sample": "NA18953"
         },
         {
          "PC1": -4.171500784202502,
          "PC2": 3.660277945815605,
          "Population_code": "Unknown",
          "Sample": "NA18954"
         },
         {
          "PC1": -3.624936547033852,
          "PC2": 3.386540705431191,
          "Population_code": "Unknown",
          "Sample": "NA18955"
         },
         {
          "PC1": -3.962319309740509,
          "PC2": 3.676475417533415,
          "Population_code": "Japanese (JPT)",
          "Sample": "NA18956"
         },
         {
          "PC1": -4.010470234225764,
          "PC2": 2.849404189698597,
          "Population_code": "Unknown",
          "Sample": "NA18957"
         },
         {
          "PC1": -2.6022363556631536,
          "PC2": 2.8780229669032016,
          "Population_code": "Japanese (JPT)",
          "Sample": "NA18959"
         },
         {
          "PC1": -3.745614935770211,
          "PC2": 2.0936103749858446,
          "Population_code": "Japanese (JPT)",
          "Sample": "NA18960"
         },
         {
          "PC1": -4.351235335666081,
          "PC2": 3.544943035315333,
          "Population_code": "Japanese (JPT)",
          "Sample": "NA18961"
         },
         {
          "PC1": -4.340888926682884,
          "PC2": 3.62004891350514,
          "Population_code": "Unknown",
          "Sample": "NA18962"
         },
         {
          "PC1": -3.6500584179260813,
          "PC2": 3.7489028608764805,
          "Population_code": "Unknown",
          "Sample": "NA18963"
         },
         {
          "PC1": -3.1465183021367262,
          "PC2": 2.6151729994351403,
          "Population_code": "Japanese (JPT)",
          "Sample": "NA18964"
         },
         {
          "PC1": -3.2087401869340106,
          "PC2": 3.5196183192278574,
          "Population_code": "Japanese (JPT)",
          "Sample": "NA18965"
         },
         {
          "PC1": -4.377330051406381,
          "PC2": 1.6647309220862114,
          "Population_code": "Japanese (JPT)",
          "Sample": "NA18966"
         },
         {
          "PC1": -3.848807879534492,
          "PC2": 2.1862007527917355,
          "Population_code": "Japanese (JPT)",
          "Sample": "NA18967"
         },
         {
          "PC1": -3.02278060058819,
          "PC2": 3.1121808502625514,
          "Population_code": "Japanese (JPT)",
          "Sample": "NA18968"
         },
         {
          "PC1": -4.1512005820624145,
          "PC2": 2.2015297502899465,
          "Population_code": "Japanese (JPT)",
          "Sample": "NA18969"
         },
         {
          "PC1": -3.2822465125779243,
          "PC2": 2.895740963566674,
          "Population_code": "Japanese (JPT)",
          "Sample": "NA18970"
         },
         {
          "PC1": -4.022942591082235,
          "PC2": 3.384311211063821,
          "Population_code": "Japanese (JPT)",
          "Sample": "NA18971"
         },
         {
          "PC1": -2.979628785949654,
          "PC2": 3.627043165189177,
          "Population_code": "Japanese (JPT)",
          "Sample": "NA18972"
         },
         {
          "PC1": -2.799313545465679,
          "PC2": 3.5102921122042603,
          "Population_code": "Japanese (JPT)",
          "Sample": "NA18973"
         },
         {
          "PC1": -3.8706060566436205,
          "PC2": 3.5292250681597745,
          "Population_code": "Japanese (JPT)",
          "Sample": "NA18974"
         },
         {
          "PC1": -3.281383314321254,
          "PC2": 3.8933681375026503,
          "Population_code": "Japanese (JPT)",
          "Sample": "NA18975"
         },
         {
          "PC1": -4.125931691429095,
          "PC2": 4.112698673419557,
          "Population_code": "Japanese (JPT)",
          "Sample": "NA18976"
         },
         {
          "PC1": -3.9226994281036363,
          "PC2": 3.070090117792372,
          "Population_code": "Unknown",
          "Sample": "NA18977"
         },
         {
          "PC1": -2.9870766787857743,
          "PC2": 4.251071527726546,
          "Population_code": "Japanese (JPT)",
          "Sample": "NA18978"
         },
         {
          "PC1": -3.0258699097979336,
          "PC2": 3.2282877500185974,
          "Population_code": "Unknown",
          "Sample": "NA18979"
         },
         {
          "PC1": -2.7488766529436837,
          "PC2": 3.4209931293920777,
          "Population_code": "Japanese (JPT)",
          "Sample": "NA18980"
         },
         {
          "PC1": -3.1059275772058754,
          "PC2": 3.3283363270976274,
          "Population_code": "Japanese (JPT)",
          "Sample": "NA18981"
         },
         {
          "PC1": -3.214769433724391,
          "PC2": 2.8550223094409724,
          "Population_code": "Japanese (JPT)",
          "Sample": "NA18987"
         },
         {
          "PC1": -3.4211208681875918,
          "PC2": 4.38597460012782,
          "Population_code": "Japanese (JPT)",
          "Sample": "NA18990"
         },
         {
          "PC1": -2.383104202739371,
          "PC2": 3.315101214842298,
          "Population_code": "Japanese (JPT)",
          "Sample": "NA18991"
         },
         {
          "PC1": -3.27437347733067,
          "PC2": 3.5508676973411686,
          "Population_code": "Unknown",
          "Sample": "NA18993"
         },
         {
          "PC1": -2.5391915715736904,
          "PC2": 3.113016878596822,
          "Population_code": "Japanese (JPT)",
          "Sample": "NA18994"
         },
         {
          "PC1": -3.7754342536406833,
          "PC2": 3.4227008561947465,
          "Population_code": "Japanese (JPT)",
          "Sample": "NA18995"
         },
         {
          "PC1": -3.1707081668464836,
          "PC2": 2.194051505120437,
          "Population_code": "Japanese (JPT)",
          "Sample": "NA18997"
         },
         {
          "PC1": -4.362567642253337,
          "PC2": 3.129190466813406,
          "Population_code": "Japanese (JPT)",
          "Sample": "NA18998"
         },
         {
          "PC1": -3.9137059048531526,
          "PC2": 2.9472646441495063,
          "Population_code": "Japanese (JPT)",
          "Sample": "NA18999"
         },
         {
          "PC1": -3.8642918575441003,
          "PC2": 4.210002789680438,
          "Population_code": "Japanese (JPT)",
          "Sample": "NA19000"
         },
         {
          "PC1": -3.4531251840457773,
          "PC2": 3.3506234703555515,
          "Population_code": "Unknown",
          "Sample": "NA19001"
         },
         {
          "PC1": -3.5818403634927125,
          "PC2": 3.119208849801535,
          "Population_code": "Unknown",
          "Sample": "NA19002"
         },
         {
          "PC1": -3.3299555810980666,
          "PC2": 2.5349990094310635,
          "Population_code": "Japanese (JPT)",
          "Sample": "NA19005"
         },
         {
          "PC1": -2.4482811692712807,
          "PC2": 2.7251831053709896,
          "Population_code": "Japanese (JPT)",
          "Sample": "NA19007"
         },
         {
          "PC1": -3.3904397328107296,
          "PC2": 3.0325065574902488,
          "Population_code": "Unknown",
          "Sample": "NA19009"
         },
         {
          "PC1": -4.86557522786526,
          "PC2": 3.6787059339830077,
          "Population_code": "Unknown",
          "Sample": "NA19010"
         },
         {
          "PC1": 3.285574502710194,
          "PC2": 1.1578846684071866,
          "Population_code": "Unknown",
          "Sample": "NA19027"
         },
         {
          "PC1": 3.4970727991931474,
          "PC2": -0.13940400156637006,
          "Population_code": "Unknown",
          "Sample": "NA19028"
         },
         {
          "PC1": 3.7656578363631965,
          "PC2": 0.4030122313542506,
          "Population_code": "Unknown",
          "Sample": "NA19031"
         },
         {
          "PC1": 4.65765096306615,
          "PC2": 0.6430876659025381,
          "Population_code": "Unknown",
          "Sample": "NA19035"
         },
         {
          "PC1": 4.179574212996169,
          "PC2": 0.3537070549314289,
          "Population_code": "Unknown",
          "Sample": "NA19036"
         },
         {
          "PC1": 4.04796992031635,
          "PC2": 1.858296405865194,
          "Population_code": "Unknown",
          "Sample": "NA19038"
         },
         {
          "PC1": 4.391780506149608,
          "PC2": -0.09432559820554232,
          "Population_code": "Unknown",
          "Sample": "NA19041"
         },
         {
          "PC1": 3.763369009935394,
          "PC2": 1.2487713023716283,
          "Population_code": "Unknown",
          "Sample": "NA19044"
         },
         {
          "PC1": 3.781417158566068,
          "PC2": 0.8573396111502711,
          "Population_code": "Unknown",
          "Sample": "NA19046"
         },
         {
          "PC1": -3.2706849552128454,
          "PC2": 4.384260156881348,
          "Population_code": "Unknown",
          "Sample": "NA19054"
         },
         {
          "PC1": -3.6585816853864275,
          "PC2": 3.7817521244515295,
          "Population_code": "Unknown",
          "Sample": "NA19055"
         },
         {
          "PC1": -3.847037639961988,
          "PC2": 3.879027718274484,
          "Population_code": "Unknown",
          "Sample": "NA19056"
         },
         {
          "PC1": -4.09885178490235,
          "PC2": 4.136759071471678,
          "Population_code": "Unknown",
          "Sample": "NA19057"
         },
         {
          "PC1": -2.0833905237169894,
          "PC2": 2.8640485121715864,
          "Population_code": "Unknown",
          "Sample": "NA19058"
         },
         {
          "PC1": -3.5593608483154173,
          "PC2": 2.3599155440038855,
          "Population_code": "Unknown",
          "Sample": "NA19059"
         },
         {
          "PC1": -2.655785524037159,
          "PC2": 3.4229484767122207,
          "Population_code": "Unknown",
          "Sample": "NA19060"
         },
         {
          "PC1": -4.06861155654554,
          "PC2": 2.7457939073144235,
          "Population_code": "Unknown",
          "Sample": "NA19062"
         },
         {
          "PC1": -1.8490749250528018,
          "PC2": 4.744175622231406,
          "Population_code": "Unknown",
          "Sample": "NA19063"
         },
         {
          "PC1": -3.7485989238647113,
          "PC2": 2.599858419251155,
          "Population_code": "Unknown",
          "Sample": "NA19064"
         },
         {
          "PC1": -2.6807794530233604,
          "PC2": 2.6640725570314596,
          "Population_code": "Unknown",
          "Sample": "NA19065"
         },
         {
          "PC1": -2.8084423833210113,
          "PC2": 1.7389087252807114,
          "Population_code": "Unknown",
          "Sample": "NA19066"
         },
         {
          "PC1": -3.0508755994835814,
          "PC2": 2.8725057426453096,
          "Population_code": "Unknown",
          "Sample": "NA19067"
         },
         {
          "PC1": -3.77366500378484,
          "PC2": 3.7588410275788227,
          "Population_code": "Unknown",
          "Sample": "NA19068"
         },
         {
          "PC1": -3.243361278751453,
          "PC2": 2.36818267309738,
          "Population_code": "Unknown",
          "Sample": "NA19070"
         },
         {
          "PC1": -4.609754162902535,
          "PC2": 3.7182714388729066,
          "Population_code": "Unknown",
          "Sample": "NA19072"
         },
         {
          "PC1": -3.0471878901294636,
          "PC2": 3.443474613234769,
          "Population_code": "Unknown",
          "Sample": "NA19074"
         },
         {
          "PC1": -3.5305918395092775,
          "PC2": 2.8447085772915552,
          "Population_code": "Unknown",
          "Sample": "NA19075"
         },
         {
          "PC1": -4.469677718952525,
          "PC2": 3.815615176039473,
          "Population_code": "Unknown",
          "Sample": "NA19076"
         },
         {
          "PC1": -2.7837103662362908,
          "PC2": 4.350554175135545,
          "Population_code": "Unknown",
          "Sample": "NA19077"
         },
         {
          "PC1": -3.778572822346663,
          "PC2": 2.4461902318368356,
          "Population_code": "Unknown",
          "Sample": "NA19078"
         },
         {
          "PC1": -2.9600592650866027,
          "PC2": 2.6441031494989313,
          "Population_code": "Unknown",
          "Sample": "NA19079"
         },
         {
          "PC1": -2.866144439560211,
          "PC2": 2.0326564682833728,
          "Population_code": "Unknown",
          "Sample": "NA19080"
         },
         {
          "PC1": -3.5478956599764935,
          "PC2": 3.2641165936591827,
          "Population_code": "Unknown",
          "Sample": "NA19081"
         },
         {
          "PC1": -3.3513073996800364,
          "PC2": 3.6104115941939474,
          "Population_code": "Unknown",
          "Sample": "NA19083"
         },
         {
          "PC1": -3.3614380820025316,
          "PC2": 4.540413217487521,
          "Population_code": "Unknown",
          "Sample": "NA19084"
         },
         {
          "PC1": -4.135243978782464,
          "PC2": 3.5966366990999106,
          "Population_code": "Unknown",
          "Sample": "NA19085"
         },
         {
          "PC1": -2.5145957317167196,
          "PC2": 2.9975611982684764,
          "Population_code": "Unknown",
          "Sample": "NA19086"
         },
         {
          "PC1": -4.43743450083561,
          "PC2": 3.077098277421581,
          "Population_code": "Unknown",
          "Sample": "NA19087"
         },
         {
          "PC1": -3.870445089717218,
          "PC2": 2.968223230545147,
          "Population_code": "Unknown",
          "Sample": "NA19088"
         },
         {
          "PC1": 3.832557757352605,
          "PC2": 0.6253427082813134,
          "Population_code": "African (YRI)",
          "Sample": "NA19093"
         },
         {
          "PC1": 3.5778560919609426,
          "PC2": 1.5785302294005268,
          "Population_code": "African (YRI)",
          "Sample": "NA19094"
         },
         {
          "PC1": 3.867677866417004,
          "PC2": 1.0617206530767807,
          "Population_code": "Unknown",
          "Sample": "NA19095"
         },
         {
          "PC1": 4.833013403765681,
          "PC2": 1.4486004417649572,
          "Population_code": "Unknown",
          "Sample": "NA19096"
         },
         {
          "PC1": 3.257717159968713,
          "PC2": 1.369426800235805,
          "Population_code": "Unknown",
          "Sample": "NA19097"
         },
         {
          "PC1": 3.6627317351252238,
          "PC2": 1.5974876133626408,
          "Population_code": "African (YRI)",
          "Sample": "NA19098"
         },
         {
          "PC1": 4.213589508555156,
          "PC2": 1.79829538393128,
          "Population_code": "African (YRI)",
          "Sample": "NA19099"
         },
         {
          "PC1": 4.4193841142130665,
          "PC2": 0.6798725569267294,
          "Population_code": "African (YRI)",
          "Sample": "NA19101"
         },
         {
          "PC1": 5.28350899446844,
          "PC2": 0.8550318221372081,
          "Population_code": "African (YRI)",
          "Sample": "NA19102"
         },
         {
          "PC1": 4.3762930232024795,
          "PC2": 0.3586532963597385,
          "Population_code": "African (YRI)",
          "Sample": "NA19103"
         },
         {
          "PC1": 4.557770156091546,
          "PC2": 0.16000789315300756,
          "Population_code": "Unknown",
          "Sample": "NA19107"
         },
         {
          "PC1": 4.736607610498257,
          "PC2": 1.9921617160048621,
          "Population_code": "Unknown",
          "Sample": "NA19108"
         },
         {
          "PC1": 4.460515403893944,
          "PC2": 0.7680892192930973,
          "Population_code": "Unknown",
          "Sample": "NA19109"
         },
         {
          "PC1": 4.153274709990633,
          "PC2": 0.9246372211642477,
          "Population_code": "Unknown",
          "Sample": "NA19113"
         },
         {
          "PC1": 5.094128312371511,
          "PC2": 0.7750787515692978,
          "Population_code": "Unknown",
          "Sample": "NA19114"
         },
         {
          "PC1": 5.026209079123316,
          "PC2": 0.9737062733213553,
          "Population_code": "Unknown",
          "Sample": "NA19115"
         },
         {
          "PC1": 5.215095320435653,
          "PC2": 0.6617270678718166,
          "Population_code": "African (YRI)",
          "Sample": "NA19116"
         },
         {
          "PC1": 4.848966117719217,
          "PC2": 0.1884741546463208,
          "Population_code": "Unknown",
          "Sample": "NA19117"
         },
         {
          "PC1": 3.6595637694273107,
          "PC2": 0.2592470528299148,
          "Population_code": "Unknown",
          "Sample": "NA19118"
         },
         {
          "PC1": 3.701533786749333,
          "PC2": 1.4667148789222222,
          "Population_code": "African (YRI)",
          "Sample": "NA19119"
         },
         {
          "PC1": 4.603224000852912,
          "PC2": 0.5630682150889783,
          "Population_code": "African (YRI)",
          "Sample": "NA19120"
         },
         {
          "PC1": 4.276858202922307,
          "PC2": 0.6130601304605683,
          "Population_code": "Unknown",
          "Sample": "NA19121"
         },
         {
          "PC1": 4.687526034319268,
          "PC2": 0.5332193567878135,
          "Population_code": "Unknown",
          "Sample": "NA19122"
         },
         {
          "PC1": 4.318460629841862,
          "PC2": 0.5573576537848953,
          "Population_code": "Unknown",
          "Sample": "NA19123"
         },
         {
          "PC1": 5.01818412998001,
          "PC2": 1.1652981992232756,
          "Population_code": "African (YRI)",
          "Sample": "NA19127"
         },
         {
          "PC1": 4.2084412000882505,
          "PC2": 0.9444034801583023,
          "Population_code": "African (YRI)",
          "Sample": "NA19128"
         },
         {
          "PC1": 4.287710266564728,
          "PC2": 0.4439876337787835,
          "Population_code": "African (YRI)",
          "Sample": "NA19129"
         },
         {
          "PC1": 4.959027613380059,
          "PC2": 1.1247046608158227,
          "Population_code": "African (YRI)",
          "Sample": "NA19130"
         },
         {
          "PC1": 3.760770463436383,
          "PC2": 1.3371903804167595,
          "Population_code": "African (YRI)",
          "Sample": "NA19131"
         },
         {
          "PC1": 4.195266265040251,
          "PC2": 0.9027374111904546,
          "Population_code": "African (YRI)",
          "Sample": "NA19132"
         },
         {
          "PC1": 3.875347831590044,
          "PC2": 0.7463716076162674,
          "Population_code": "African (YRI)",
          "Sample": "NA19137"
         },
         {
          "PC1": 4.30419147866436,
          "PC2": 1.5202426210246207,
          "Population_code": "African (YRI)",
          "Sample": "NA19138"
         },
         {
          "PC1": 4.233623412581699,
          "PC2": 0.3742951054101509,
          "Population_code": "African (YRI)",
          "Sample": "NA19139"
         },
         {
          "PC1": 4.29576467790596,
          "PC2": 0.8020930309184691,
          "Population_code": "African (YRI)",
          "Sample": "NA19140"
         },
         {
          "PC1": 4.2981369238043605,
          "PC2": 1.773163276726847,
          "Population_code": "African (YRI)",
          "Sample": "NA19141"
         },
         {
          "PC1": 3.60446525222804,
          "PC2": 1.0761840832475593,
          "Population_code": "African (YRI)",
          "Sample": "NA19142"
         },
         {
          "PC1": 3.887663333607796,
          "PC2": 0.6827685224329978,
          "Population_code": "African (YRI)",
          "Sample": "NA19143"
         },
         {
          "PC1": 3.5513110063553697,
          "PC2": 0.9788722303408544,
          "Population_code": "African (YRI)",
          "Sample": "NA19144"
         },
         {
          "PC1": 3.1467560771368803,
          "PC2": 1.1921565833823475,
          "Population_code": "Unknown",
          "Sample": "NA19146"
         },
         {
          "PC1": 4.262148107999304,
          "PC2": 0.9190867285189893,
          "Population_code": "Unknown",
          "Sample": "NA19147"
         },
         {
          "PC1": 3.699300494592521,
          "PC2": 1.1091967065343766,
          "Population_code": "Unknown",
          "Sample": "NA19148"
         },
         {
          "PC1": 4.7127705591678675,
          "PC2": 2.153951153970953,
          "Population_code": "Unknown",
          "Sample": "NA19149"
         },
         {
          "PC1": 3.9735107922482444,
          "PC2": 0.8668813727810873,
          "Population_code": "Unknown",
          "Sample": "NA19150"
         },
         {
          "PC1": 4.3960249724398395,
          "PC2": 1.1375991845892601,
          "Population_code": "Unknown",
          "Sample": "NA19151"
         },
         {
          "PC1": 3.4995573793760775,
          "PC2": 2.068619372460243,
          "Population_code": "African (YRI)",
          "Sample": "NA19152"
         },
         {
          "PC1": 4.755390261170497,
          "PC2": 0.7994747328056975,
          "Population_code": "African (YRI)",
          "Sample": "NA19153"
         },
         {
          "PC1": 4.35170638516219,
          "PC2": 0.8714126431194036,
          "Population_code": "African (YRI)",
          "Sample": "NA19154"
         },
         {
          "PC1": 4.6122163769560665,
          "PC2": 0.5946612301440034,
          "Population_code": "African (YRI)",
          "Sample": "NA19159"
         },
         {
          "PC1": 3.780263557381869,
          "PC2": 1.0348851956168674,
          "Population_code": "African (YRI)",
          "Sample": "NA19160"
         },
         {
          "PC1": 4.514543160649729,
          "PC2": 0.889051487699036,
          "Population_code": "African (YRI)",
          "Sample": "NA19161"
         },
         {
          "PC1": 4.164508117326702,
          "PC2": 0.36198963774097165,
          "Population_code": "African (YRI)",
          "Sample": "NA19171"
         },
         {
          "PC1": 4.20500245870668,
          "PC2": 0.9882776721178128,
          "Population_code": "African (YRI)",
          "Sample": "NA19172"
         },
         {
          "PC1": 3.7124926326053367,
          "PC2": -0.1606933439731517,
          "Population_code": "African (YRI)",
          "Sample": "NA19173"
         },
         {
          "PC1": 4.82841519615874,
          "PC2": 0.21165092159726842,
          "Population_code": "Unknown",
          "Sample": "NA19174"
         },
         {
          "PC1": 3.906319948112688,
          "PC2": 0.1967253605220705,
          "Population_code": "Unknown",
          "Sample": "NA19175"
         },
         {
          "PC1": 3.856311885327672,
          "PC2": 1.4883107733463934,
          "Population_code": "Unknown",
          "Sample": "NA19176"
         },
         {
          "PC1": 3.8690606030775583,
          "PC2": 0.40263936347297014,
          "Population_code": "Unknown",
          "Sample": "NA19178"
         },
         {
          "PC1": 4.176918891325134,
          "PC2": 0.8014369656137303,
          "Population_code": "Unknown",
          "Sample": "NA19179"
         },
         {
          "PC1": 4.581310982855693,
          "PC2": 0.47668281280231684,
          "Population_code": "Unknown",
          "Sample": "NA19180"
         },
         {
          "PC1": 3.9644248776222293,
          "PC2": 1.3176192553526325,
          "Population_code": "Unknown",
          "Sample": "NA19181"
         },
         {
          "PC1": 4.073438402914612,
          "PC2": 1.3685682560920136,
          "Population_code": "Unknown",
          "Sample": "NA19182"
         },
         {
          "PC1": 5.11468465737505,
          "PC2": 1.2090550737302563,
          "Population_code": "Unknown",
          "Sample": "NA19183"
         },
         {
          "PC1": 4.315710273090078,
          "PC2": 1.2932208436957024,
          "Population_code": "Unknown",
          "Sample": "NA19184"
         },
         {
          "PC1": 4.777081010684418,
          "PC2": 1.0863342542050995,
          "Population_code": "Unknown",
          "Sample": "NA19185"
         },
         {
          "PC1": 5.479221996649672,
          "PC2": 0.6986482735538503,
          "Population_code": "Unknown",
          "Sample": "NA19186"
         },
         {
          "PC1": 3.867848973269395,
          "PC2": 0.33159297753536177,
          "Population_code": "Unknown",
          "Sample": "NA19189"
         },
         {
          "PC1": 3.3632333918167667,
          "PC2": 0.9920084989275578,
          "Population_code": "Unknown",
          "Sample": "NA19190"
         },
         {
          "PC1": 3.447254794361338,
          "PC2": 0.19765595399054633,
          "Population_code": "Unknown",
          "Sample": "NA19191"
         },
         {
          "PC1": 5.3183748335437855,
          "PC2": 1.4341936815512215,
          "Population_code": "African (YRI)",
          "Sample": "NA19192"
         },
         {
          "PC1": 4.743819666658995,
          "PC2": 0.41597213963931784,
          "Population_code": "African (YRI)",
          "Sample": "NA19193"
         },
         {
          "PC1": 4.959085948378108,
          "PC2": 0.9553743814671816,
          "Population_code": "African (YRI)",
          "Sample": "NA19194"
         },
         {
          "PC1": 4.61406122723362,
          "PC2": 0.4744076824289425,
          "Population_code": "Unknown",
          "Sample": "NA19197"
         },
         {
          "PC1": 4.2123175814756895,
          "PC2": 0.719335026014986,
          "Population_code": "Unknown",
          "Sample": "NA19198"
         },
         {
          "PC1": 3.911000083295884,
          "PC2": 1.3170621222649936,
          "Population_code": "Unknown",
          "Sample": "NA19199"
         },
         {
          "PC1": 3.733752014351928,
          "PC2": -0.6054538046348625,
          "Population_code": "African (YRI)",
          "Sample": "NA19200"
         },
         {
          "PC1": 4.919721587210757,
          "PC2": 1.6962490996121313,
          "Population_code": "African (YRI)",
          "Sample": "NA19201"
         },
         {
          "PC1": 4.347807764705315,
          "PC2": 0.4321978819296218,
          "Population_code": "African (YRI)",
          "Sample": "NA19202"
         },
         {
          "PC1": 3.804163999537919,
          "PC2": 0.6229008803261467,
          "Population_code": "African (YRI)",
          "Sample": "NA19203"
         },
         {
          "PC1": 4.241131612193905,
          "PC2": 0.21409390489375923,
          "Population_code": "African (YRI)",
          "Sample": "NA19204"
         },
         {
          "PC1": 5.093569575052309,
          "PC2": 0.9129861265950883,
          "Population_code": "African (YRI)",
          "Sample": "NA19206"
         },
         {
          "PC1": 3.5720421952076498,
          "PC2": 1.0498165881226955,
          "Population_code": "African (YRI)",
          "Sample": "NA19207"
         },
         {
          "PC1": 4.945440726620742,
          "PC2": 0.9650669324359268,
          "Population_code": "African (YRI)",
          "Sample": "NA19208"
         },
         {
          "PC1": 4.040606733475779,
          "PC2": 1.328447295303624,
          "Population_code": "African (YRI)",
          "Sample": "NA19209"
         },
         {
          "PC1": 5.019681248882361,
          "PC2": -0.18674126625131432,
          "Population_code": "African (YRI)",
          "Sample": "NA19210"
         },
         {
          "PC1": 4.098212197306461,
          "PC2": 0.9607339976762015,
          "Population_code": "African (YRI)",
          "Sample": "NA19211"
         },
         {
          "PC1": 3.9784518828588062,
          "PC2": 1.8371827452845158,
          "Population_code": "Unknown",
          "Sample": "NA19213"
         },
         {
          "PC1": 3.6501522951361025,
          "PC2": 1.0170548806927073,
          "Population_code": "Unknown",
          "Sample": "NA19214"
         },
         {
          "PC1": 5.450521328216026,
          "PC2": 1.9029460935214078,
          "Population_code": "Unknown",
          "Sample": "NA19215"
         },
         {
          "PC1": 4.274833668248742,
          "PC2": 0.46948541683225875,
          "Population_code": "African (YRI)",
          "Sample": "NA19221"
         },
         {
          "PC1": 3.65954367505296,
          "PC2": 0.6442195541158098,
          "Population_code": "African (YRI)",
          "Sample": "NA19222"
         },
         {
          "PC1": 3.4946965209929663,
          "PC2": 1.167749916476346,
          "Population_code": "African (YRI)",
          "Sample": "NA19223"
         },
         {
          "PC1": 4.181157183486503,
          "PC2": 0.9757571714136271,
          "Population_code": "Unknown",
          "Sample": "NA19224"
         },
         {
          "PC1": 3.210552032972827,
          "PC2": 1.7333072346872982,
          "Population_code": "Unknown",
          "Sample": "NA19225"
         },
         {
          "PC1": 5.147010338483501,
          "PC2": 1.0952194887487101,
          "Population_code": "Unknown",
          "Sample": "NA19226"
         },
         {
          "PC1": 4.7209103289466166,
          "PC2": 1.4895543906532425,
          "Population_code": "Unknown",
          "Sample": "NA19235"
         },
         {
          "PC1": 4.343479420218047,
          "PC2": 0.8870403887517725,
          "Population_code": "Unknown",
          "Sample": "NA19236"
         },
         {
          "PC1": 5.148374560038244,
          "PC2": 0.9686607314337495,
          "Population_code": "Unknown",
          "Sample": "NA19237"
         },
         {
          "PC1": 4.780856780134974,
          "PC2": 1.4568523064403405,
          "Population_code": "African (YRI)",
          "Sample": "NA19238"
         },
         {
          "PC1": 4.7545725856801075,
          "PC2": -0.1796882908144264,
          "Population_code": "African (YRI)",
          "Sample": "NA19239"
         },
         {
          "PC1": 5.19101032056069,
          "PC2": 0.18378955745655323,
          "Population_code": "African (YRI)",
          "Sample": "NA19240"
         },
         {
          "PC1": 3.814740056159591,
          "PC2": 0.9748346616297858,
          "Population_code": "Unknown",
          "Sample": "NA19247"
         },
         {
          "PC1": 4.442469748514836,
          "PC2": 1.7703490587501975,
          "Population_code": "Unknown",
          "Sample": "NA19248"
         },
         {
          "PC1": 4.085090525498004,
          "PC2": 0.42031556104649503,
          "Population_code": "Unknown",
          "Sample": "NA19249"
         },
         {
          "PC1": 4.338391534943537,
          "PC2": 1.090894230425333,
          "Population_code": "Unknown",
          "Sample": "NA19256"
         },
         {
          "PC1": 4.114230287302263,
          "PC2": 1.3795647627924807,
          "Population_code": "Unknown",
          "Sample": "NA19257"
         },
         {
          "PC1": 4.718383517261692,
          "PC2": 1.2937732250960772,
          "Population_code": "Unknown",
          "Sample": "NA19258"
         },
         {
          "PC1": 4.3047048357197575,
          "PC2": 1.1013417761957787,
          "Population_code": "Unknown",
          "Sample": "NA19307"
         },
         {
          "PC1": 3.233233710219195,
          "PC2": 0.2668238958285424,
          "Population_code": "Unknown",
          "Sample": "NA19308"
         },
         {
          "PC1": 3.869403063040447,
          "PC2": -0.05153927684364226,
          "Population_code": "Unknown",
          "Sample": "NA19309"
         },
         {
          "PC1": 3.9098946098934313,
          "PC2": 0.29611584291847803,
          "Population_code": "Unknown",
          "Sample": "NA19310"
         },
         {
          "PC1": 3.690418924851847,
          "PC2": 0.6939075468480694,
          "Population_code": "Unknown",
          "Sample": "NA19311"
         },
         {
          "PC1": 4.282209208548918,
          "PC2": 0.7630874092334775,
          "Population_code": "Unknown",
          "Sample": "NA19313"
         },
         {
          "PC1": 3.8325812893600877,
          "PC2": 0.42562255575257985,
          "Population_code": "Unknown",
          "Sample": "NA19314"
         },
         {
          "PC1": 3.6369788971193255,
          "PC2": 0.46958925998112533,
          "Population_code": "Unknown",
          "Sample": "NA19315"
         },
         {
          "PC1": 3.5953350205950203,
          "PC2": 0.5122251986787276,
          "Population_code": "Unknown",
          "Sample": "NA19316"
         },
         {
          "PC1": 3.331272044355148,
          "PC2": 0.2642623932409206,
          "Population_code": "Unknown",
          "Sample": "NA19317"
         },
         {
          "PC1": 3.8990022202599866,
          "PC2": 0.2615774041777038,
          "Population_code": "Unknown",
          "Sample": "NA19318"
         },
         {
          "PC1": 3.3071327610911547,
          "PC2": -0.038375022902235656,
          "Population_code": "Unknown",
          "Sample": "NA19319"
         },
         {
          "PC1": 3.096164667454702,
          "PC2": 0.30090766660175217,
          "Population_code": "Unknown",
          "Sample": "NA19321"
         },
         {
          "PC1": 3.6617624815205687,
          "PC2": 1.013946866529999,
          "Population_code": "Unknown",
          "Sample": "NA19324"
         },
         {
          "PC1": 4.059489996239371,
          "PC2": 0.5793539665985705,
          "Population_code": "Unknown",
          "Sample": "NA19327"
         },
         {
          "PC1": 2.2726328855027953,
          "PC2": 0.945360660280971,
          "Population_code": "Unknown",
          "Sample": "NA19328"
         },
         {
          "PC1": 3.4922239942784064,
          "PC2": 1.0692959094840475,
          "Population_code": "Unknown",
          "Sample": "NA19332"
         },
         {
          "PC1": 4.4145483005437365,
          "PC2": 0.23158773930178572,
          "Population_code": "Unknown",
          "Sample": "NA19334"
         },
         {
          "PC1": 2.9956400151899594,
          "PC2": 0.08286393626864702,
          "Population_code": "Unknown",
          "Sample": "NA19346"
         },
         {
          "PC1": 4.069958755779473,
          "PC2": 0.657247413386655,
          "Population_code": "Unknown",
          "Sample": "NA19347"
         },
         {
          "PC1": 3.1239573343091434,
          "PC2": 0.9517141818203105,
          "Population_code": "Unknown",
          "Sample": "NA19350"
         },
         {
          "PC1": 3.4322987597892833,
          "PC2": 0.03868072574322473,
          "Population_code": "Unknown",
          "Sample": "NA19352"
         },
         {
          "PC1": 3.595535068711087,
          "PC2": 0.3747806065861497,
          "Population_code": "Unknown",
          "Sample": "NA19359"
         },
         {
          "PC1": 3.994131948342879,
          "PC2": 0.5601558771493154,
          "Population_code": "Unknown",
          "Sample": "NA19360"
         },
         {
          "PC1": 2.702685966164381,
          "PC2": 0.8725842015695902,
          "Population_code": "Unknown",
          "Sample": "NA19371"
         },
         {
          "PC1": 4.412915715173444,
          "PC2": 1.5041209586704258,
          "Population_code": "Unknown",
          "Sample": "NA19372"
         },
         {
          "PC1": 3.9774125045277557,
          "PC2": 0.1764628782734747,
          "Population_code": "Unknown",
          "Sample": "NA19373"
         },
         {
          "PC1": 3.684317343312622,
          "PC2": 0.4390587435890089,
          "Population_code": "Unknown",
          "Sample": "NA19374"
         },
         {
          "PC1": 4.1777615391295555,
          "PC2": 1.3668897010133698,
          "Population_code": "Unknown",
          "Sample": "NA19375"
         },
         {
          "PC1": 3.083062249683951,
          "PC2": 1.235827416722843,
          "Population_code": "Unknown",
          "Sample": "NA19376"
         },
         {
          "PC1": 4.175641214881184,
          "PC2": 1.1126296490768217,
          "Population_code": "Unknown",
          "Sample": "NA19377"
         },
         {
          "PC1": 4.368070979326609,
          "PC2": 0.673413313746273,
          "Population_code": "Unknown",
          "Sample": "NA19379"
         },
         {
          "PC1": 3.612156639403638,
          "PC2": -0.3212753788060527,
          "Population_code": "Unknown",
          "Sample": "NA19380"
         },
         {
          "PC1": 3.1865488591440987,
          "PC2": 0.2962685484995047,
          "Population_code": "Unknown",
          "Sample": "NA19381"
         },
         {
          "PC1": 3.6029102269791995,
          "PC2": 0.9187765830365898,
          "Population_code": "Unknown",
          "Sample": "NA19382"
         },
         {
          "PC1": 3.9767542673472622,
          "PC2": 1.9897470991180635,
          "Population_code": "Unknown",
          "Sample": "NA19383"
         },
         {
          "PC1": 3.5870906265905234,
          "PC2": -0.21083648192094784,
          "Population_code": "Unknown",
          "Sample": "NA19384"
         },
         {
          "PC1": 4.888958670293814,
          "PC2": -0.16921197246232086,
          "Population_code": "Unknown",
          "Sample": "NA19385"
         },
         {
          "PC1": 5.026956566645647,
          "PC2": 0.8076286718207184,
          "Population_code": "Unknown",
          "Sample": "NA19390"
         },
         {
          "PC1": 2.7865798614690727,
          "PC2": 1.1303640992384596,
          "Population_code": "Unknown",
          "Sample": "NA19391"
         },
         {
          "PC1": 3.3960647749301005,
          "PC2": 1.835147120261704,
          "Population_code": "Unknown",
          "Sample": "NA19393"
         },
         {
          "PC1": 4.941082159397441,
          "PC2": 0.6188720258247514,
          "Population_code": "Unknown",
          "Sample": "NA19394"
         },
         {
          "PC1": 3.5373786271075907,
          "PC2": -0.49443756023379015,
          "Population_code": "Unknown",
          "Sample": "NA19396"
         },
         {
          "PC1": 2.917640409763759,
          "PC2": 0.44799543840067024,
          "Population_code": "Unknown",
          "Sample": "NA19397"
         },
         {
          "PC1": 3.544251300443811,
          "PC2": 0.7503455236081948,
          "Population_code": "Unknown",
          "Sample": "NA19398"
         },
         {
          "PC1": 4.727221319139122,
          "PC2": -0.42699165311523823,
          "Population_code": "Unknown",
          "Sample": "NA19399"
         },
         {
          "PC1": 3.151042781677159,
          "PC2": 0.1461411540575313,
          "Population_code": "Unknown",
          "Sample": "NA19403"
         },
         {
          "PC1": 3.885563757325942,
          "PC2": 1.249489516864274,
          "Population_code": "Unknown",
          "Sample": "NA19404"
         },
         {
          "PC1": 2.880263335982459,
          "PC2": 0.6179312535300258,
          "Population_code": "Unknown",
          "Sample": "NA19428"
         },
         {
          "PC1": 5.171077462037967,
          "PC2": 1.0046214887964107,
          "Population_code": "Unknown",
          "Sample": "NA19429"
         },
         {
          "PC1": 3.436855356968839,
          "PC2": 0.6845915225811994,
          "Population_code": "Unknown",
          "Sample": "NA19430"
         },
         {
          "PC1": 3.8386221655272066,
          "PC2": 1.5910364695877508,
          "Population_code": "Unknown",
          "Sample": "NA19431"
         },
         {
          "PC1": 4.512602843174063,
          "PC2": 0.5703274833196171,
          "Population_code": "Unknown",
          "Sample": "NA19434"
         },
         {
          "PC1": 3.5149446216227136,
          "PC2": 0.6250591432411354,
          "Population_code": "Unknown",
          "Sample": "NA19435"
         },
         {
          "PC1": 4.125563605642279,
          "PC2": 1.073031796165815,
          "Population_code": "Unknown",
          "Sample": "NA19436"
         },
         {
          "PC1": 4.119368850194805,
          "PC2": 1.8020063556240005,
          "Population_code": "Unknown",
          "Sample": "NA19437"
         },
         {
          "PC1": 4.65512170857612,
          "PC2": 0.6239812624421923,
          "Population_code": "Unknown",
          "Sample": "NA19438"
         },
         {
          "PC1": 3.610641631680748,
          "PC2": 0.48925878028420877,
          "Population_code": "Unknown",
          "Sample": "NA19439"
         },
         {
          "PC1": 3.710428151365007,
          "PC2": 0.4057803672321566,
          "Population_code": "Unknown",
          "Sample": "NA19440"
         },
         {
          "PC1": 3.084173473268274,
          "PC2": 1.107955003442421,
          "Population_code": "Unknown",
          "Sample": "NA19443"
         },
         {
          "PC1": 3.7988965281635236,
          "PC2": 1.388162014457336,
          "Population_code": "Unknown",
          "Sample": "NA19444"
         },
         {
          "PC1": 4.078808122191893,
          "PC2": 0.24831172165643278,
          "Population_code": "Unknown",
          "Sample": "NA19445"
         },
         {
          "PC1": 3.930918513538128,
          "PC2": 0.08518447400602566,
          "Population_code": "Unknown",
          "Sample": "NA19446"
         },
         {
          "PC1": 2.9713739205095226,
          "PC2": -0.24760717331084348,
          "Population_code": "Unknown",
          "Sample": "NA19448"
         },
         {
          "PC1": 4.87164940633266,
          "PC2": -0.07447693895161003,
          "Population_code": "Unknown",
          "Sample": "NA19449"
         },
         {
          "PC1": 3.381355492910061,
          "PC2": 1.154508890300069,
          "Population_code": "Unknown",
          "Sample": "NA19451"
         },
         {
          "PC1": 3.7465482572667037,
          "PC2": -0.05651937490464698,
          "Population_code": "Unknown",
          "Sample": "NA19452"
         },
         {
          "PC1": 2.6291433519527163,
          "PC2": 0.7371660164915218,
          "Population_code": "Unknown",
          "Sample": "NA19455"
         },
         {
          "PC1": 3.3576188435635523,
          "PC2": 0.9329189814262251,
          "Population_code": "Unknown",
          "Sample": "NA19456"
         },
         {
          "PC1": 4.846028177375828,
          "PC2": 1.2867672499109482,
          "Population_code": "Unknown",
          "Sample": "NA19457"
         },
         {
          "PC1": 5.137903085104982,
          "PC2": 0.7984189464929778,
          "Population_code": "Unknown",
          "Sample": "NA19462"
         },
         {
          "PC1": 4.1137996434968835,
          "PC2": 0.032516094745285495,
          "Population_code": "Unknown",
          "Sample": "NA19463"
         },
         {
          "PC1": 3.5304853657992523,
          "PC2": 0.33162590852915763,
          "Population_code": "Unknown",
          "Sample": "NA19466"
         },
         {
          "PC1": 3.5238029723128967,
          "PC2": -0.059425857102853544,
          "Population_code": "Unknown",
          "Sample": "NA19467"
         },
         {
          "PC1": 3.5594787888041854,
          "PC2": 0.331212649257009,
          "Population_code": "Unknown",
          "Sample": "NA19468"
         },
         {
          "PC1": 3.7012364207968025,
          "PC2": 0.7332199028148857,
          "Population_code": "Unknown",
          "Sample": "NA19469"
         },
         {
          "PC1": 3.7824737183049812,
          "PC2": 1.1598738395329282,
          "Population_code": "Unknown",
          "Sample": "NA19470"
         },
         {
          "PC1": 2.8871429254708607,
          "PC2": 1.775745039558554,
          "Population_code": "Unknown",
          "Sample": "NA19471"
         },
         {
          "PC1": 4.145658248812318,
          "PC2": -0.7095934250458061,
          "Population_code": "Unknown",
          "Sample": "NA19472"
         },
         {
          "PC1": 4.585776047923957,
          "PC2": -0.2964297716119307,
          "Population_code": "Unknown",
          "Sample": "NA19473"
         },
         {
          "PC1": 4.203770076201215,
          "PC2": 0.12254841221051638,
          "Population_code": "Unknown",
          "Sample": "NA19474"
         },
         {
          "PC1": 1.4458081024330007,
          "PC2": -0.06720398214983536,
          "Population_code": "Unknown",
          "Sample": "NA19625"
         },
         {
          "PC1": -2.4258756033428637,
          "PC2": -2.1085985357749477,
          "Population_code": "Unknown",
          "Sample": "NA19649"
         },
         {
          "PC1": -2.351121213125638,
          "PC2": -1.4836501042754253,
          "Population_code": "Unknown",
          "Sample": "NA19650"
         },
         {
          "PC1": -1.9716769569606334,
          "PC2": -2.6028592213299606,
          "Population_code": "Unknown",
          "Sample": "NA19651"
         },
         {
          "PC1": -2.266001436686225,
          "PC2": -1.6606150951377936,
          "Population_code": "Unknown",
          "Sample": "NA19652"
         },
         {
          "PC1": -1.6190955073355286,
          "PC2": -1.981527589784883,
          "Population_code": "Unknown",
          "Sample": "NA19653"
         },
         {
          "PC1": -2.6815211367334455,
          "PC2": -1.880353026879201,
          "Population_code": "Unknown",
          "Sample": "NA19654"
         },
         {
          "PC1": -2.3254307371746203,
          "PC2": -1.6988218982401708,
          "Population_code": "Unknown",
          "Sample": "NA19656"
         },
         {
          "PC1": -2.314180242900413,
          "PC2": -1.3371235579720948,
          "Population_code": "Unknown",
          "Sample": "NA19657"
         },
         {
          "PC1": -1.91778587204024,
          "PC2": -0.8931626998623766,
          "Population_code": "Unknown",
          "Sample": "NA19658"
         },
         {
          "PC1": -1.848771964602421,
          "PC2": -0.7638721247073976,
          "Population_code": "Unknown",
          "Sample": "NA19659"
         },
         {
          "PC1": -2.0314640081153734,
          "PC2": -0.6308677300312778,
          "Population_code": "Unknown",
          "Sample": "NA19660"
         },
         {
          "PC1": -3.728922236815851,
          "PC2": -0.9901667957505504,
          "Population_code": "Unknown",
          "Sample": "NA19661"
         },
         {
          "PC1": -2.4351323376855194,
          "PC2": -0.11723822639691156,
          "Population_code": "Unknown",
          "Sample": "NA19662"
         },
         {
          "PC1": -1.4974281475335944,
          "PC2": -0.44422633350715685,
          "Population_code": "Unknown",
          "Sample": "NA19663"
         },
         {
          "PC1": -1.927853221331977,
          "PC2": -0.29597666805364475,
          "Population_code": "Unknown",
          "Sample": "NA19664"
         },
         {
          "PC1": -1.8396102976533066,
          "PC2": -0.7068638672892588,
          "Population_code": "Unknown",
          "Sample": "NA19665"
         },
         {
          "PC1": -2.534290485035623,
          "PC2": -1.5616648420014017,
          "Population_code": "Unknown",
          "Sample": "NA19669"
         },
         {
          "PC1": -1.6840706118940605,
          "PC2": -1.9409717462648994,
          "Population_code": "Unknown",
          "Sample": "NA19670"
         },
         {
          "PC1": -1.3852628300171204,
          "PC2": -1.8029588808113457,
          "Population_code": "Unknown",
          "Sample": "NA19671"
         },
         {
          "PC1": -2.768688758316817,
          "PC2": -2.462379933411796,
          "Population_code": "Unknown",
          "Sample": "NA19675"
         },
         {
          "PC1": -1.8187474762923008,
          "PC2": -2.440072018470487,
          "Population_code": "Unknown",
          "Sample": "NA19676"
         },
         {
          "PC1": -1.7606962344020105,
          "PC2": -1.4574607592218527,
          "Population_code": "Unknown",
          "Sample": "NA19677"
         },
         {
          "PC1": -2.2266216511727666,
          "PC2": -2.456083884834166,
          "Population_code": "Unknown",
          "Sample": "NA19678"
         },
         {
          "PC1": -1.0284509059167286,
          "PC2": -2.90581955136628,
          "Population_code": "Unknown",
          "Sample": "NA19679"
         },
         {
          "PC1": -2.8192638084063235,
          "PC2": -2.30688759313862,
          "Population_code": "Unknown",
          "Sample": "NA19680"
         },
         {
          "PC1": -2.695026894047694,
          "PC2": -1.8615080008649132,
          "Population_code": "Unknown",
          "Sample": "NA19681"
         },
         {
          "PC1": -3.0880371520335874,
          "PC2": -1.3885245646370543,
          "Population_code": "Unknown",
          "Sample": "NA19682"
         },
         {
          "PC1": -2.6533249885270234,
          "PC2": -1.7503963558181872,
          "Population_code": "Unknown",
          "Sample": "NA19683"
         },
         {
          "PC1": -3.351448003162977,
          "PC2": -2.529234730058872,
          "Population_code": "Unknown",
          "Sample": "NA19684"
         },
         {
          "PC1": -2.0140023876432616,
          "PC2": -1.6434776865016318,
          "Population_code": "Unknown",
          "Sample": "NA19685"
         },
         {
          "PC1": -3.1631180280377773,
          "PC2": -1.4181122419213674,
          "Population_code": "Unknown",
          "Sample": "NA19686"
         },
         {
          "PC1": 2.295462125076531,
          "PC2": -0.5534529361481942,
          "Population_code": "Unknown",
          "Sample": "NA19700"
         },
         {
          "PC1": 3.059079865222172,
          "PC2": -0.06549031553242358,
          "Population_code": "Unknown",
          "Sample": "NA19701"
         },
         {
          "PC1": 1.909528943688257,
          "PC2": -0.20265114017803845,
          "Population_code": "Unknown",
          "Sample": "NA19702"
         },
         {
          "PC1": 3.989960582553838,
          "PC2": 1.1590883141861623,
          "Population_code": "Unknown",
          "Sample": "NA19703"
         },
         {
          "PC1": 4.087734606990692,
          "PC2": 1.793598198124844,
          "Population_code": "Unknown",
          "Sample": "NA19704"
         },
         {
          "PC1": 4.604146116982818,
          "PC2": 1.4610224714001185,
          "Population_code": "Unknown",
          "Sample": "NA19705"
         },
         {
          "PC1": 1.5800011497705833,
          "PC2": 0.7534042666049747,
          "Population_code": "Unknown",
          "Sample": "NA19708"
         },
         {
          "PC1": 3.3926098237685838,
          "PC2": 0.1923535209316664,
          "Population_code": "Unknown",
          "Sample": "NA19711"
         },
         {
          "PC1": 4.270038490826142,
          "PC2": 0.8300047502757273,
          "Population_code": "Unknown",
          "Sample": "NA19712"
         },
         {
          "PC1": 2.7309329006984027,
          "PC2": -0.3874221646422207,
          "Population_code": "Unknown",
          "Sample": "NA19713"
         },
         {
          "PC1": 1.2320338117635858,
          "PC2": 0.542046776121828,
          "Population_code": "Unknown",
          "Sample": "NA19714"
         },
         {
          "PC1": -2.0837388940180697,
          "PC2": -0.7937006624472495,
          "Population_code": "Unknown",
          "Sample": "NA19716"
         },
         {
          "PC1": -1.6135376745679477,
          "PC2": -0.8360446047253667,
          "Population_code": "Unknown",
          "Sample": "NA19718"
         },
         {
          "PC1": -0.41859432357189674,
          "PC2": -1.0050579214784994,
          "Population_code": "Unknown",
          "Sample": "NA19719"
         },
         {
          "PC1": -1.7561379449832786,
          "PC2": -0.9201885352363635,
          "Population_code": "Unknown",
          "Sample": "NA19720"
         },
         {
          "PC1": -2.2353423938415538,
          "PC2": -0.9901757145803263,
          "Population_code": "Unknown",
          "Sample": "NA19721"
         },
         {
          "PC1": -2.1717375764686713,
          "PC2": -1.1802785939914155,
          "Population_code": "Unknown",
          "Sample": "NA19722"
         },
         {
          "PC1": -1.9830878287108114,
          "PC2": -0.6211075479179751,
          "Population_code": "Unknown",
          "Sample": "NA19723"
         },
         {
          "PC1": -2.2379797295742097,
          "PC2": -1.5528918291928782,
          "Population_code": "Unknown",
          "Sample": "NA19724"
         },
         {
          "PC1": -2.056490481764876,
          "PC2": -2.8245212901659777,
          "Population_code": "Unknown",
          "Sample": "NA19725"
         },
         {
          "PC1": -3.075239109284703,
          "PC2": -1.5417364356423753,
          "Population_code": "Unknown",
          "Sample": "NA19726"
         },
         {
          "PC1": -2.2421335307745895,
          "PC2": -2.211051204858057,
          "Population_code": "Unknown",
          "Sample": "NA19727"
         },
         {
          "PC1": -2.69353141941995,
          "PC2": -1.2720143049064865,
          "Population_code": "Unknown",
          "Sample": "NA19746"
         },
         {
          "PC1": -2.690744279649357,
          "PC2": -1.2888420870377797,
          "Population_code": "Unknown",
          "Sample": "NA19747"
         },
         {
          "PC1": -2.9147261545682435,
          "PC2": -1.2145850510927367,
          "Population_code": "Unknown",
          "Sample": "NA19748"
         },
         {
          "PC1": -1.953241776598921,
          "PC2": -2.5178564943012254,
          "Population_code": "Unknown",
          "Sample": "NA19749"
         },
         {
          "PC1": -3.26082049390486,
          "PC2": -0.7101215849281314,
          "Population_code": "Unknown",
          "Sample": "NA19750"
         },
         {
          "PC1": -3.176725656311241,
          "PC2": -1.1038100426343662,
          "Population_code": "Unknown",
          "Sample": "NA19751"
         },
         {
          "PC1": -2.6505004657358953,
          "PC2": -0.0335514559488469,
          "Population_code": "Unknown",
          "Sample": "NA19755"
         },
         {
          "PC1": -1.8742123541061793,
          "PC2": -0.5747545346873711,
          "Population_code": "Unknown",
          "Sample": "NA19756"
         },
         {
          "PC1": -1.561968956421774,
          "PC2": -0.19533869499052042,
          "Population_code": "Unknown",
          "Sample": "NA19757"
         },
         {
          "PC1": -2.997741048286552,
          "PC2": -0.476471625645789,
          "Population_code": "Unknown",
          "Sample": "NA19759"
         },
         {
          "PC1": -2.6910172423877516,
          "PC2": -0.4460628731432149,
          "Population_code": "Unknown",
          "Sample": "NA19760"
         },
         {
          "PC1": -3.0119152356544756,
          "PC2": -0.9623017039285647,
          "Population_code": "Unknown",
          "Sample": "NA19761"
         },
         {
          "PC1": -2.4502405591341847,
          "PC2": -1.9683606020434414,
          "Population_code": "Unknown",
          "Sample": "NA19762"
         },
         {
          "PC1": -2.6906426275858855,
          "PC2": -1.9078042123748937,
          "Population_code": "Unknown",
          "Sample": "NA19763"
         },
         {
          "PC1": -1.9515196190714013,
          "PC2": -1.2895747792810985,
          "Population_code": "Unknown",
          "Sample": "NA19770"
         },
         {
          "PC1": -2.844316986594964,
          "PC2": -1.3445778372140345,
          "Population_code": "Unknown",
          "Sample": "NA19771"
         },
         {
          "PC1": -2.6410085351577886,
          "PC2": -0.6345751890949,
          "Population_code": "Unknown",
          "Sample": "NA19772"
         },
         {
          "PC1": -2.359970186006038,
          "PC2": -1.3601876862306999,
          "Population_code": "Unknown",
          "Sample": "NA19773"
         },
         {
          "PC1": -1.8571343184999782,
          "PC2": -1.4700457112178766,
          "Population_code": "Unknown",
          "Sample": "NA19774"
         },
         {
          "PC1": -2.290021923585976,
          "PC2": -1.6865210732715221,
          "Population_code": "Unknown",
          "Sample": "NA19775"
         },
         {
          "PC1": -1.7191253470928007,
          "PC2": -1.2867074808270182,
          "Population_code": "Unknown",
          "Sample": "NA19776"
         },
         {
          "PC1": -3.254108849092669,
          "PC2": -2.5831398442631572,
          "Population_code": "Unknown",
          "Sample": "NA19777"
         },
         {
          "PC1": -2.0337512784062968,
          "PC2": -1.9954083736455313,
          "Population_code": "Unknown",
          "Sample": "NA19778"
         },
         {
          "PC1": -0.4983313902896688,
          "PC2": -2.1885986492944367,
          "Population_code": "Unknown",
          "Sample": "NA19779"
         },
         {
          "PC1": -2.08666764870671,
          "PC2": -1.5862723576743274,
          "Population_code": "Unknown",
          "Sample": "NA19780"
         },
         {
          "PC1": -1.3015610698547038,
          "PC2": -1.4972150051044626,
          "Population_code": "Unknown",
          "Sample": "NA19781"
         },
         {
          "PC1": -2.3510771298576447,
          "PC2": -1.6204451131705722,
          "Population_code": "Unknown",
          "Sample": "NA19782"
         },
         {
          "PC1": -2.936545739273239,
          "PC2": -1.6432194043054116,
          "Population_code": "Unknown",
          "Sample": "NA19783"
         },
         {
          "PC1": -1.7163204035592616,
          "PC2": -2.086969720839475,
          "Population_code": "Unknown",
          "Sample": "NA19784"
         },
         {
          "PC1": -2.696661468131091,
          "PC2": -0.5220344056798651,
          "Population_code": "Unknown",
          "Sample": "NA19788"
         },
         {
          "PC1": -2.598602657043352,
          "PC2": -1.651353026580924,
          "Population_code": "Unknown",
          "Sample": "NA19789"
         },
         {
          "PC1": -2.759750064472573,
          "PC2": -1.1475519477916616,
          "Population_code": "Unknown",
          "Sample": "NA19790"
         },
         {
          "PC1": -2.254565239480363,
          "PC2": -1.834383373640283,
          "Population_code": "Unknown",
          "Sample": "NA19794"
         },
         {
          "PC1": -1.5599808608162944,
          "PC2": -0.7900714076531992,
          "Population_code": "Unknown",
          "Sample": "NA19795"
         },
         {
          "PC1": -2.189037208488963,
          "PC2": -1.1755274805676055,
          "Population_code": "Unknown",
          "Sample": "NA19796"
         },
         {
          "PC1": 2.536682540048715,
          "PC2": 0.35773689482393334,
          "Population_code": "Unknown",
          "Sample": "NA19818"
         },
         {
          "PC1": 2.291934298124555,
          "PC2": -0.9995327856701473,
          "Population_code": "Unknown",
          "Sample": "NA19819"
         },
         {
          "PC1": 2.2851718148292943,
          "PC2": -0.6671550821158817,
          "Population_code": "Unknown",
          "Sample": "NA19828"
         },
         {
          "PC1": 3.247266651860536,
          "PC2": -1.577764024226725,
          "Population_code": "Unknown",
          "Sample": "NA19834"
         },
         {
          "PC1": 2.67301153580502,
          "PC2": 0.4764255030383684,
          "Population_code": "Unknown",
          "Sample": "NA19835"
         },
         {
          "PC1": 3.83789917330782,
          "PC2": -1.192434356585353,
          "Population_code": "Unknown",
          "Sample": "NA19836"
         },
         {
          "PC1": 3.1050623716273513,
          "PC2": -0.6746539128598069,
          "Population_code": "Unknown",
          "Sample": "NA19900"
         },
         {
          "PC1": 3.7843071876337997,
          "PC2": 0.4168135833823542,
          "Population_code": "Unknown",
          "Sample": "NA19901"
         },
         {
          "PC1": 4.253470178756043,
          "PC2": -0.2573451605751006,
          "Population_code": "Unknown",
          "Sample": "NA19902"
         },
         {
          "PC1": 2.3821220695141982,
          "PC2": 0.7271783337333453,
          "Population_code": "Unknown",
          "Sample": "NA19904"
         },
         {
          "PC1": 3.967577187353256,
          "PC2": 1.0353936158498114,
          "Population_code": "Unknown",
          "Sample": "NA19908"
         },
         {
          "PC1": 3.5169643986860457,
          "PC2": -0.5342907374488752,
          "Population_code": "Unknown",
          "Sample": "NA19909"
         },
         {
          "PC1": 2.274157353670089,
          "PC2": -0.8625186962316784,
          "Population_code": "Unknown",
          "Sample": "NA19914"
         },
         {
          "PC1": 2.9223244572035565,
          "PC2": 0.5424370288647208,
          "Population_code": "Unknown",
          "Sample": "NA19915"
         },
         {
          "PC1": 2.852798322026188,
          "PC2": 1.0341360999468687,
          "Population_code": "Unknown",
          "Sample": "NA19916"
         },
         {
          "PC1": 4.128896213790809,
          "PC2": 1.0527389885103915,
          "Population_code": "Unknown",
          "Sample": "NA19917"
         },
         {
          "PC1": 3.1166276940172355,
          "PC2": 1.2147194020756706,
          "Population_code": "Unknown",
          "Sample": "NA19918"
         },
         {
          "PC1": 3.60945621996823,
          "PC2": -0.29677293915074987,
          "Population_code": "Unknown",
          "Sample": "NA19919"
         },
         {
          "PC1": 0.5197546630822492,
          "PC2": -0.022296634918275937,
          "Population_code": "Unknown",
          "Sample": "NA19921"
         },
         {
          "PC1": 3.151073216751774,
          "PC2": 0.5172159320375167,
          "Population_code": "Unknown",
          "Sample": "NA19982"
         },
         {
          "PC1": 3.314173825223307,
          "PC2": -0.0851386266401082,
          "Population_code": "Unknown",
          "Sample": "NA19983"
         },
         {
          "PC1": 2.416628110640601,
          "PC2": 0.05470590157088692,
          "Population_code": "Unknown",
          "Sample": "NA19985"
         },
         {
          "PC1": 2.8376239588950383,
          "PC2": -1.8931885980926348,
          "Population_code": "Unknown",
          "Sample": "NA20126"
         },
         {
          "PC1": 3.075031117542825,
          "PC2": 0.3987627559705049,
          "Population_code": "Unknown",
          "Sample": "NA20127"
         },
         {
          "PC1": 3.1405009319147554,
          "PC2": -0.8682296986584701,
          "Population_code": "Unknown",
          "Sample": "NA20128"
         },
         {
          "PC1": 2.2141775490487867,
          "PC2": 0.5419015702787215,
          "Population_code": "Unknown",
          "Sample": "NA20129"
         },
         {
          "PC1": 2.5367873580427838,
          "PC2": 0.9075105724702572,
          "Population_code": "Unknown",
          "Sample": "NA20276"
         },
         {
          "PC1": 3.0715503070929633,
          "PC2": 0.17562824110297587,
          "Population_code": "Unknown",
          "Sample": "NA20277"
         },
         {
          "PC1": 0.8507775026451672,
          "PC2": -1.7600139056231594,
          "Population_code": "Unknown",
          "Sample": "NA20279"
         },
         {
          "PC1": 3.503208528430662,
          "PC2": -0.2029859113960939,
          "Population_code": "Unknown",
          "Sample": "NA20281"
         },
         {
          "PC1": 2.3693882459908617,
          "PC2": -0.4371216240833114,
          "Population_code": "Unknown",
          "Sample": "NA20282"
         },
         {
          "PC1": 3.349074928240191,
          "PC2": -1.3641894888724035,
          "Population_code": "Unknown",
          "Sample": "NA20284"
         },
         {
          "PC1": 3.5614822879899926,
          "PC2": 0.04063422719643847,
          "Population_code": "Unknown",
          "Sample": "NA20287"
         },
         {
          "PC1": 3.6984248161860958,
          "PC2": 0.15513161352281457,
          "Population_code": "Unknown",
          "Sample": "NA20288"
         },
         {
          "PC1": 3.7863084693570106,
          "PC2": -0.7901758894384387,
          "Population_code": "Unknown",
          "Sample": "NA20289"
         },
         {
          "PC1": 4.325506880019963,
          "PC2": -0.08681675293107555,
          "Population_code": "Unknown",
          "Sample": "NA20290"
         },
         {
          "PC1": 5.0675811242047635,
          "PC2": 1.908128957900702,
          "Population_code": "Unknown",
          "Sample": "NA20291"
         },
         {
          "PC1": 2.924846938008384,
          "PC2": 0.7790554981128671,
          "Population_code": "Unknown",
          "Sample": "NA20292"
         },
         {
          "PC1": 3.5168166597904724,
          "PC2": 1.4396018088153397,
          "Population_code": "Unknown",
          "Sample": "NA20294"
         },
         {
          "PC1": 3.810425984743447,
          "PC2": 0.7599897014165322,
          "Population_code": "Unknown",
          "Sample": "NA20295"
         },
         {
          "PC1": 2.321307350080235,
          "PC2": 0.2111622978735015,
          "Population_code": "Unknown",
          "Sample": "NA20297"
         },
         {
          "PC1": 2.0949793562845076,
          "PC2": 0.46447075015378997,
          "Population_code": "Unknown",
          "Sample": "NA20300"
         },
         {
          "PC1": 2.8028256429565483,
          "PC2": -0.467149275195133,
          "Population_code": "Unknown",
          "Sample": "NA20301"
         },
         {
          "PC1": 2.616608469530552,
          "PC2": 0.4456708779906182,
          "Population_code": "Unknown",
          "Sample": "NA20302"
         },
         {
          "PC1": 2.9345930446717565,
          "PC2": 0.026718864497069977,
          "Population_code": "Unknown",
          "Sample": "NA20317"
         },
         {
          "PC1": 2.2900364180650916,
          "PC2": -0.8720797173338495,
          "Population_code": "Unknown",
          "Sample": "NA20319"
         },
         {
          "PC1": 2.68968053542857,
          "PC2": -0.7294490555899509,
          "Population_code": "Unknown",
          "Sample": "NA20322"
         },
         {
          "PC1": 3.672631898036498,
          "PC2": -0.04943365707853884,
          "Population_code": "Unknown",
          "Sample": "NA20332"
         },
         {
          "PC1": 3.569081772632334,
          "PC2": 0.6843985910954002,
          "Population_code": "Unknown",
          "Sample": "NA20333"
         },
         {
          "PC1": 1.304210571275141,
          "PC2": -1.3741467393948585,
          "Population_code": "Unknown",
          "Sample": "NA20334"
         },
         {
          "PC1": 2.390543202175786,
          "PC2": -1.1475991328732846,
          "Population_code": "Unknown",
          "Sample": "NA20335"
         },
         {
          "PC1": 1.612777395333296,
          "PC2": -0.21076561933451196,
          "Population_code": "Unknown",
          "Sample": "NA20336"
         },
         {
          "PC1": 2.416406735764275,
          "PC2": -0.07129735952171538,
          "Population_code": "Unknown",
          "Sample": "NA20337"
         },
         {
          "PC1": 3.847421087861746,
          "PC2": 0.7377763873302399,
          "Population_code": "Unknown",
          "Sample": "NA20340"
         },
         {
          "PC1": 3.3785384369185905,
          "PC2": -0.6370076217621384,
          "Population_code": "Unknown",
          "Sample": "NA20341"
         },
         {
          "PC1": 3.30514664591288,
          "PC2": -0.8707013210309206,
          "Population_code": "Unknown",
          "Sample": "NA20342"
         },
         {
          "PC1": 3.355131378650987,
          "PC2": 1.1007734977678887,
          "Population_code": "Unknown",
          "Sample": "NA20343"
         },
         {
          "PC1": 3.290449556703272,
          "PC2": -0.818820294462053,
          "Population_code": "Unknown",
          "Sample": "NA20344"
         },
         {
          "PC1": 2.9029834306697486,
          "PC2": -0.19430032947804798,
          "Population_code": "Unknown",
          "Sample": "NA20345"
         },
         {
          "PC1": 3.7036047103109033,
          "PC2": 0.6509070417565892,
          "Population_code": "Unknown",
          "Sample": "NA20346"
         },
         {
          "PC1": 3.6867360896821757,
          "PC2": 1.4010851341750075,
          "Population_code": "Unknown",
          "Sample": "NA20347"
         },
         {
          "PC1": 3.1073377108427405,
          "PC2": 0.5962873229700763,
          "Population_code": "Unknown",
          "Sample": "NA20348"
         },
         {
          "PC1": 2.9201017573585344,
          "PC2": -1.748990895237502,
          "Population_code": "Unknown",
          "Sample": "NA20349"
         },
         {
          "PC1": 2.4657437310570582,
          "PC2": -1.0561926737125,
          "Population_code": "Unknown",
          "Sample": "NA20350"
         },
         {
          "PC1": 2.779033711670036,
          "PC2": -0.0882382037142262,
          "Population_code": "Unknown",
          "Sample": "NA20356"
         },
         {
          "PC1": 3.195291643635989,
          "PC2": 0.3032211426993669,
          "Population_code": "Unknown",
          "Sample": "NA20357"
         },
         {
          "PC1": 2.6558803306101586,
          "PC2": -0.06881352266268273,
          "Population_code": "Unknown",
          "Sample": "NA20358"
         },
         {
          "PC1": 2.0896146827713205,
          "PC2": 0.5502563948117705,
          "Population_code": "Unknown",
          "Sample": "NA20359"
         },
         {
          "PC1": 2.2666084580786086,
          "PC2": -0.5714948973876661,
          "Population_code": "Unknown",
          "Sample": "NA20360"
         },
         {
          "PC1": 3.166212651892236,
          "PC2": 0.05809549494923577,
          "Population_code": "Unknown",
          "Sample": "NA20363"
         },
         {
          "PC1": 3.3570284124952523,
          "PC2": -0.10710747743154955,
          "Population_code": "Unknown",
          "Sample": "NA20364"
         },
         {
          "PC1": -2.290827090037487,
          "PC2": -2.055568947655053,
          "Population_code": "Unknown",
          "Sample": "NA20502"
         },
         {
          "PC1": -1.1774342252716488,
          "PC2": -3.303973905593358,
          "Population_code": "Unknown",
          "Sample": "NA20504"
         },
         {
          "PC1": -1.756937177246689,
          "PC2": -3.087108102173369,
          "Population_code": "Unknown",
          "Sample": "NA20505"
         },
         {
          "PC1": -2.224024937641576,
          "PC2": -1.9981694197878388,
          "Population_code": "Unknown",
          "Sample": "NA20506"
         },
         {
          "PC1": -1.3935964143195112,
          "PC2": -3.700742508464825,
          "Population_code": "Unknown",
          "Sample": "NA20508"
         },
         {
          "PC1": -1.8092659148105144,
          "PC2": -3.414944449171463,
          "Population_code": "Unknown",
          "Sample": "NA20509"
         },
         {
          "PC1": -0.7752402912232822,
          "PC2": -3.765540096280363,
          "Population_code": "Unknown",
          "Sample": "NA20510"
         },
         {
          "PC1": -2.6189605438107146,
          "PC2": -2.7455167120456467,
          "Population_code": "Unknown",
          "Sample": "NA20512"
         },
         {
          "PC1": -2.427792236656379,
          "PC2": -2.1575248265037454,
          "Population_code": "Unknown",
          "Sample": "NA20515"
         },
         {
          "PC1": -1.4744358260963533,
          "PC2": -2.56763676139592,
          "Population_code": "Unknown",
          "Sample": "NA20516"
         },
         {
          "PC1": -2.1866930848613286,
          "PC2": -3.476434050993097,
          "Population_code": "Unknown",
          "Sample": "NA20517"
         },
         {
          "PC1": -1.3618309776131245,
          "PC2": -3.354983930443412,
          "Population_code": "Unknown",
          "Sample": "NA20518"
         },
         {
          "PC1": -1.2094644634602116,
          "PC2": -3.2283062074537905,
          "Population_code": "Unknown",
          "Sample": "NA20519"
         },
         {
          "PC1": -2.4805820105462724,
          "PC2": -2.767991762507184,
          "Population_code": "Unknown",
          "Sample": "NA20520"
         },
         {
          "PC1": -3.039443602534898,
          "PC2": -1.3344496811779403,
          "Population_code": "Unknown",
          "Sample": "NA20521"
         },
         {
          "PC1": -1.3611424172061761,
          "PC2": -3.0148966836584763,
          "Population_code": "Unknown",
          "Sample": "NA20522"
         },
         {
          "PC1": -1.1908033354287835,
          "PC2": -3.3808701331861184,
          "Population_code": "Unknown",
          "Sample": "NA20524"
         },
         {
          "PC1": -2.145848365394924,
          "PC2": -3.974869571977875,
          "Population_code": "Unknown",
          "Sample": "NA20525"
         },
         {
          "PC1": -2.1479568547361345,
          "PC2": -2.038110650829417,
          "Population_code": "Unknown",
          "Sample": "NA20527"
         },
         {
          "PC1": -1.8364313570900659,
          "PC2": -2.13721631211016,
          "Population_code": "Unknown",
          "Sample": "NA20528"
         },
         {
          "PC1": -0.6161478284454803,
          "PC2": -2.4095976807117756,
          "Population_code": "Unknown",
          "Sample": "NA20529"
         },
         {
          "PC1": -2.0351570411772273,
          "PC2": -3.6732382345100225,
          "Population_code": "Unknown",
          "Sample": "NA20530"
         },
         {
          "PC1": -1.81399580115656,
          "PC2": -2.077550407212154,
          "Population_code": "Unknown",
          "Sample": "NA20531"
         },
         {
          "PC1": -1.4185974485310822,
          "PC2": -3.3272323528914347,
          "Population_code": "Unknown",
          "Sample": "NA20534"
         },
         {
          "PC1": -2.714658684067281,
          "PC2": -3.9201081292473523,
          "Population_code": "Unknown",
          "Sample": "NA20535"
         },
         {
          "PC1": -3.0370579273767175,
          "PC2": -3.767123962552355,
          "Population_code": "Unknown",
          "Sample": "NA20538"
         },
         {
          "PC1": -1.603406553576924,
          "PC2": -2.389239278510899,
          "Population_code": "Unknown",
          "Sample": "NA20539"
         },
         {
          "PC1": -1.5399211128243269,
          "PC2": -4.6412815044199505,
          "Population_code": "Unknown",
          "Sample": "NA20540"
         },
         {
          "PC1": -1.4242070276364016,
          "PC2": -3.1363957966040954,
          "Population_code": "Unknown",
          "Sample": "NA20541"
         },
         {
          "PC1": -3.0343019715387145,
          "PC2": -3.052409780318306,
          "Population_code": "Unknown",
          "Sample": "NA20542"
         },
         {
          "PC1": -1.9802016013478636,
          "PC2": -3.053304213112619,
          "Population_code": "Unknown",
          "Sample": "NA20543"
         },
         {
          "PC1": -0.6929092425207057,
          "PC2": -3.165843729854844,
          "Population_code": "Unknown",
          "Sample": "NA20544"
         },
         {
          "PC1": -2.233387421800339,
          "PC2": -3.659773807125016,
          "Population_code": "Unknown",
          "Sample": "NA20581"
         },
         {
          "PC1": -1.6777479946938285,
          "PC2": -0.7654658815731947,
          "Population_code": "Unknown",
          "Sample": "NA20582"
         },
         {
          "PC1": -1.9773565409134963,
          "PC2": -4.136404603581201,
          "Population_code": "Unknown",
          "Sample": "NA20586"
         },
         {
          "PC1": -1.479725396318757,
          "PC2": -3.0651711154434778,
          "Population_code": "Unknown",
          "Sample": "NA20588"
         },
         {
          "PC1": -0.9211817916138783,
          "PC2": -3.455868512424366,
          "Population_code": "Unknown",
          "Sample": "NA20589"
         },
         {
          "PC1": -1.3466885010506817,
          "PC2": -2.915291036271204,
          "Population_code": "Unknown",
          "Sample": "NA20752"
         },
         {
          "PC1": -1.427721657023956,
          "PC2": -2.778931282214907,
          "Population_code": "Unknown",
          "Sample": "NA20753"
         },
         {
          "PC1": -1.9320021689712352,
          "PC2": -2.7965269724489876,
          "Population_code": "Unknown",
          "Sample": "NA20754"
         },
         {
          "PC1": -0.7851040494624054,
          "PC2": -2.8330738850858106,
          "Population_code": "Unknown",
          "Sample": "NA20755"
         },
         {
          "PC1": -1.9525544646472994,
          "PC2": -3.146493685218259,
          "Population_code": "Unknown",
          "Sample": "NA20756"
         },
         {
          "PC1": -2.1965898638712003,
          "PC2": -2.036116715236134,
          "Population_code": "Unknown",
          "Sample": "NA20757"
         },
         {
          "PC1": -1.9383555679700915,
          "PC2": -2.486982836926044,
          "Population_code": "Unknown",
          "Sample": "NA20758"
         },
         {
          "PC1": -1.2553969157621103,
          "PC2": -2.3028277285817573,
          "Population_code": "Unknown",
          "Sample": "NA20759"
         },
         {
          "PC1": -2.360142267197742,
          "PC2": -2.8515310599678045,
          "Population_code": "Unknown",
          "Sample": "NA20760"
         },
         {
          "PC1": -2.9366141238010712,
          "PC2": -2.4692658824638656,
          "Population_code": "Unknown",
          "Sample": "NA20761"
         },
         {
          "PC1": -2.201819378672085,
          "PC2": -3.4911828934421347,
          "Population_code": "Unknown",
          "Sample": "NA20765"
         },
         {
          "PC1": -0.7926252655996784,
          "PC2": -3.0031143666267788,
          "Population_code": "Unknown",
          "Sample": "NA20766"
         },
         {
          "PC1": -1.7519634031207563,
          "PC2": -2.7575957076546276,
          "Population_code": "Unknown",
          "Sample": "NA20768"
         },
         {
          "PC1": -1.2788986517633363,
          "PC2": -3.817164298838079,
          "Population_code": "Unknown",
          "Sample": "NA20769"
         },
         {
          "PC1": -1.7893238379169145,
          "PC2": -2.163569058126151,
          "Population_code": "Unknown",
          "Sample": "NA20770"
         },
         {
          "PC1": -1.6858013229442985,
          "PC2": -3.521629339248446,
          "Population_code": "Unknown",
          "Sample": "NA20771"
         },
         {
          "PC1": -2.479198567144825,
          "PC2": -3.663646453270985,
          "Population_code": "Unknown",
          "Sample": "NA20772"
         },
         {
          "PC1": -1.2554586534622825,
          "PC2": -3.8290562299828874,
          "Population_code": "Unknown",
          "Sample": "NA20773"
         },
         {
          "PC1": -1.8224108903086922,
          "PC2": -1.8626229372810446,
          "Population_code": "Unknown",
          "Sample": "NA20774"
         },
         {
          "PC1": -1.5993499421411883,
          "PC2": -1.8711519435324597,
          "Population_code": "Unknown",
          "Sample": "NA20775"
         },
         {
          "PC1": -1.7829374621153498,
          "PC2": -3.2414922898257585,
          "Population_code": "Unknown",
          "Sample": "NA20778"
         },
         {
          "PC1": -1.875692271274145,
          "PC2": -3.836600714215244,
          "Population_code": "Unknown",
          "Sample": "NA20783"
         },
         {
          "PC1": -1.771672016318943,
          "PC2": -1.4452930803752877,
          "Population_code": "Unknown",
          "Sample": "NA20785"
         },
         {
          "PC1": -1.9846302758653984,
          "PC2": -2.2315966607231195,
          "Population_code": "Unknown",
          "Sample": "NA20786"
         },
         {
          "PC1": -2.6731714299563762,
          "PC2": -4.234151454407801,
          "Population_code": "Unknown",
          "Sample": "NA20787"
         },
         {
          "PC1": -1.4188928033675254,
          "PC2": -2.3333860020369896,
          "Population_code": "Unknown",
          "Sample": "NA20790"
         },
         {
          "PC1": -2.664986595135135,
          "PC2": -1.5834787418981966,
          "Population_code": "Unknown",
          "Sample": "NA20792"
         },
         {
          "PC1": -0.8544861311142125,
          "PC2": -2.86406432143958,
          "Population_code": "Unknown",
          "Sample": "NA20795"
         },
         {
          "PC1": -2.513635548438944,
          "PC2": -2.8774692059787332,
          "Population_code": "Unknown",
          "Sample": "NA20796"
         },
         {
          "PC1": -1.6297922344635871,
          "PC2": -3.207175192021175,
          "Population_code": "Unknown",
          "Sample": "NA20797"
         },
         {
          "PC1": -2.1136382545243775,
          "PC2": -3.23040058294188,
          "Population_code": "Unknown",
          "Sample": "NA20799"
         },
         {
          "PC1": -1.4937729885195918,
          "PC2": -4.281232968224459,
          "Population_code": "Unknown",
          "Sample": "NA20800"
         },
         {
          "PC1": -1.133565070400754,
          "PC2": -3.685665070140826,
          "Population_code": "Unknown",
          "Sample": "NA20801"
         },
         {
          "PC1": -2.07770548636614,
          "PC2": -1.9374131811260646,
          "Population_code": "Unknown",
          "Sample": "NA20802"
         },
         {
          "PC1": -2.5005029969754426,
          "PC2": -3.2532680493939745,
          "Population_code": "Unknown",
          "Sample": "NA20803"
         },
         {
          "PC1": -1.4392612542012961,
          "PC2": -1.6785971496703103,
          "Population_code": "Unknown",
          "Sample": "NA20804"
         },
         {
          "PC1": -2.437901065616441,
          "PC2": -2.2598220165877985,
          "Population_code": "Unknown",
          "Sample": "NA20805"
         },
         {
          "PC1": -1.4627109299323922,
          "PC2": -3.526738601087408,
          "Population_code": "Unknown",
          "Sample": "NA20806"
         },
         {
          "PC1": -2.0064173285865134,
          "PC2": -2.8322293938176264,
          "Population_code": "Unknown",
          "Sample": "NA20807"
         },
         {
          "PC1": -1.3287131965096444,
          "PC2": -3.8141957686075094,
          "Population_code": "Unknown",
          "Sample": "NA20808"
         },
         {
          "PC1": -1.5486875599237506,
          "PC2": -2.9624272856976535,
          "Population_code": "Unknown",
          "Sample": "NA20809"
         },
         {
          "PC1": -2.328785608389822,
          "PC2": -2.8372605868034992,
          "Population_code": "Unknown",
          "Sample": "NA20810"
         },
         {
          "PC1": -1.3532675447310718,
          "PC2": -2.5926479709333656,
          "Population_code": "Unknown",
          "Sample": "NA20811"
         },
         {
          "PC1": -2.613666535528647,
          "PC2": -4.12689178373078,
          "Population_code": "Unknown",
          "Sample": "NA20812"
         },
         {
          "PC1": -2.1978585243764615,
          "PC2": -2.2827770343091087,
          "Population_code": "Unknown",
          "Sample": "NA20813"
         },
         {
          "PC1": -1.6606584789412921,
          "PC2": -0.417368987924801,
          "Population_code": "Unknown",
          "Sample": "NA20815"
         },
         {
          "PC1": -1.5472020263595843,
          "PC2": -3.8176864513638082,
          "Population_code": "Unknown",
          "Sample": "NA20816"
         },
         {
          "PC1": -1.2928339146054717,
          "PC2": -2.9487017530433874,
          "Population_code": "Unknown",
          "Sample": "NA20818"
         },
         {
          "PC1": -2.3101121916465956,
          "PC2": -2.743746289880688,
          "Population_code": "Unknown",
          "Sample": "NA20819"
         },
         {
          "PC1": -2.6908971923139786,
          "PC2": -2.5521972778307815,
          "Population_code": "Unknown",
          "Sample": "NA20826"
         },
         {
          "PC1": -1.3301188577077263,
          "PC2": -1.679150269031967,
          "Population_code": "Unknown",
          "Sample": "NA20828"
         },
         {
          "PC1": -1.6814320845727087,
          "PC2": -2.1640253676614805,
          "Population_code": "Unknown",
          "Sample": "NA20845"
         },
         {
          "PC1": -1.406349186477942,
          "PC2": -1.3030663369102942,
          "Population_code": "Unknown",
          "Sample": "NA20846"
         },
         {
          "PC1": -1.9017122709447667,
          "PC2": -2.0475759704700525,
          "Population_code": "Unknown",
          "Sample": "NA20847"
         },
         {
          "PC1": -3.488314830429666,
          "PC2": -1.9494403104276739,
          "Population_code": "Unknown",
          "Sample": "NA20849"
         },
         {
          "PC1": -0.94219959198937,
          "PC2": -2.067970459865216,
          "Population_code": "Unknown",
          "Sample": "NA20850"
         },
         {
          "PC1": -1.299009925053957,
          "PC2": -1.7199934896852849,
          "Population_code": "Unknown",
          "Sample": "NA20851"
         },
         {
          "PC1": -2.3259025146432513,
          "PC2": -2.2475325425330217,
          "Population_code": "Unknown",
          "Sample": "NA20852"
         },
         {
          "PC1": -1.4691275766912348,
          "PC2": -0.6970052822270008,
          "Population_code": "Unknown",
          "Sample": "NA20853"
         },
         {
          "PC1": -2.6782548358866465,
          "PC2": -2.24649467818099,
          "Population_code": "Unknown",
          "Sample": "NA20854"
         },
         {
          "PC1": -2.8854548720899125,
          "PC2": -1.3646614856596524,
          "Population_code": "Unknown",
          "Sample": "NA20856"
         },
         {
          "PC1": -2.866179533445701,
          "PC2": -1.199731787802494,
          "Population_code": "Unknown",
          "Sample": "NA20858"
         },
         {
          "PC1": -2.265604453059539,
          "PC2": -0.6083873293118688,
          "Population_code": "Unknown",
          "Sample": "NA20859"
         },
         {
          "PC1": -1.8635103681101488,
          "PC2": -0.5812097645039318,
          "Population_code": "Unknown",
          "Sample": "NA20861"
         },
         {
          "PC1": -1.5830134955310091,
          "PC2": -1.2171068428226182,
          "Population_code": "Unknown",
          "Sample": "NA20862"
         },
         {
          "PC1": -2.7307643502096193,
          "PC2": -1.677047925656579,
          "Population_code": "Unknown",
          "Sample": "NA20866"
         },
         {
          "PC1": -0.8942581347463449,
          "PC2": -1.2130536994842156,
          "Population_code": "Unknown",
          "Sample": "NA20869"
         },
         {
          "PC1": -2.3300357029738663,
          "PC2": -1.3282622281172918,
          "Population_code": "Unknown",
          "Sample": "NA20870"
         },
         {
          "PC1": -1.9958154581678826,
          "PC2": -0.7741712180631779,
          "Population_code": "Unknown",
          "Sample": "NA20871"
         },
         {
          "PC1": -1.7814831921352807,
          "PC2": -1.3994115560274623,
          "Population_code": "Unknown",
          "Sample": "NA20872"
         },
         {
          "PC1": -0.992229522051649,
          "PC2": -1.2033568300663475,
          "Population_code": "Unknown",
          "Sample": "NA20873"
         },
         {
          "PC1": -1.9828710805453493,
          "PC2": -1.4642372456737627,
          "Population_code": "Unknown",
          "Sample": "NA20874"
         },
         {
          "PC1": -0.43608831186242947,
          "PC2": -2.115168887945658,
          "Population_code": "Unknown",
          "Sample": "NA20875"
         },
         {
          "PC1": -1.1852253610246377,
          "PC2": -1.925654023361493,
          "Population_code": "Unknown",
          "Sample": "NA20876"
         },
         {
          "PC1": -1.7089959501872847,
          "PC2": -1.174236716682417,
          "Population_code": "Unknown",
          "Sample": "NA20877"
         },
         {
          "PC1": -1.971365807873061,
          "PC2": -1.8962162001317007,
          "Population_code": "Unknown",
          "Sample": "NA20879"
         },
         {
          "PC1": -2.0121354355315177,
          "PC2": -1.6654221754901235,
          "Population_code": "Unknown",
          "Sample": "NA20881"
         },
         {
          "PC1": -2.032358778870933,
          "PC2": -1.8431501925078662,
          "Population_code": "Unknown",
          "Sample": "NA20882"
         },
         {
          "PC1": -1.4125724516375842,
          "PC2": -1.0200744046855377,
          "Population_code": "Unknown",
          "Sample": "NA20883"
         },
         {
          "PC1": -0.6722885793514636,
          "PC2": -1.7696381597781972,
          "Population_code": "Unknown",
          "Sample": "NA20884"
         },
         {
          "PC1": -2.3919297054073465,
          "PC2": -1.1482483665959529,
          "Population_code": "Unknown",
          "Sample": "NA20885"
         },
         {
          "PC1": -2.5456067946978895,
          "PC2": -0.6726992597581654,
          "Population_code": "Unknown",
          "Sample": "NA20887"
         },
         {
          "PC1": -1.5749827863462,
          "PC2": -0.7945293466377253,
          "Population_code": "Unknown",
          "Sample": "NA20888"
         },
         {
          "PC1": -1.8343088467092221,
          "PC2": -0.45101348107254235,
          "Population_code": "Unknown",
          "Sample": "NA20889"
         },
         {
          "PC1": -1.3103790252617364,
          "PC2": -0.7914755843070642,
          "Population_code": "Unknown",
          "Sample": "NA20890"
         },
         {
          "PC1": -2.997927891817426,
          "PC2": -0.5274577217500039,
          "Population_code": "Unknown",
          "Sample": "NA20891"
         },
         {
          "PC1": -1.6748250292597764,
          "PC2": -0.20319271381608314,
          "Population_code": "Unknown",
          "Sample": "NA20892"
         },
         {
          "PC1": -1.6539081719086637,
          "PC2": -0.8688601768523831,
          "Population_code": "Unknown",
          "Sample": "NA20894"
         },
         {
          "PC1": -1.7421371480831627,
          "PC2": -0.896826139067207,
          "Population_code": "Unknown",
          "Sample": "NA20895"
         },
         {
          "PC1": -1.788196131942412,
          "PC2": -2.5473656384277024,
          "Population_code": "Unknown",
          "Sample": "NA20896"
         },
         {
          "PC1": -2.5104994297756362,
          "PC2": -0.0010378003744294095,
          "Population_code": "Unknown",
          "Sample": "NA20897"
         },
         {
          "PC1": -2.7322691968742694,
          "PC2": -0.5580496932450301,
          "Population_code": "Unknown",
          "Sample": "NA20898"
         },
         {
          "PC1": -2.0321099798412243,
          "PC2": -1.5468836196937497,
          "Population_code": "Unknown",
          "Sample": "NA20899"
         },
         {
          "PC1": -1.858591587823332,
          "PC2": -1.8496556940094517,
          "Population_code": "Unknown",
          "Sample": "NA20900"
         },
         {
          "PC1": -1.0376711966061145,
          "PC2": -1.614700764468072,
          "Population_code": "Unknown",
          "Sample": "NA20901"
         },
         {
          "PC1": -2.5388745671703346,
          "PC2": -1.0177871124409679,
          "Population_code": "Unknown",
          "Sample": "NA20902"
         },
         {
          "PC1": -3.2023735774849276,
          "PC2": -1.8472334273481188,
          "Population_code": "Unknown",
          "Sample": "NA20903"
         },
         {
          "PC1": -0.3652374927224812,
          "PC2": -2.292210301788203,
          "Population_code": "Unknown",
          "Sample": "NA20904"
         },
         {
          "PC1": -2.3354702684225295,
          "PC2": -2.25900858205187,
          "Population_code": "Unknown",
          "Sample": "NA20906"
         },
         {
          "PC1": -1.5806488646825014,
          "PC2": -1.299617848076196,
          "Population_code": "Unknown",
          "Sample": "NA20907"
         },
         {
          "PC1": -1.1125221277528632,
          "PC2": -0.631808732773672,
          "Population_code": "Unknown",
          "Sample": "NA20908"
         },
         {
          "PC1": -3.259155534744071,
          "PC2": 0.41377967193127074,
          "Population_code": "Unknown",
          "Sample": "NA20909"
         },
         {
          "PC1": -2.4380110785992235,
          "PC2": -1.2691579539660356,
          "Population_code": "Unknown",
          "Sample": "NA20910"
         },
         {
          "PC1": -1.282079255181642,
          "PC2": -0.22282404459884567,
          "Population_code": "Unknown",
          "Sample": "NA20911"
         },
         {
          "PC1": -0.7874953429399725,
          "PC2": -1.0780493882084472,
          "Population_code": "Unknown",
          "Sample": "NA21086"
         },
         {
          "PC1": -2.270610092666377,
          "PC2": -1.1555944645535816,
          "Population_code": "Unknown",
          "Sample": "NA21088"
         },
         {
          "PC1": -1.1958857506129807,
          "PC2": -1.1360025508942235,
          "Population_code": "Unknown",
          "Sample": "NA21089"
         },
         {
          "PC1": -1.922419109347266,
          "PC2": -1.7297432831443509,
          "Population_code": "Unknown",
          "Sample": "NA21090"
         },
         {
          "PC1": -2.577396642401277,
          "PC2": -0.6473341850655494,
          "Population_code": "Unknown",
          "Sample": "NA21091"
         },
         {
          "PC1": -2.6474520018877667,
          "PC2": -0.9778098001845428,
          "Population_code": "Unknown",
          "Sample": "NA21092"
         },
         {
          "PC1": -2.464520471767544,
          "PC2": -0.2524718483197348,
          "Population_code": "Unknown",
          "Sample": "NA21094"
         },
         {
          "PC1": -3.0413496200611285,
          "PC2": -2.565534063826794,
          "Population_code": "Unknown",
          "Sample": "NA21097"
         },
         {
          "PC1": -2.532584026003838,
          "PC2": -2.2313247172243855,
          "Population_code": "Unknown",
          "Sample": "NA21098"
         },
         {
          "PC1": -2.9293220901451433,
          "PC2": -1.2004584347751925,
          "Population_code": "Unknown",
          "Sample": "NA21099"
         },
         {
          "PC1": -3.0461045793431074,
          "PC2": -1.762261814960746,
          "Population_code": "Unknown",
          "Sample": "NA21100"
         },
         {
          "PC1": -1.9410647827128837,
          "PC2": -0.7248301504594301,
          "Population_code": "Unknown",
          "Sample": "NA21101"
         },
         {
          "PC1": -0.9636524687778437,
          "PC2": -1.190756128999899,
          "Population_code": "Unknown",
          "Sample": "NA21102"
         },
         {
          "PC1": -2.127053811652192,
          "PC2": -1.3823754210120187,
          "Population_code": "Unknown",
          "Sample": "NA21103"
         },
         {
          "PC1": -1.8609612272727918,
          "PC2": -1.3872493510882569,
          "Population_code": "Unknown",
          "Sample": "NA21104"
         },
         {
          "PC1": -0.9786644259582908,
          "PC2": -2.2068001914041186,
          "Population_code": "Unknown",
          "Sample": "NA21105"
         },
         {
          "PC1": -2.5902355378973194,
          "PC2": -2.4466774767678925,
          "Population_code": "Unknown",
          "Sample": "NA21106"
         },
         {
          "PC1": -2.545009095215096,
          "PC2": -1.3995039343669884,
          "Population_code": "Unknown",
          "Sample": "NA21107"
         },
         {
          "PC1": -2.956965468124076,
          "PC2": -1.1330130492808879,
          "Population_code": "Unknown",
          "Sample": "NA21108"
         },
         {
          "PC1": -2.5906356766531053,
          "PC2": -0.5870297278474919,
          "Population_code": "Unknown",
          "Sample": "NA21109"
         },
         {
          "PC1": -2.6961400163941422,
          "PC2": -0.2887618320367128,
          "Population_code": "Unknown",
          "Sample": "NA21111"
         },
         {
          "PC1": -1.950824741846838,
          "PC2": -0.8555946983035636,
          "Population_code": "Unknown",
          "Sample": "NA21112"
         },
         {
          "PC1": -1.2144955515227718,
          "PC2": -1.5449507251794534,
          "Population_code": "Unknown",
          "Sample": "NA21113"
         },
         {
          "PC1": -1.9075428214817391,
          "PC2": -1.6802627846152058,
          "Population_code": "Unknown",
          "Sample": "NA21115"
         },
         {
          "PC1": -2.022651888028688,
          "PC2": -0.607930101750814,
          "Population_code": "Unknown",
          "Sample": "NA21116"
         },
         {
          "PC1": -3.1096776272112474,
          "PC2": -0.6624015243374308,
          "Population_code": "Unknown",
          "Sample": "NA21117"
         },
         {
          "PC1": -0.9559369170883052,
          "PC2": -0.8728859219145457,
          "Population_code": "Unknown",
          "Sample": "NA21118"
         },
         {
          "PC1": -0.9040558494660756,
          "PC2": -2.665866122406646,
          "Population_code": "Unknown",
          "Sample": "NA21119"
         },
         {
          "PC1": -2.330645907667816,
          "PC2": -0.9911382967632358,
          "Population_code": "Unknown",
          "Sample": "NA21123"
         },
         {
          "PC1": -1.6110123335714233,
          "PC2": -0.7182784398765545,
          "Population_code": "Unknown",
          "Sample": "NA21125"
         },
         {
          "PC1": -3.277107069837042,
          "PC2": -1.5087830917741065,
          "Population_code": "Unknown",
          "Sample": "NA21137"
         },
         {
          "PC1": -1.7071984430469391,
          "PC2": -1.7167066204427537,
          "Population_code": "Unknown",
          "Sample": "NA21141"
         },
         {
          "PC1": -2.2624467553258465,
          "PC2": -0.9630828841047999,
          "Population_code": "Unknown",
          "Sample": "NA21142"
         },
         {
          "PC1": -2.568089540404046,
          "PC2": -1.071115234562898,
          "Population_code": "Unknown",
          "Sample": "NA21143"
         },
         {
          "PC1": -1.6233800143606685,
          "PC2": -1.5344226996329633,
          "Population_code": "Unknown",
          "Sample": "NA21144"
         },
         {
          "PC1": 2.4536035108363294,
          "PC2": -0.3756291145471543,
          "Population_code": "Unknown",
          "Sample": "NA21295"
         },
         {
          "PC1": 2.5356204651155196,
          "PC2": -0.16262892732148648,
          "Population_code": "Unknown",
          "Sample": "NA21297"
         },
         {
          "PC1": 3.1708413829340363,
          "PC2": 0.8979544148383665,
          "Population_code": "Unknown",
          "Sample": "NA21300"
         },
         {
          "PC1": 2.0171529397430117,
          "PC2": 0.17993439659989607,
          "Population_code": "Unknown",
          "Sample": "NA21301"
         },
         {
          "PC1": 1.6891197455176266,
          "PC2": -0.6698742421987844,
          "Population_code": "Unknown",
          "Sample": "NA21302"
         },
         {
          "PC1": 2.19560762871939,
          "PC2": 0.3235522236085093,
          "Population_code": "Unknown",
          "Sample": "NA21303"
         },
         {
          "PC1": 2.0242358460320027,
          "PC2": -0.26057552030413855,
          "Population_code": "Unknown",
          "Sample": "NA21307"
         },
         {
          "PC1": 2.7565701273514014,
          "PC2": 0.9354675458814489,
          "Population_code": "Unknown",
          "Sample": "NA21308"
         },
         {
          "PC1": 2.003277715347453,
          "PC2": 0.4669078724056341,
          "Population_code": "Unknown",
          "Sample": "NA21309"
         },
         {
          "PC1": 1.4420975439427917,
          "PC2": -0.24979073220474807,
          "Population_code": "Unknown",
          "Sample": "NA21311"
         },
         {
          "PC1": 1.8426327206927122,
          "PC2": -0.518931039539222,
          "Population_code": "Unknown",
          "Sample": "NA21312"
         },
         {
          "PC1": 2.325434706142424,
          "PC2": 0.02641407354043846,
          "Population_code": "Unknown",
          "Sample": "NA21313"
         },
         {
          "PC1": 1.5937889163778125,
          "PC2": -0.4684033254114257,
          "Population_code": "Unknown",
          "Sample": "NA21314"
         },
         {
          "PC1": 2.4309729098131916,
          "PC2": 0.7511238667909939,
          "Population_code": "Unknown",
          "Sample": "NA21316"
         },
         {
          "PC1": 3.192045515129869,
          "PC2": 0.2233691531232925,
          "Population_code": "Unknown",
          "Sample": "NA21317"
         },
         {
          "PC1": 2.632296214106748,
          "PC2": -0.09141717483174613,
          "Population_code": "Unknown",
          "Sample": "NA21318"
         },
         {
          "PC1": 1.3283787646634,
          "PC2": -0.09377197801668818,
          "Population_code": "Unknown",
          "Sample": "NA21320"
         },
         {
          "PC1": 2.519724917539085,
          "PC2": 0.5379138285379488,
          "Population_code": "Unknown",
          "Sample": "NA21333"
         },
         {
          "PC1": 2.8236856450928265,
          "PC2": -0.06505910284116938,
          "Population_code": "Unknown",
          "Sample": "NA21336"
         },
         {
          "PC1": 2.6422692201752955,
          "PC2": 0.5042474939266209,
          "Population_code": "Unknown",
          "Sample": "NA21339"
         },
         {
          "PC1": 0.7830440387634006,
          "PC2": 0.5042579542934666,
          "Population_code": "Unknown",
          "Sample": "NA21344"
         },
         {
          "PC1": 4.236000571760687,
          "PC2": 0.6340260348693846,
          "Population_code": "Unknown",
          "Sample": "NA21352"
         },
         {
          "PC1": 2.7255515204305243,
          "PC2": -0.31082018283725205,
          "Population_code": "Unknown",
          "Sample": "NA21353"
         },
         {
          "PC1": 2.1720572694299394,
          "PC2": 0.4348020386636458,
          "Population_code": "Unknown",
          "Sample": "NA21355"
         },
         {
          "PC1": 2.8760441615560186,
          "PC2": -0.02464087756104899,
          "Population_code": "Unknown",
          "Sample": "NA21356"
         },
         {
          "PC1": 2.3670094361635954,
          "PC2": 0.626789061826535,
          "Population_code": "Unknown",
          "Sample": "NA21357"
         },
         {
          "PC1": 2.890904674688509,
          "PC2": -0.588898461705714,
          "Population_code": "Unknown",
          "Sample": "NA21359"
         },
         {
          "PC1": 2.6129500030874526,
          "PC2": 0.709138574471918,
          "Population_code": "Unknown",
          "Sample": "NA21360"
         },
         {
          "PC1": 2.7396763222061753,
          "PC2": 0.4588945642892057,
          "Population_code": "Unknown",
          "Sample": "NA21361"
         },
         {
          "PC1": 3.0498184596302247,
          "PC2": 0.4143883279105588,
          "Population_code": "Unknown",
          "Sample": "NA21362"
         },
         {
          "PC1": 1.9089799971488928,
          "PC2": 0.11463684438147562,
          "Population_code": "Unknown",
          "Sample": "NA21363"
         },
         {
          "PC1": 2.109888229416267,
          "PC2": -0.8137014751340276,
          "Population_code": "Unknown",
          "Sample": "NA21364"
         },
         {
          "PC1": 1.8980621786833762,
          "PC2": -0.32866339300985936,
          "Population_code": "Unknown",
          "Sample": "NA21365"
         },
         {
          "PC1": 1.9556358426604237,
          "PC2": -0.029490785389274854,
          "Population_code": "Unknown",
          "Sample": "NA21366"
         },
         {
          "PC1": 2.81607199335981,
          "PC2": -0.11184297634292528,
          "Population_code": "Unknown",
          "Sample": "NA21367"
         },
         {
          "PC1": 2.915844100977204,
          "PC2": 0.11450763324944138,
          "Population_code": "Unknown",
          "Sample": "NA21368"
         },
         {
          "PC1": 2.416324061025917,
          "PC2": -0.20313392428091875,
          "Population_code": "Unknown",
          "Sample": "NA21370"
         },
         {
          "PC1": 1.8774541939842722,
          "PC2": -0.35905742330692103,
          "Population_code": "Unknown",
          "Sample": "NA21371"
         },
         {
          "PC1": 2.347097250323974,
          "PC2": 0.4410035813237452,
          "Population_code": "Unknown",
          "Sample": "NA21378"
         },
         {
          "PC1": 3.0310321412108268,
          "PC2": -0.5275489433765832,
          "Population_code": "Unknown",
          "Sample": "NA21379"
         },
         {
          "PC1": 2.692393711290698,
          "PC2": -0.23406683220600202,
          "Population_code": "Unknown",
          "Sample": "NA21381"
         },
         {
          "PC1": 3.3691355353344714,
          "PC2": -0.03435389092658829,
          "Population_code": "Unknown",
          "Sample": "NA21382"
         },
         {
          "PC1": 3.175695565501526,
          "PC2": -0.523345612901769,
          "Population_code": "Unknown",
          "Sample": "NA21383"
         },
         {
          "PC1": 2.5572603729749828,
          "PC2": -0.990951260761392,
          "Population_code": "Unknown",
          "Sample": "NA21384"
         },
         {
          "PC1": 1.6846480512250794,
          "PC2": 0.2684093794289189,
          "Population_code": "Unknown",
          "Sample": "NA21385"
         },
         {
          "PC1": 1.823325782248345,
          "PC2": -0.5551138504306203,
          "Population_code": "Unknown",
          "Sample": "NA21386"
         },
         {
          "PC1": 2.5200153146064883,
          "PC2": -0.7367865675639161,
          "Population_code": "Unknown",
          "Sample": "NA21387"
         },
         {
          "PC1": 2.393503228967142,
          "PC2": -0.0667018275524186,
          "Population_code": "Unknown",
          "Sample": "NA21388"
         },
         {
          "PC1": 2.5082285216402767,
          "PC2": -0.9767491788925926,
          "Population_code": "Unknown",
          "Sample": "NA21389"
         },
         {
          "PC1": 2.6176925588181787,
          "PC2": -0.4821052726671001,
          "Population_code": "Unknown",
          "Sample": "NA21390"
         },
         {
          "PC1": 2.3740975177223227,
          "PC2": 0.21272532031917585,
          "Population_code": "Unknown",
          "Sample": "NA21391"
         },
         {
          "PC1": 2.9732254808835323,
          "PC2": -0.26848624271415034,
          "Population_code": "Unknown",
          "Sample": "NA21399"
         },
         {
          "PC1": 3.0321623196332625,
          "PC2": -0.5710886255813604,
          "Population_code": "Unknown",
          "Sample": "NA21400"
         },
         {
          "PC1": 2.697847647894261,
          "PC2": -0.6296327931680807,
          "Population_code": "Unknown",
          "Sample": "NA21401"
         },
         {
          "PC1": 2.8744704777979235,
          "PC2": -0.7839844067391549,
          "Population_code": "Unknown",
          "Sample": "NA21402"
         },
         {
          "PC1": 2.218233974702159,
          "PC2": 0.04283836806156808,
          "Population_code": "Unknown",
          "Sample": "NA21403"
         },
         {
          "PC1": 2.6422876697505213,
          "PC2": -1.0267089417478474,
          "Population_code": "Unknown",
          "Sample": "NA21404"
         },
         {
          "PC1": 3.1884592578548774,
          "PC2": -0.5685416893858565,
          "Population_code": "Unknown",
          "Sample": "NA21405"
         },
         {
          "PC1": 3.1629231267574265,
          "PC2": -0.3109401650482982,
          "Population_code": "Unknown",
          "Sample": "NA21408"
         },
         {
          "PC1": 2.9759561056914294,
          "PC2": 0.7053481805040533,
          "Population_code": "Unknown",
          "Sample": "NA21414"
         },
         {
          "PC1": 1.8726768777336769,
          "PC2": 0.8161461105507941,
          "Population_code": "Unknown",
          "Sample": "NA21415"
         },
         {
          "PC1": 1.769587334040546,
          "PC2": -0.19928790278548103,
          "Population_code": "Unknown",
          "Sample": "NA21417"
         },
         {
          "PC1": 2.906425682582969,
          "PC2": -0.07933696648286315,
          "Population_code": "Unknown",
          "Sample": "NA21418"
         },
         {
          "PC1": 2.857124713130064,
          "PC2": -1.3065206591584917,
          "Population_code": "Unknown",
          "Sample": "NA21420"
         },
         {
          "PC1": 3.3363412955313776,
          "PC2": -0.30208189530659935,
          "Population_code": "Unknown",
          "Sample": "NA21421"
         },
         {
          "PC1": 2.664652435118082,
          "PC2": 0.09321794538666373,
          "Population_code": "Unknown",
          "Sample": "NA21423"
         },
         {
          "PC1": 2.889938451240426,
          "PC2": 0.3498943617456177,
          "Population_code": "Unknown",
          "Sample": "NA21424"
         },
         {
          "PC1": 2.9095935991808,
          "PC2": 0.38957225132378515,
          "Population_code": "Unknown",
          "Sample": "NA21425"
         },
         {
          "PC1": 3.0726283104104257,
          "PC2": -0.9625906816549569,
          "Population_code": "Unknown",
          "Sample": "NA21434"
         },
         {
          "PC1": 2.653447589389705,
          "PC2": 1.217862888587717,
          "Population_code": "Unknown",
          "Sample": "NA21435"
         },
         {
          "PC1": 1.7517990871175804,
          "PC2": -0.6547617945639521,
          "Population_code": "Unknown",
          "Sample": "NA21436"
         },
         {
          "PC1": 2.7388818580467538,
          "PC2": 0.9550544324771458,
          "Population_code": "Unknown",
          "Sample": "NA21438"
         },
         {
          "PC1": 3.0946980633670282,
          "PC2": 0.7117235373706785,
          "Population_code": "Unknown",
          "Sample": "NA21439"
         },
         {
          "PC1": 2.6009565686970877,
          "PC2": -1.080545278771082,
          "Population_code": "Unknown",
          "Sample": "NA21440"
         },
         {
          "PC1": 1.5873812333398463,
          "PC2": -1.3126926120044162,
          "Population_code": "Unknown",
          "Sample": "NA21441"
         },
         {
          "PC1": 2.23186552465367,
          "PC2": -0.5772849577000667,
          "Population_code": "Unknown",
          "Sample": "NA21442"
         },
         {
          "PC1": 2.206188982394496,
          "PC2": -0.6214918944014662,
          "Population_code": "Unknown",
          "Sample": "NA21447"
         },
         {
          "PC1": 2.252849717160537,
          "PC2": 0.030267768848033283,
          "Population_code": "Unknown",
          "Sample": "NA21448"
         },
         {
          "PC1": 2.1081937227365537,
          "PC2": 0.29399379970483813,
          "Population_code": "Unknown",
          "Sample": "NA21451"
         },
         {
          "PC1": 2.170971456651992,
          "PC2": 0.4701108543740307,
          "Population_code": "Unknown",
          "Sample": "NA21453"
         },
         {
          "PC1": 2.251142319737509,
          "PC2": -0.39678762039426135,
          "Population_code": "Unknown",
          "Sample": "NA21454"
         },
         {
          "PC1": 2.435348575848937,
          "PC2": 0.5098588686951903,
          "Population_code": "Unknown",
          "Sample": "NA21455"
         },
         {
          "PC1": 2.180877331577217,
          "PC2": 0.5553691957740056,
          "Population_code": "Unknown",
          "Sample": "NA21457"
         },
         {
          "PC1": 3.7102128765809343,
          "PC2": -0.7380030411337744,
          "Population_code": "Unknown",
          "Sample": "NA21473"
         },
         {
          "PC1": 3.0742540819294693,
          "PC2": -0.16022078004302692,
          "Population_code": "Unknown",
          "Sample": "NA21475"
         },
         {
          "PC1": 2.0600308740282536,
          "PC2": 0.42013782777496356,
          "Population_code": "Unknown",
          "Sample": "NA21476"
         },
         {
          "PC1": 1.9813086971974148,
          "PC2": 0.2786124796844534,
          "Population_code": "Unknown",
          "Sample": "NA21477"
         },
         {
          "PC1": 3.270943477294738,
          "PC2": -0.8268183438279946,
          "Population_code": "Unknown",
          "Sample": "NA21478"
         },
         {
          "PC1": 2.758235480686,
          "PC2": 2.4884780719020334,
          "Population_code": "Unknown",
          "Sample": "NA21479"
         },
         {
          "PC1": 2.454699893188638,
          "PC2": 1.0146931679151612,
          "Population_code": "Unknown",
          "Sample": "NA21480"
         },
         {
          "PC1": 2.226720612434274,
          "PC2": 0.1574460612324065,
          "Population_code": "Unknown",
          "Sample": "NA21485"
         },
         {
          "PC1": 2.4094709940105625,
          "PC2": -0.8328621280671896,
          "Population_code": "Unknown",
          "Sample": "NA21486"
         },
         {
          "PC1": 1.9218982481291986,
          "PC2": -1.2805198112312839,
          "Population_code": "Unknown",
          "Sample": "NA21487"
         },
         {
          "PC1": 3.3201538518922353,
          "PC2": -0.7049834559442398,
          "Population_code": "Unknown",
          "Sample": "NA21488"
         },
         {
          "PC1": 2.6851719550414277,
          "PC2": -0.5997077712744256,
          "Population_code": "Unknown",
          "Sample": "NA21489"
         },
         {
          "PC1": 2.4055506681255796,
          "PC2": -0.9753597605973922,
          "Population_code": "Unknown",
          "Sample": "NA21490"
         },
         {
          "PC1": 2.656119688388857,
          "PC2": -0.5651694559410277,
          "Population_code": "Unknown",
          "Sample": "NA21491"
         },
         {
          "PC1": 1.7381720437048955,
          "PC2": 0.5330280665986298,
          "Population_code": "Unknown",
          "Sample": "NA21493"
         },
         {
          "PC1": 3.2103410133600785,
          "PC2": -0.7560069183781285,
          "Population_code": "Unknown",
          "Sample": "NA21494"
         },
         {
          "PC1": 1.5939350748393402,
          "PC2": -0.42542458964409646,
          "Population_code": "Unknown",
          "Sample": "NA21509"
         },
         {
          "PC1": 3.402622771295112,
          "PC2": 0.9898967857915767,
          "Population_code": "Unknown",
          "Sample": "NA21510"
         },
         {
          "PC1": 2.373597848625827,
          "PC2": -0.5169452519194095,
          "Population_code": "Unknown",
          "Sample": "NA21512"
         },
         {
          "PC1": 2.4815109982137464,
          "PC2": 0.5542422728492993,
          "Population_code": "Unknown",
          "Sample": "NA21513"
         },
         {
          "PC1": 3.1536655158407547,
          "PC2": -0.32398724513090277,
          "Population_code": "Unknown",
          "Sample": "NA21514"
         },
         {
          "PC1": 2.144307592920833,
          "PC2": -0.29190096494305884,
          "Population_code": "Unknown",
          "Sample": "NA21517"
         },
         {
          "PC1": 2.575861209039282,
          "PC2": 0.09192724409690584,
          "Population_code": "Unknown",
          "Sample": "NA21519"
         },
         {
          "PC1": 2.183940636974114,
          "PC2": -0.18099635056124028,
          "Population_code": "Unknown",
          "Sample": "NA21520"
         },
         {
          "PC1": 1.1650491707405735,
          "PC2": 0.05522058357210946,
          "Population_code": "Unknown",
          "Sample": "NA21521"
         },
         {
          "PC1": 2.7693041198184463,
          "PC2": -0.27117384310174225,
          "Population_code": "Unknown",
          "Sample": "NA21522"
         },
         {
          "PC1": 1.5679050760627629,
          "PC2": 0.642175464452961,
          "Population_code": "Unknown",
          "Sample": "NA21523"
         },
         {
          "PC1": 1.8507246709394312,
          "PC2": -0.3666849001790776,
          "Population_code": "Unknown",
          "Sample": "NA21524"
         },
         {
          "PC1": 1.9142305072972272,
          "PC2": 1.159737100768305,
          "Population_code": "Unknown",
          "Sample": "NA21525"
         },
         {
          "PC1": 3.0768334948485143,
          "PC2": 0.2301600836982669,
          "Population_code": "Unknown",
          "Sample": "NA21526"
         },
         {
          "PC1": 2.958024312781512,
          "PC2": 0.7286049443073658,
          "Population_code": "Unknown",
          "Sample": "NA21527"
         },
         {
          "PC1": 1.9170238258271504,
          "PC2": -0.4354931281341571,
          "Population_code": "Unknown",
          "Sample": "NA21528"
         },
         {
          "PC1": 1.872526485909154,
          "PC2": -0.00825331183330924,
          "Population_code": "Unknown",
          "Sample": "NA21529"
         },
         {
          "PC1": 3.6735509135131292,
          "PC2": 0.8980695749067814,
          "Population_code": "Unknown",
          "Sample": "NA21573"
         },
         {
          "PC1": 3.7873042759534594,
          "PC2": -0.5725572623320511,
          "Population_code": "Unknown",
          "Sample": "NA21574"
         },
         {
          "PC1": 2.6188753502011783,
          "PC2": -0.11062153439334214,
          "Population_code": "Unknown",
          "Sample": "NA21575"
         },
         {
          "PC1": 3.3383657772807735,
          "PC2": 0.32633466962816304,
          "Population_code": "Unknown",
          "Sample": "NA21576"
         },
         {
          "PC1": 3.6252288414610687,
          "PC2": 1.025195868594501,
          "Population_code": "Unknown",
          "Sample": "NA21577"
         },
         {
          "PC1": 1.8238154671823024,
          "PC2": -0.5141561622752182,
          "Population_code": "Unknown",
          "Sample": "NA21578"
         },
         {
          "PC1": 3.052242334195068,
          "PC2": 0.04389146533445562,
          "Population_code": "Unknown",
          "Sample": "NA21580"
         },
         {
          "PC1": 2.0480316438599546,
          "PC2": -0.3889470572278764,
          "Population_code": "Unknown",
          "Sample": "NA21582"
         },
         {
          "PC1": 2.762053704326165,
          "PC2": -0.15565946690046487,
          "Population_code": "Unknown",
          "Sample": "NA21583"
         },
         {
          "PC1": 1.6457661564810568,
          "PC2": 0.11789118272807825,
          "Population_code": "Unknown",
          "Sample": "NA21587"
         },
         {
          "PC1": 3.0103520350748294,
          "PC2": 1.1930617129502545,
          "Population_code": "Unknown",
          "Sample": "NA21596"
         },
         {
          "PC1": 2.4432198001235217,
          "PC2": 0.06379245187449478,
          "Population_code": "Unknown",
          "Sample": "NA21597"
         },
         {
          "PC1": 2.3488301839842287,
          "PC2": -0.2188789881359931,
          "Population_code": "Unknown",
          "Sample": "NA21599"
         },
         {
          "PC1": 2.574621087256003,
          "PC2": 0.3458824825112601,
          "Population_code": "Unknown",
          "Sample": "NA21600"
         },
         {
          "PC1": 2.8963811514874966,
          "PC2": 0.9012965105129526,
          "Population_code": "Unknown",
          "Sample": "NA21601"
         },
         {
          "PC1": 2.1189621003927415,
          "PC2": -0.8190974449907437,
          "Population_code": "Unknown",
          "Sample": "NA21608"
         },
         {
          "PC1": 2.2152398066073014,
          "PC2": -0.13980887575329612,
          "Population_code": "Unknown",
          "Sample": "NA21611"
         },
         {
          "PC1": 3.302163288081098,
          "PC2": 0.04736473497610591,
          "Population_code": "Unknown",
          "Sample": "NA21613"
         },
         {
          "PC1": 2.831945469243946,
          "PC2": -0.5935121730463184,
          "Population_code": "Unknown",
          "Sample": "NA21614"
         },
         {
          "PC1": 1.3591586954073573,
          "PC2": -1.2538749520927976,
          "Population_code": "Unknown",
          "Sample": "NA21615"
         },
         {
          "PC1": 2.85539456598698,
          "PC2": -0.8657271782303063,
          "Population_code": "Unknown",
          "Sample": "NA21616"
         },
         {
          "PC1": 2.0009003973618973,
          "PC2": -0.23971178101244767,
          "Population_code": "Unknown",
          "Sample": "NA21617"
         },
         {
          "PC1": 2.4459428340025653,
          "PC2": -0.11478427031099007,
          "Population_code": "Unknown",
          "Sample": "NA21619"
         },
         {
          "PC1": 3.4197347680631953,
          "PC2": 0.5808830976905826,
          "Population_code": "Unknown",
          "Sample": "NA21620"
         },
         {
          "PC1": 2.45851945937206,
          "PC2": -0.5521911874277692,
          "Population_code": "Unknown",
          "Sample": "NA21631"
         },
         {
          "PC1": 1.9953121212488645,
          "PC2": -1.0236011186181413,
          "Population_code": "Unknown",
          "Sample": "NA21632"
         },
         {
          "PC1": 3.081803212508295,
          "PC2": 0.8167146438274533,
          "Population_code": "Unknown",
          "Sample": "NA21634"
         },
         {
          "PC1": 2.104706946290809,
          "PC2": -1.0405120115388509,
          "Population_code": "Unknown",
          "Sample": "NA21635"
         },
         {
          "PC1": 2.7553296049414944,
          "PC2": -0.2067780638146466,
          "Population_code": "Unknown",
          "Sample": "NA21636"
         },
         {
          "PC1": 3.2189630157063602,
          "PC2": 0.37107740989427634,
          "Population_code": "Unknown",
          "Sample": "NA21647"
         },
         {
          "PC1": 3.9597464392262265,
          "PC2": -0.3271665109180877,
          "Population_code": "Unknown",
          "Sample": "NA21648"
         },
         {
          "PC1": 2.981158715755748,
          "PC2": 1.0024753226741836,
          "Population_code": "Unknown",
          "Sample": "NA21650"
         },
         {
          "PC1": 2.768827005080046,
          "PC2": 0.08795963065840828,
          "Population_code": "Unknown",
          "Sample": "NA21678"
         },
         {
          "PC1": 2.8470638476376675,
          "PC2": 0.776231642062948,
          "Population_code": "Unknown",
          "Sample": "NA21682"
         },
         {
          "PC1": 1.4221062107121871,
          "PC2": 0.030522372248135365,
          "Population_code": "Unknown",
          "Sample": "NA21683"
         },
         {
          "PC1": 3.188329447499151,
          "PC2": 0.5375525705266907,
          "Population_code": "Unknown",
          "Sample": "NA21685"
         },
         {
          "PC1": 3.0771558514140755,
          "PC2": -0.9260252527085213,
          "Population_code": "Unknown",
          "Sample": "NA21686"
         },
         {
          "PC1": 3.4982152914902653,
          "PC2": 0.04446079837871876,
          "Population_code": "Unknown",
          "Sample": "NA21689"
         },
         {
          "PC1": 2.5753921863005336,
          "PC2": 0.13304712760690574,
          "Population_code": "Unknown",
          "Sample": "NA21693"
         },
         {
          "PC1": 2.2189525224100484,
          "PC2": 0.40438906324859925,
          "Population_code": "Unknown",
          "Sample": "NA21716"
         },
         {
          "PC1": 2.8307691548709752,
          "PC2": -0.09586828435023637,
          "Population_code": "Unknown",
          "Sample": "NA21717"
         },
         {
          "PC1": 1.512469081128808,
          "PC2": 0.17435986626507094,
          "Population_code": "Unknown",
          "Sample": "NA21718"
         },
         {
          "PC1": 3.5549452446791943,
          "PC2": 1.4664903796907816,
          "Population_code": "Unknown",
          "Sample": "NA21719"
         },
         {
          "PC1": 2.041634771096049,
          "PC2": -0.6862698844070624,
          "Population_code": "Unknown",
          "Sample": "NA21722"
         },
         {
          "PC1": 1.6386165514487199,
          "PC2": 0.5407922713463957,
          "Population_code": "Unknown",
          "Sample": "NA21723"
         },
         {
          "PC1": 2.5571548834684843,
          "PC2": 0.31124348634370586,
          "Population_code": "Unknown",
          "Sample": "NA21733"
         },
         {
          "PC1": 1.7495277946506715,
          "PC2": -0.23337652988135266,
          "Population_code": "Unknown",
          "Sample": "NA21738"
         },
         {
          "PC1": 2.425425869574056,
          "PC2": -0.16377413926098092,
          "Population_code": "Unknown",
          "Sample": "NA21739"
         },
         {
          "PC1": 3.61710665453887,
          "PC2": -0.42254836212912017,
          "Population_code": "Unknown",
          "Sample": "NA21740"
         },
         {
          "PC1": 2.4203911589159017,
          "PC2": -0.3266939767095258,
          "Population_code": "Unknown",
          "Sample": "NA21741"
         },
         {
          "PC1": 2.7580132351942863,
          "PC2": -0.13980742789466305,
          "Population_code": "Unknown",
          "Sample": "NA21768"
         },
         {
          "PC1": 2.925040367315262,
          "PC2": 0.28913909447733144,
          "Population_code": "Unknown",
          "Sample": "NA21776"
         },
         {
          "PC1": 1.8404813872830499,
          "PC2": -0.22898972438021573,
          "Population_code": "Unknown",
          "Sample": "NA21784"
         },
         {
          "PC1": 2.1975919101281107,
          "PC2": 1.989601493715226,
          "Population_code": "Unknown",
          "Sample": "NA21825"
         },
         {
          "PC1": 3.6490087028016833,
          "PC2": -0.43525530882029617,
          "Population_code": "Unknown",
          "Sample": "NA21826"
         }
        ]
       },
       "encoding": {
        "color": {
         "field": "Population_code",
         "type": "nominal"
        },
        "x": {
         "field": "PC1",
         "type": "quantitative"
        },
        "y": {
         "field": "PC2",
         "type": "quantitative"
        }
       },
       "mark": "point"
      },
      "text/plain": [
       "<VegaLite 4 object>\n",
       "\n",
       "If you see this message, it means the renderer has not been properly enabled\n",
       "for the frontend that you are using. For more information, see\n",
       "https://altair-viz.github.io/user_guide/troubleshooting.html\n"
      ]
     },
     "execution_count": 55,
     "metadata": {},
     "output_type": "execute_result"
    }
   ],
   "source": [
    "alt.renderers.enable('mimetype')\n",
    "alt.Chart(label_plot_df).mark_point().encode(\n",
    "    x = 'PC1',\n",
    "    y = 'PC2',\n",
    "    color = 'Population_code'\n",
    ")"
   ]
  },
  {
   "cell_type": "markdown",
   "metadata": {},
   "source": [
    "Above, we can see that individuals of European ancestry are in the right cluster, individuals with Chinese and Japanese are in the left cluster, and individuals with African ancestry clustered in the middle. \n",
    "\n",
    "The observation aligns with the knowledge that genetic changes within a population occurred when humans began to migrate out of Africa and experienced environmental (and other) selective factors. It would make sense that the European and Asian clusters are further away from each other than from the African cluster.\n",
    "\n",
    "There are many unlabeled individuals in the plot, let's remove them and look at the clusters without them."
   ]
  },
  {
   "cell_type": "code",
   "execution_count": 54,
   "metadata": {},
   "outputs": [
    {
     "data": {
      "application/vnd.vegalite.v4+json": {
       "$schema": "https://vega.github.io/schema/vega-lite/v4.17.0.json",
       "config": {
        "view": {
         "continuousHeight": 300,
         "continuousWidth": 400
        }
       },
       "data": {
        "name": "data-6fc3a1de5eeb91994117ddd21be3ec32"
       },
       "datasets": {
        "data-6fc3a1de5eeb91994117ddd21be3ec32": [
         {
          "PC1": -1.5923622390361207,
          "PC2": -2.465588401929987,
          "Population_code": "European (CEU)",
          "Sample": "NA06985"
         },
         {
          "PC1": -2.3213854574018615,
          "PC2": -2.7248371617764,
          "Population_code": "European (CEU)",
          "Sample": "NA06991"
         },
         {
          "PC1": -2.7963657691578097,
          "PC2": -3.857090603152206,
          "Population_code": "European (CEU)",
          "Sample": "NA06993"
         },
         {
          "PC1": -2.9300666236169124,
          "PC2": -4.114104431067263,
          "Population_code": "European (CEU)",
          "Sample": "NA06994"
         },
         {
          "PC1": -1.4382495947575913,
          "PC2": -3.086684571289969,
          "Population_code": "European (CEU)",
          "Sample": "NA07000"
         },
         {
          "PC1": -2.5631062544432446,
          "PC2": -3.6182878833227368,
          "Population_code": "European (CEU)",
          "Sample": "NA07022"
         },
         {
          "PC1": -2.723921814706496,
          "PC2": -3.1803402217909875,
          "Population_code": "European (CEU)",
          "Sample": "NA07029"
         },
         {
          "PC1": -1.8923449981782414,
          "PC2": -3.1056934086610903,
          "Population_code": "European (CEU)",
          "Sample": "NA07055"
         },
         {
          "PC1": -1.4711688195849242,
          "PC2": -3.1764597176255926,
          "Population_code": "European (CEU)",
          "Sample": "NA07056"
         },
         {
          "PC1": -2.69035649114028,
          "PC2": -2.033471510403171,
          "Population_code": "European (CEU)",
          "Sample": "NA07345"
         },
         {
          "PC1": -2.6970768234235356,
          "PC2": -4.3650343220196905,
          "Population_code": "European (CEU)",
          "Sample": "NA07348"
         },
         {
          "PC1": -1.9184982757194886,
          "PC2": -3.8780811988110817,
          "Population_code": "European (CEU)",
          "Sample": "NA07357"
         },
         {
          "PC1": -1.067412164163763,
          "PC2": -3.8607665736938412,
          "Population_code": "European (CEU)",
          "Sample": "NA10830"
         },
         {
          "PC1": -2.0203908063182467,
          "PC2": -3.903989040011217,
          "Population_code": "European (CEU)",
          "Sample": "NA10831"
         },
         {
          "PC1": -2.04787736896146,
          "PC2": -3.2535951632262146,
          "Population_code": "European (CEU)",
          "Sample": "NA10835"
         },
         {
          "PC1": -1.3556111842502645,
          "PC2": -2.6139603356680023,
          "Population_code": "European (CEU)",
          "Sample": "NA10838"
         },
         {
          "PC1": -3.487263355183949,
          "PC2": -3.826529567707134,
          "Population_code": "European (CEU)",
          "Sample": "NA10839"
         },
         {
          "PC1": -2.395326705907613,
          "PC2": -3.9366986887507243,
          "Population_code": "European (CEU)",
          "Sample": "NA10846"
         },
         {
          "PC1": -1.971708449558242,
          "PC2": -2.3468060006250133,
          "Population_code": "European (CEU)",
          "Sample": "NA10847"
         },
         {
          "PC1": -1.2495040517475697,
          "PC2": -3.827566024932455,
          "Population_code": "European (CEU)",
          "Sample": "NA10854"
         },
         {
          "PC1": -1.4672087287987399,
          "PC2": -3.860942391160286,
          "Population_code": "European (CEU)",
          "Sample": "NA10855"
         },
         {
          "PC1": -1.8947104683566627,
          "PC2": -2.82817928782289,
          "Population_code": "European (CEU)",
          "Sample": "NA10856"
         },
         {
          "PC1": -2.2750623228454634,
          "PC2": -3.5689629621148558,
          "Population_code": "European (CEU)",
          "Sample": "NA10859"
         },
         {
          "PC1": -1.5542227003128197,
          "PC2": -1.826922672602637,
          "Population_code": "European (CEU)",
          "Sample": "NA10861"
         },
         {
          "PC1": -2.6035961799854954,
          "PC2": -3.696135731166123,
          "Population_code": "European (CEU)",
          "Sample": "NA10863"
         },
         {
          "PC1": -0.7798645389371709,
          "PC2": -3.336122751303675,
          "Population_code": "European (CEU)",
          "Sample": "NA11829"
         },
         {
          "PC1": -2.1453080898566097,
          "PC2": -3.464306037695018,
          "Population_code": "European (CEU)",
          "Sample": "NA11830"
         },
         {
          "PC1": -1.635087567342679,
          "PC2": -4.3318567601711315,
          "Population_code": "European (CEU)",
          "Sample": "NA11831"
         },
         {
          "PC1": -1.9861811996235716,
          "PC2": -3.060136625345319,
          "Population_code": "European (CEU)",
          "Sample": "NA11832"
         },
         {
          "PC1": -0.4284936482734333,
          "PC2": -3.4948325801304723,
          "Population_code": "European (CEU)",
          "Sample": "NA11839"
         },
         {
          "PC1": -1.5240700221968793,
          "PC2": -2.814004290974498,
          "Population_code": "European (CEU)",
          "Sample": "NA11840"
         },
         {
          "PC1": -1.8024922365330343,
          "PC2": -3.723897682057341,
          "Population_code": "European (CEU)",
          "Sample": "NA11881"
         },
         {
          "PC1": -1.9813668337113843,
          "PC2": -2.990456595922742,
          "Population_code": "European (CEU)",
          "Sample": "NA11882"
         },
         {
          "PC1": -1.6511645316961274,
          "PC2": -2.700246533827278,
          "Population_code": "European (CEU)",
          "Sample": "NA11992"
         },
         {
          "PC1": -0.7428986252183427,
          "PC2": -4.186345127494862,
          "Population_code": "European (CEU)",
          "Sample": "NA11993"
         },
         {
          "PC1": -2.1050958670369107,
          "PC2": -3.250841886519547,
          "Population_code": "European (CEU)",
          "Sample": "NA11994"
         },
         {
          "PC1": -0.10315040608913038,
          "PC2": -1.863906619218166,
          "Population_code": "European (CEU)",
          "Sample": "NA11995"
         },
         {
          "PC1": -1.3041547145983894,
          "PC2": -2.9478473488255723,
          "Population_code": "European (CEU)",
          "Sample": "NA12003"
         },
         {
          "PC1": -3.0005685692816106,
          "PC2": -3.234754175339465,
          "Population_code": "European (CEU)",
          "Sample": "NA12005"
         },
         {
          "PC1": -2.8444297091488497,
          "PC2": -4.1243879248613835,
          "Population_code": "European (CEU)",
          "Sample": "NA12006"
         },
         {
          "PC1": -2.141116319301364,
          "PC2": -2.7704795076868187,
          "Population_code": "European (CEU)",
          "Sample": "NA12043"
         },
         {
          "PC1": -1.878676843695405,
          "PC2": -3.307734802854122,
          "Population_code": "European (CEU)",
          "Sample": "NA12044"
         },
         {
          "PC1": -1.7219852726582718,
          "PC2": -2.3627503710488034,
          "Population_code": "European (CEU)",
          "Sample": "NA12056"
         },
         {
          "PC1": -1.9384890267801707,
          "PC2": -2.7592092558124555,
          "Population_code": "European (CEU)",
          "Sample": "NA12057"
         },
         {
          "PC1": -2.1260281278529107,
          "PC2": -3.9455090450563772,
          "Population_code": "European (CEU)",
          "Sample": "NA12144"
         },
         {
          "PC1": -1.5927807041018154,
          "PC2": -3.2642623107374846,
          "Population_code": "European (CEU)",
          "Sample": "NA12145"
         },
         {
          "PC1": -2.2879741764483628,
          "PC2": -3.5665158657419758,
          "Population_code": "European (CEU)",
          "Sample": "NA12146"
         },
         {
          "PC1": -1.8827177144513247,
          "PC2": -3.1739692095591328,
          "Population_code": "European (CEU)",
          "Sample": "NA12154"
         },
         {
          "PC1": -2.438399801391144,
          "PC2": -2.8814746027305445,
          "Population_code": "European (CEU)",
          "Sample": "NA12155"
         },
         {
          "PC1": -0.7961525372038889,
          "PC2": -3.8360455862197127,
          "Population_code": "European (CEU)",
          "Sample": "NA12156"
         },
         {
          "PC1": -2.220283162196063,
          "PC2": -3.5732679725095338,
          "Population_code": "European (CEU)",
          "Sample": "NA12234"
         },
         {
          "PC1": -1.7271221143280568,
          "PC2": -1.9104213875727662,
          "Population_code": "European (CEU)",
          "Sample": "NA12239"
         },
         {
          "PC1": -2.53854185856159,
          "PC2": -3.45242796240088,
          "Population_code": "European (CEU)",
          "Sample": "NA12248"
         },
         {
          "PC1": -1.561132186693766,
          "PC2": -2.251303511353317,
          "Population_code": "European (CEU)",
          "Sample": "NA12249"
         },
         {
          "PC1": -2.0555088373045596,
          "PC2": -2.6177773595082385,
          "Population_code": "European (CEU)",
          "Sample": "NA12264"
         },
         {
          "PC1": -1.863130552196548,
          "PC2": -4.50693660267163,
          "Population_code": "European (CEU)",
          "Sample": "NA12707"
         },
         {
          "PC1": -2.548288127369659,
          "PC2": -3.253890129530049,
          "Population_code": "European (CEU)",
          "Sample": "NA12716"
         },
         {
          "PC1": -2.415477536235374,
          "PC2": -2.572737998155166,
          "Population_code": "European (CEU)",
          "Sample": "NA12740"
         },
         {
          "PC1": -2.653235369919229,
          "PC2": -2.7721420644624377,
          "Population_code": "European (CEU)",
          "Sample": "NA12750"
         },
         {
          "PC1": -1.735794417445795,
          "PC2": -2.888701955646664,
          "Population_code": "European (CEU)",
          "Sample": "NA12751"
         },
         {
          "PC1": -2.115732622621502,
          "PC2": -2.5968994784679458,
          "Population_code": "European (CEU)",
          "Sample": "NA12752"
         },
         {
          "PC1": -1.3302288509287705,
          "PC2": -1.7009737572057706,
          "Population_code": "European (CEU)",
          "Sample": "NA12753"
         },
         {
          "PC1": -1.8493073805032523,
          "PC2": -3.0681648841459093,
          "Population_code": "European (CEU)",
          "Sample": "NA12760"
         },
         {
          "PC1": -1.9534284046332928,
          "PC2": -3.0066139324124563,
          "Population_code": "European (CEU)",
          "Sample": "NA12761"
         },
         {
          "PC1": -1.3031347361714354,
          "PC2": -1.9362384070596947,
          "Population_code": "European (CEU)",
          "Sample": "NA12762"
         },
         {
          "PC1": -2.139208602532006,
          "PC2": -1.899048715844985,
          "Population_code": "European (CEU)",
          "Sample": "NA12763"
         },
         {
          "PC1": -2.8260702516502643,
          "PC2": -3.0614799538935844,
          "Population_code": "European (CEU)",
          "Sample": "NA12801"
         },
         {
          "PC1": -2.210272779143896,
          "PC2": -3.3220916153095215,
          "Population_code": "European (CEU)",
          "Sample": "NA12802"
         },
         {
          "PC1": -2.2585487064449286,
          "PC2": -2.239280615719911,
          "Population_code": "European (CEU)",
          "Sample": "NA12812"
         },
         {
          "PC1": -2.7729807609341353,
          "PC2": -3.057329767933884,
          "Population_code": "European (CEU)",
          "Sample": "NA12813"
         },
         {
          "PC1": -2.861248687400448,
          "PC2": -3.444195103203125,
          "Population_code": "European (CEU)",
          "Sample": "NA12814"
         },
         {
          "PC1": -2.117705422218127,
          "PC2": -2.0598015844429334,
          "Population_code": "European (CEU)",
          "Sample": "NA12815"
         },
         {
          "PC1": -2.727632389932892,
          "PC2": -3.4380063175748172,
          "Population_code": "European (CEU)",
          "Sample": "NA12864"
         },
         {
          "PC1": -2.8558178710090143,
          "PC2": -2.3361958237766784,
          "Population_code": "European (CEU)",
          "Sample": "NA12865"
         },
         {
          "PC1": -2.0579723121685656,
          "PC2": -2.871358807515807,
          "Population_code": "European (CEU)",
          "Sample": "NA12872"
         },
         {
          "PC1": -2.012331401423529,
          "PC2": -3.2505649567888577,
          "Population_code": "European (CEU)",
          "Sample": "NA12873"
         },
         {
          "PC1": -2.5859033130554914,
          "PC2": -2.7751638832969365,
          "Population_code": "European (CEU)",
          "Sample": "NA12874"
         },
         {
          "PC1": -1.1574812899390075,
          "PC2": -2.7256339758211636,
          "Population_code": "European (CEU)",
          "Sample": "NA12875"
         },
         {
          "PC1": -1.828054990375807,
          "PC2": -3.8054336709885845,
          "Population_code": "European (CEU)",
          "Sample": "NA12878"
         },
         {
          "PC1": -2.497229625173553,
          "PC2": -3.4647868239050297,
          "Population_code": "European (CEU)",
          "Sample": "NA12891"
         },
         {
          "PC1": -1.2645033406067814,
          "PC2": -1.8376665521865874,
          "Population_code": "European (CEU)",
          "Sample": "NA12892"
         },
         {
          "PC1": 4.937450003777213,
          "PC2": 0.987433392114003,
          "Population_code": "African (YRI)",
          "Sample": "NA18500"
         },
         {
          "PC1": 4.66853167629063,
          "PC2": 0.7235480509557581,
          "Population_code": "African (YRI)",
          "Sample": "NA18501"
         },
         {
          "PC1": 4.929117693555074,
          "PC2": 1.5673492484179572,
          "Population_code": "African (YRI)",
          "Sample": "NA18503"
         },
         {
          "PC1": 4.811777027619943,
          "PC2": 0.8080486589350444,
          "Population_code": "African (YRI)",
          "Sample": "NA18504"
         },
         {
          "PC1": 4.168029693396353,
          "PC2": 1.2735067089282432,
          "Population_code": "African (YRI)",
          "Sample": "NA18505"
         },
         {
          "PC1": 4.581599079618166,
          "PC2": 1.481190169721729,
          "Population_code": "African (YRI)",
          "Sample": "NA18506"
         },
         {
          "PC1": 4.455005751072401,
          "PC2": 0.7401631236541315,
          "Population_code": "African (YRI)",
          "Sample": "NA18507"
         },
         {
          "PC1": 4.279496833984861,
          "PC2": 1.125074502386143,
          "Population_code": "African (YRI)",
          "Sample": "NA18508"
         },
         {
          "PC1": 4.609864676002639,
          "PC2": 0.9747270726685046,
          "Population_code": "African (YRI)",
          "Sample": "NA18515"
         },
         {
          "PC1": 5.198543506001217,
          "PC2": 0.5820013675872285,
          "Population_code": "African (YRI)",
          "Sample": "NA18516"
         },
         {
          "PC1": 5.078732766773069,
          "PC2": 1.6830153271332056,
          "Population_code": "African (YRI)",
          "Sample": "NA18517"
         },
         {
          "PC1": -3.3037044273729963,
          "PC2": 2.7180222472069744,
          "Population_code": "Chinese (CHB)",
          "Sample": "NA18524"
         },
         {
          "PC1": -4.452207013613581,
          "PC2": 3.5016712418724865,
          "Population_code": "Chinese (CHB)",
          "Sample": "NA18526"
         },
         {
          "PC1": -3.003624628149232,
          "PC2": 2.8124687134657425,
          "Population_code": "Chinese (CHB)",
          "Sample": "NA18529"
         },
         {
          "PC1": -4.106010987935999,
          "PC2": 3.260516293096136,
          "Population_code": "Chinese (CHB)",
          "Sample": "NA18532"
         },
         {
          "PC1": -3.279210818915951,
          "PC2": 3.1504552836519903,
          "Population_code": "Chinese (CHB)",
          "Sample": "NA18537"
         },
         {
          "PC1": -3.867050930734391,
          "PC2": 3.2834521903746627,
          "Population_code": "Chinese (CHB)",
          "Sample": "NA18542"
         },
         {
          "PC1": -3.0813262593510604,
          "PC2": 3.4400011402723036,
          "Population_code": "Chinese (CHB)",
          "Sample": "NA18545"
         },
         {
          "PC1": -3.2106296554022813,
          "PC2": 1.8986113014934867,
          "Population_code": "Chinese (CHB)",
          "Sample": "NA18550"
         },
         {
          "PC1": -4.21232470536318,
          "PC2": 3.4718705987412335,
          "Population_code": "Chinese (CHB)",
          "Sample": "NA18552"
         },
         {
          "PC1": -3.6682679622524406,
          "PC2": 3.2822528861077727,
          "Population_code": "Chinese (CHB)",
          "Sample": "NA18555"
         },
         {
          "PC1": -3.970941939604204,
          "PC2": 2.6764952199869563,
          "Population_code": "Chinese (CHB)",
          "Sample": "NA18558"
         },
         {
          "PC1": -3.950928388867915,
          "PC2": 3.312775513613646,
          "Population_code": "Chinese (CHB)",
          "Sample": "NA18561"
         },
         {
          "PC1": -2.9010353115232643,
          "PC2": 3.3163325129953094,
          "Population_code": "Chinese (CHB)",
          "Sample": "NA18562"
         },
         {
          "PC1": -3.093343439366407,
          "PC2": 3.3751983633335425,
          "Population_code": "Chinese (CHB)",
          "Sample": "NA18563"
         },
         {
          "PC1": -4.062272738091517,
          "PC2": 2.0027359573784853,
          "Population_code": "Chinese (CHB)",
          "Sample": "NA18564"
         },
         {
          "PC1": -4.376692309005723,
          "PC2": 4.240145521339648,
          "Population_code": "Chinese (CHB)",
          "Sample": "NA18566"
         },
         {
          "PC1": -3.2519137255534676,
          "PC2": 3.59509217003673,
          "Population_code": "Chinese (CHB)",
          "Sample": "NA18570"
         },
         {
          "PC1": -3.777456000932658,
          "PC2": 2.5321238006539124,
          "Population_code": "Chinese (CHB)",
          "Sample": "NA18571"
         },
         {
          "PC1": -3.194078486986284,
          "PC2": 4.657298222947262,
          "Population_code": "Chinese (CHB)",
          "Sample": "NA18572"
         },
         {
          "PC1": -3.3258953439558234,
          "PC2": 2.474939193604201,
          "Population_code": "Chinese (CHB)",
          "Sample": "NA18573"
         },
         {
          "PC1": -3.1961082979199826,
          "PC2": 2.08670877723226,
          "Population_code": "Chinese (CHB)",
          "Sample": "NA18576"
         },
         {
          "PC1": -3.1905723912206563,
          "PC2": 2.068454999940734,
          "Population_code": "Chinese (CHB)",
          "Sample": "NA18577"
         },
         {
          "PC1": -4.224859011054852,
          "PC2": 2.750053991500214,
          "Population_code": "Chinese (CHB)",
          "Sample": "NA18579"
         },
         {
          "PC1": -3.3905934055814035,
          "PC2": 2.4720480577449377,
          "Population_code": "Chinese (CHB)",
          "Sample": "NA18582"
         },
         {
          "PC1": -2.6882145644153255,
          "PC2": 3.2227019778845665,
          "Population_code": "Chinese (CHB)",
          "Sample": "NA18592"
         },
         {
          "PC1": -3.8720094503383677,
          "PC2": 2.8929641985350023,
          "Population_code": "Chinese (CHB)",
          "Sample": "NA18593"
         },
         {
          "PC1": -3.6009780512034277,
          "PC2": 2.6638247300330105,
          "Population_code": "Chinese (CHB)",
          "Sample": "NA18594"
         },
         {
          "PC1": -3.8323242438723346,
          "PC2": 4.101108533598736,
          "Population_code": "Chinese (CHB)",
          "Sample": "NA18603"
         },
         {
          "PC1": -2.660384605135491,
          "PC2": 2.2273620962848453,
          "Population_code": "Chinese (CHB)",
          "Sample": "NA18605"
         },
         {
          "PC1": -4.265882518051179,
          "PC2": 2.787027633363506,
          "Population_code": "Chinese (CHB)",
          "Sample": "NA18608"
         },
         {
          "PC1": -4.701287188451567,
          "PC2": 1.3122576489961582,
          "Population_code": "Chinese (CHB)",
          "Sample": "NA18609"
         },
         {
          "PC1": -2.365920383694329,
          "PC2": 1.769443270136208,
          "Population_code": "Chinese (CHB)",
          "Sample": "NA18611"
         },
         {
          "PC1": -3.0887223599276075,
          "PC2": 2.678382781110134,
          "Population_code": "Chinese (CHB)",
          "Sample": "NA18612"
         },
         {
          "PC1": -4.211362405498298,
          "PC2": 3.461716016443148,
          "Population_code": "Chinese (CHB)",
          "Sample": "NA18620"
         },
         {
          "PC1": -3.7503047693351803,
          "PC2": 2.8619106958386005,
          "Population_code": "Chinese (CHB)",
          "Sample": "NA18621"
         },
         {
          "PC1": -3.830953564978763,
          "PC2": 2.2631801301298435,
          "Population_code": "Chinese (CHB)",
          "Sample": "NA18622"
         },
         {
          "PC1": -4.891061429715378,
          "PC2": 4.031645493769295,
          "Population_code": "Chinese (CHB)",
          "Sample": "NA18623"
         },
         {
          "PC1": -3.9665232833016786,
          "PC2": 2.7583048107363126,
          "Population_code": "Chinese (CHB)",
          "Sample": "NA18624"
         },
         {
          "PC1": -2.9650659394874275,
          "PC2": 4.0967567972241,
          "Population_code": "Chinese (CHB)",
          "Sample": "NA18632"
         },
         {
          "PC1": -3.970968870482719,
          "PC2": 3.773877719148743,
          "Population_code": "Chinese (CHB)",
          "Sample": "NA18633"
         },
         {
          "PC1": -3.4992565770458284,
          "PC2": 2.8318930875835275,
          "Population_code": "Chinese (CHB)",
          "Sample": "NA18635"
         },
         {
          "PC1": -4.0375332105375445,
          "PC2": 3.6193755137659904,
          "Population_code": "Chinese (CHB)",
          "Sample": "NA18636"
         },
         {
          "PC1": -3.1458523719193745,
          "PC2": 2.60754365253385,
          "Population_code": "Chinese (CHB)",
          "Sample": "NA18637"
         },
         {
          "PC1": 5.200726504166303,
          "PC2": 0.4455806177367313,
          "Population_code": "African (YRI)",
          "Sample": "NA18852"
         },
         {
          "PC1": 4.397869967183331,
          "PC2": 1.081125224311115,
          "Population_code": "African (YRI)",
          "Sample": "NA18853"
         },
         {
          "PC1": 5.730984528289105,
          "PC2": 1.5979888106506648,
          "Population_code": "African (YRI)",
          "Sample": "NA18854"
         },
         {
          "PC1": 3.351909205085044,
          "PC2": 1.1558333739607392,
          "Population_code": "African (YRI)",
          "Sample": "NA18855"
         },
         {
          "PC1": 3.281352545215281,
          "PC2": 1.6342319438120294,
          "Population_code": "African (YRI)",
          "Sample": "NA18857"
         },
         {
          "PC1": 4.794624604093617,
          "PC2": 0.6481931848343512,
          "Population_code": "African (YRI)",
          "Sample": "NA18858"
         },
         {
          "PC1": 5.230727444849319,
          "PC2": 1.9726105790711046,
          "Population_code": "African (YRI)",
          "Sample": "NA18859"
         },
         {
          "PC1": 4.625443315467418,
          "PC2": 1.6985896352138017,
          "Population_code": "African (YRI)",
          "Sample": "NA18860"
         },
         {
          "PC1": 3.8516458086443714,
          "PC2": -0.5895077522613519,
          "Population_code": "African (YRI)",
          "Sample": "NA18861"
         },
         {
          "PC1": 4.2039198340350135,
          "PC2": 0.9187802077943042,
          "Population_code": "African (YRI)",
          "Sample": "NA18862"
         },
         {
          "PC1": 4.414337067069391,
          "PC2": 0.1351508285557043,
          "Population_code": "African (YRI)",
          "Sample": "NA18863"
         },
         {
          "PC1": 3.848683449550123,
          "PC2": 0.2801672472457425,
          "Population_code": "African (YRI)",
          "Sample": "NA18870"
         },
         {
          "PC1": 5.086796103610283,
          "PC2": 0.7757167482347571,
          "Population_code": "African (YRI)",
          "Sample": "NA18871"
         },
         {
          "PC1": 4.71483694793929,
          "PC2": 1.462500754428764,
          "Population_code": "African (YRI)",
          "Sample": "NA18872"
         },
         {
          "PC1": 3.877480008328172,
          "PC2": -0.6651544024144113,
          "Population_code": "African (YRI)",
          "Sample": "NA18912"
         },
         {
          "PC1": 3.467180219260784,
          "PC2": 1.2054148206166275,
          "Population_code": "African (YRI)",
          "Sample": "NA18913"
         },
         {
          "PC1": 3.571924121972565,
          "PC2": 0.770903050383257,
          "Population_code": "African (YRI)",
          "Sample": "NA18914"
         },
         {
          "PC1": -2.9653059387664373,
          "PC2": 3.2743529456395355,
          "Population_code": "Japanese (JPT)",
          "Sample": "NA18940"
         },
         {
          "PC1": -3.462283693691664,
          "PC2": 3.5405037011915623,
          "Population_code": "Japanese (JPT)",
          "Sample": "NA18942"
         },
         {
          "PC1": -2.9508899568509834,
          "PC2": 2.834850106866922,
          "Population_code": "Japanese (JPT)",
          "Sample": "NA18943"
         },
         {
          "PC1": -2.9884662963602846,
          "PC2": 3.211227460096559,
          "Population_code": "Japanese (JPT)",
          "Sample": "NA18944"
         },
         {
          "PC1": -3.1975553983366316,
          "PC2": 3.7320703407331766,
          "Population_code": "Japanese (JPT)",
          "Sample": "NA18945"
         },
         {
          "PC1": -2.9872151365098976,
          "PC2": 3.103211031748662,
          "Population_code": "Japanese (JPT)",
          "Sample": "NA18947"
         },
         {
          "PC1": -2.7771949985064746,
          "PC2": 2.9219225939980626,
          "Population_code": "Japanese (JPT)",
          "Sample": "NA18948"
         },
         {
          "PC1": -3.698462842590306,
          "PC2": 2.981946510383115,
          "Population_code": "Japanese (JPT)",
          "Sample": "NA18949"
         },
         {
          "PC1": -3.0294525193157016,
          "PC2": 2.204762519952841,
          "Population_code": "Japanese (JPT)",
          "Sample": "NA18951"
         },
         {
          "PC1": -4.112270156400346,
          "PC2": 3.8459371276379652,
          "Population_code": "Japanese (JPT)",
          "Sample": "NA18952"
         },
         {
          "PC1": -4.520058748857801,
          "PC2": 4.891355537610572,
          "Population_code": "Japanese (JPT)",
          "Sample": "NA18953"
         },
         {
          "PC1": -3.962319309740509,
          "PC2": 3.676475417533415,
          "Population_code": "Japanese (JPT)",
          "Sample": "NA18956"
         },
         {
          "PC1": -2.6022363556631536,
          "PC2": 2.8780229669032016,
          "Population_code": "Japanese (JPT)",
          "Sample": "NA18959"
         },
         {
          "PC1": -3.745614935770211,
          "PC2": 2.0936103749858446,
          "Population_code": "Japanese (JPT)",
          "Sample": "NA18960"
         },
         {
          "PC1": -4.351235335666081,
          "PC2": 3.544943035315333,
          "Population_code": "Japanese (JPT)",
          "Sample": "NA18961"
         },
         {
          "PC1": -3.1465183021367262,
          "PC2": 2.6151729994351403,
          "Population_code": "Japanese (JPT)",
          "Sample": "NA18964"
         },
         {
          "PC1": -3.2087401869340106,
          "PC2": 3.5196183192278574,
          "Population_code": "Japanese (JPT)",
          "Sample": "NA18965"
         },
         {
          "PC1": -4.377330051406381,
          "PC2": 1.6647309220862114,
          "Population_code": "Japanese (JPT)",
          "Sample": "NA18966"
         },
         {
          "PC1": -3.848807879534492,
          "PC2": 2.1862007527917355,
          "Population_code": "Japanese (JPT)",
          "Sample": "NA18967"
         },
         {
          "PC1": -3.02278060058819,
          "PC2": 3.1121808502625514,
          "Population_code": "Japanese (JPT)",
          "Sample": "NA18968"
         },
         {
          "PC1": -4.1512005820624145,
          "PC2": 2.2015297502899465,
          "Population_code": "Japanese (JPT)",
          "Sample": "NA18969"
         },
         {
          "PC1": -3.2822465125779243,
          "PC2": 2.895740963566674,
          "Population_code": "Japanese (JPT)",
          "Sample": "NA18970"
         },
         {
          "PC1": -4.022942591082235,
          "PC2": 3.384311211063821,
          "Population_code": "Japanese (JPT)",
          "Sample": "NA18971"
         },
         {
          "PC1": -2.979628785949654,
          "PC2": 3.627043165189177,
          "Population_code": "Japanese (JPT)",
          "Sample": "NA18972"
         },
         {
          "PC1": -2.799313545465679,
          "PC2": 3.5102921122042603,
          "Population_code": "Japanese (JPT)",
          "Sample": "NA18973"
         },
         {
          "PC1": -3.8706060566436205,
          "PC2": 3.5292250681597745,
          "Population_code": "Japanese (JPT)",
          "Sample": "NA18974"
         },
         {
          "PC1": -3.281383314321254,
          "PC2": 3.8933681375026503,
          "Population_code": "Japanese (JPT)",
          "Sample": "NA18975"
         },
         {
          "PC1": -4.125931691429095,
          "PC2": 4.112698673419557,
          "Population_code": "Japanese (JPT)",
          "Sample": "NA18976"
         },
         {
          "PC1": -2.9870766787857743,
          "PC2": 4.251071527726546,
          "Population_code": "Japanese (JPT)",
          "Sample": "NA18978"
         },
         {
          "PC1": -2.7488766529436837,
          "PC2": 3.4209931293920777,
          "Population_code": "Japanese (JPT)",
          "Sample": "NA18980"
         },
         {
          "PC1": -3.1059275772058754,
          "PC2": 3.3283363270976274,
          "Population_code": "Japanese (JPT)",
          "Sample": "NA18981"
         },
         {
          "PC1": -3.214769433724391,
          "PC2": 2.8550223094409724,
          "Population_code": "Japanese (JPT)",
          "Sample": "NA18987"
         },
         {
          "PC1": -3.4211208681875918,
          "PC2": 4.38597460012782,
          "Population_code": "Japanese (JPT)",
          "Sample": "NA18990"
         },
         {
          "PC1": -2.383104202739371,
          "PC2": 3.315101214842298,
          "Population_code": "Japanese (JPT)",
          "Sample": "NA18991"
         },
         {
          "PC1": -2.5391915715736904,
          "PC2": 3.113016878596822,
          "Population_code": "Japanese (JPT)",
          "Sample": "NA18994"
         },
         {
          "PC1": -3.7754342536406833,
          "PC2": 3.4227008561947465,
          "Population_code": "Japanese (JPT)",
          "Sample": "NA18995"
         },
         {
          "PC1": -3.1707081668464836,
          "PC2": 2.194051505120437,
          "Population_code": "Japanese (JPT)",
          "Sample": "NA18997"
         },
         {
          "PC1": -4.362567642253337,
          "PC2": 3.129190466813406,
          "Population_code": "Japanese (JPT)",
          "Sample": "NA18998"
         },
         {
          "PC1": -3.9137059048531526,
          "PC2": 2.9472646441495063,
          "Population_code": "Japanese (JPT)",
          "Sample": "NA18999"
         },
         {
          "PC1": -3.8642918575441003,
          "PC2": 4.210002789680438,
          "Population_code": "Japanese (JPT)",
          "Sample": "NA19000"
         },
         {
          "PC1": -3.3299555810980666,
          "PC2": 2.5349990094310635,
          "Population_code": "Japanese (JPT)",
          "Sample": "NA19005"
         },
         {
          "PC1": -2.4482811692712807,
          "PC2": 2.7251831053709896,
          "Population_code": "Japanese (JPT)",
          "Sample": "NA19007"
         },
         {
          "PC1": 3.832557757352605,
          "PC2": 0.6253427082813134,
          "Population_code": "African (YRI)",
          "Sample": "NA19093"
         },
         {
          "PC1": 3.5778560919609426,
          "PC2": 1.5785302294005268,
          "Population_code": "African (YRI)",
          "Sample": "NA19094"
         },
         {
          "PC1": 3.6627317351252238,
          "PC2": 1.5974876133626408,
          "Population_code": "African (YRI)",
          "Sample": "NA19098"
         },
         {
          "PC1": 4.213589508555156,
          "PC2": 1.79829538393128,
          "Population_code": "African (YRI)",
          "Sample": "NA19099"
         },
         {
          "PC1": 4.4193841142130665,
          "PC2": 0.6798725569267294,
          "Population_code": "African (YRI)",
          "Sample": "NA19101"
         },
         {
          "PC1": 5.28350899446844,
          "PC2": 0.8550318221372081,
          "Population_code": "African (YRI)",
          "Sample": "NA19102"
         },
         {
          "PC1": 4.3762930232024795,
          "PC2": 0.3586532963597385,
          "Population_code": "African (YRI)",
          "Sample": "NA19103"
         },
         {
          "PC1": 5.215095320435653,
          "PC2": 0.6617270678718166,
          "Population_code": "African (YRI)",
          "Sample": "NA19116"
         },
         {
          "PC1": 3.701533786749333,
          "PC2": 1.4667148789222222,
          "Population_code": "African (YRI)",
          "Sample": "NA19119"
         },
         {
          "PC1": 4.603224000852912,
          "PC2": 0.5630682150889783,
          "Population_code": "African (YRI)",
          "Sample": "NA19120"
         },
         {
          "PC1": 5.01818412998001,
          "PC2": 1.1652981992232756,
          "Population_code": "African (YRI)",
          "Sample": "NA19127"
         },
         {
          "PC1": 4.2084412000882505,
          "PC2": 0.9444034801583023,
          "Population_code": "African (YRI)",
          "Sample": "NA19128"
         },
         {
          "PC1": 4.287710266564728,
          "PC2": 0.4439876337787835,
          "Population_code": "African (YRI)",
          "Sample": "NA19129"
         },
         {
          "PC1": 4.959027613380059,
          "PC2": 1.1247046608158227,
          "Population_code": "African (YRI)",
          "Sample": "NA19130"
         },
         {
          "PC1": 3.760770463436383,
          "PC2": 1.3371903804167595,
          "Population_code": "African (YRI)",
          "Sample": "NA19131"
         },
         {
          "PC1": 4.195266265040251,
          "PC2": 0.9027374111904546,
          "Population_code": "African (YRI)",
          "Sample": "NA19132"
         },
         {
          "PC1": 3.875347831590044,
          "PC2": 0.7463716076162674,
          "Population_code": "African (YRI)",
          "Sample": "NA19137"
         },
         {
          "PC1": 4.30419147866436,
          "PC2": 1.5202426210246207,
          "Population_code": "African (YRI)",
          "Sample": "NA19138"
         },
         {
          "PC1": 4.233623412581699,
          "PC2": 0.3742951054101509,
          "Population_code": "African (YRI)",
          "Sample": "NA19139"
         },
         {
          "PC1": 4.29576467790596,
          "PC2": 0.8020930309184691,
          "Population_code": "African (YRI)",
          "Sample": "NA19140"
         },
         {
          "PC1": 4.2981369238043605,
          "PC2": 1.773163276726847,
          "Population_code": "African (YRI)",
          "Sample": "NA19141"
         },
         {
          "PC1": 3.60446525222804,
          "PC2": 1.0761840832475593,
          "Population_code": "African (YRI)",
          "Sample": "NA19142"
         },
         {
          "PC1": 3.887663333607796,
          "PC2": 0.6827685224329978,
          "Population_code": "African (YRI)",
          "Sample": "NA19143"
         },
         {
          "PC1": 3.5513110063553697,
          "PC2": 0.9788722303408544,
          "Population_code": "African (YRI)",
          "Sample": "NA19144"
         },
         {
          "PC1": 3.4995573793760775,
          "PC2": 2.068619372460243,
          "Population_code": "African (YRI)",
          "Sample": "NA19152"
         },
         {
          "PC1": 4.755390261170497,
          "PC2": 0.7994747328056975,
          "Population_code": "African (YRI)",
          "Sample": "NA19153"
         },
         {
          "PC1": 4.35170638516219,
          "PC2": 0.8714126431194036,
          "Population_code": "African (YRI)",
          "Sample": "NA19154"
         },
         {
          "PC1": 4.6122163769560665,
          "PC2": 0.5946612301440034,
          "Population_code": "African (YRI)",
          "Sample": "NA19159"
         },
         {
          "PC1": 3.780263557381869,
          "PC2": 1.0348851956168674,
          "Population_code": "African (YRI)",
          "Sample": "NA19160"
         },
         {
          "PC1": 4.514543160649729,
          "PC2": 0.889051487699036,
          "Population_code": "African (YRI)",
          "Sample": "NA19161"
         },
         {
          "PC1": 4.164508117326702,
          "PC2": 0.36198963774097165,
          "Population_code": "African (YRI)",
          "Sample": "NA19171"
         },
         {
          "PC1": 4.20500245870668,
          "PC2": 0.9882776721178128,
          "Population_code": "African (YRI)",
          "Sample": "NA19172"
         },
         {
          "PC1": 3.7124926326053367,
          "PC2": -0.1606933439731517,
          "Population_code": "African (YRI)",
          "Sample": "NA19173"
         },
         {
          "PC1": 5.3183748335437855,
          "PC2": 1.4341936815512215,
          "Population_code": "African (YRI)",
          "Sample": "NA19192"
         },
         {
          "PC1": 4.743819666658995,
          "PC2": 0.41597213963931784,
          "Population_code": "African (YRI)",
          "Sample": "NA19193"
         },
         {
          "PC1": 4.959085948378108,
          "PC2": 0.9553743814671816,
          "Population_code": "African (YRI)",
          "Sample": "NA19194"
         },
         {
          "PC1": 3.733752014351928,
          "PC2": -0.6054538046348625,
          "Population_code": "African (YRI)",
          "Sample": "NA19200"
         },
         {
          "PC1": 4.919721587210757,
          "PC2": 1.6962490996121313,
          "Population_code": "African (YRI)",
          "Sample": "NA19201"
         },
         {
          "PC1": 4.347807764705315,
          "PC2": 0.4321978819296218,
          "Population_code": "African (YRI)",
          "Sample": "NA19202"
         },
         {
          "PC1": 3.804163999537919,
          "PC2": 0.6229008803261467,
          "Population_code": "African (YRI)",
          "Sample": "NA19203"
         },
         {
          "PC1": 4.241131612193905,
          "PC2": 0.21409390489375923,
          "Population_code": "African (YRI)",
          "Sample": "NA19204"
         },
         {
          "PC1": 5.093569575052309,
          "PC2": 0.9129861265950883,
          "Population_code": "African (YRI)",
          "Sample": "NA19206"
         },
         {
          "PC1": 3.5720421952076498,
          "PC2": 1.0498165881226955,
          "Population_code": "African (YRI)",
          "Sample": "NA19207"
         },
         {
          "PC1": 4.945440726620742,
          "PC2": 0.9650669324359268,
          "Population_code": "African (YRI)",
          "Sample": "NA19208"
         },
         {
          "PC1": 4.040606733475779,
          "PC2": 1.328447295303624,
          "Population_code": "African (YRI)",
          "Sample": "NA19209"
         },
         {
          "PC1": 5.019681248882361,
          "PC2": -0.18674126625131432,
          "Population_code": "African (YRI)",
          "Sample": "NA19210"
         },
         {
          "PC1": 4.098212197306461,
          "PC2": 0.9607339976762015,
          "Population_code": "African (YRI)",
          "Sample": "NA19211"
         },
         {
          "PC1": 4.274833668248742,
          "PC2": 0.46948541683225875,
          "Population_code": "African (YRI)",
          "Sample": "NA19221"
         },
         {
          "PC1": 3.65954367505296,
          "PC2": 0.6442195541158098,
          "Population_code": "African (YRI)",
          "Sample": "NA19222"
         },
         {
          "PC1": 3.4946965209929663,
          "PC2": 1.167749916476346,
          "Population_code": "African (YRI)",
          "Sample": "NA19223"
         },
         {
          "PC1": 4.780856780134974,
          "PC2": 1.4568523064403405,
          "Population_code": "African (YRI)",
          "Sample": "NA19238"
         },
         {
          "PC1": 4.7545725856801075,
          "PC2": -0.1796882908144264,
          "Population_code": "African (YRI)",
          "Sample": "NA19239"
         },
         {
          "PC1": 5.19101032056069,
          "PC2": 0.18378955745655323,
          "Population_code": "African (YRI)",
          "Sample": "NA19240"
         }
        ]
       },
       "encoding": {
        "color": {
         "field": "Population_code",
         "type": "nominal"
        },
        "x": {
         "field": "PC1",
         "type": "quantitative"
        },
        "y": {
         "field": "PC2",
         "type": "quantitative"
        }
       },
       "mark": "point"
      },
      "text/plain": [
       "<VegaLite 4 object>\n",
       "\n",
       "If you see this message, it means the renderer has not been properly enabled\n",
       "for the frontend that you are using. For more information, see\n",
       "https://altair-viz.github.io/user_guide/troubleshooting.html\n"
      ]
     },
     "execution_count": 54,
     "metadata": {},
     "output_type": "execute_result"
    }
   ],
   "source": [
    "alt.renderers.enable('mimetype')\n",
    "alt.Chart(label_plot_df.loc[label_plot_df.Population_code != 'Unknown']).mark_point().encode(\n",
    "    x = 'PC1',\n",
    "    y = 'PC2',\n",
    "    color = 'Population_code'\n",
    ")"
   ]
  }
 ],
 "metadata": {
  "kernelspec": {
   "display_name": "Python 3.8.5",
   "language": "python",
   "name": "python3"
  },
  "language_info": {
   "codemirror_mode": {
    "name": "ipython",
    "version": 3
   },
   "file_extension": ".py",
   "mimetype": "text/x-python",
   "name": "python",
   "nbconvert_exporter": "python",
   "pygments_lexer": "ipython3",
   "version": "3.8.5"
  },
  "orig_nbformat": 4,
  "vscode": {
   "interpreter": {
    "hash": "40d3a090f54c6569ab1632332b64b2c03c39dcf918b08424e98f38b5ae0af88f"
   }
  }
 },
 "nbformat": 4,
 "nbformat_minor": 2
}
